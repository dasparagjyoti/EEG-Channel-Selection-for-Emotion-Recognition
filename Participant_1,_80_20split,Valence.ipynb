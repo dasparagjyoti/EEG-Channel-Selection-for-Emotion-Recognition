{
  "nbformat": 4,
  "nbformat_minor": 0,
  "metadata": {
    "colab": {
      "name": "Participant-1, 80-20split,Valence",
      "provenance": [],
      "collapsed_sections": [],
      "include_colab_link": true
    },
    "kernelspec": {
      "display_name": "Python 3",
      "name": "python3"
    },
    "language_info": {
      "name": "python"
    }
  },
  "cells": [
    {
      "cell_type": "markdown",
      "metadata": {
        "id": "view-in-github",
        "colab_type": "text"
      },
      "source": [
        "<a href=\"https://colab.research.google.com/github/dasparagjyoti/EEG-Channel-Selection-for-Emotion-Recognition/blob/main/Participant_1%2C_80_20split%2CValence.ipynb\" target=\"_parent\"><img src=\"https://colab.research.google.com/assets/colab-badge.svg\" alt=\"Open In Colab\"/></a>"
      ]
    },
    {
      "cell_type": "markdown",
      "metadata": {
        "id": "q7tNC6EX54Fm"
      },
      "source": [
        "#**1. Data Preprocessing**#"
      ]
    },
    {
      "cell_type": "code",
      "metadata": {
        "id": "q5UDY40xrsZF"
      },
      "source": [
        "import pandas as pd\n",
        "import numpy as np\n",
        "\n",
        "import matplotlib.pyplot as plt\n",
        "import seaborn as sns\n",
        "%matplotlib inline\n",
        "\n",
        "from sklearn.model_selection import train_test_split\n",
        "\n",
        "from sklearn.feature_selection import chi2\n",
        "from sklearn.feature_selection import SelectKBest, SelectPercentile\n",
        "import warnings\n",
        "warnings.filterwarnings(\"ignore\")"
      ],
      "execution_count": null,
      "outputs": []
    },
    {
      "cell_type": "code",
      "metadata": {
        "colab": {
          "base_uri": "https://localhost:8080/"
        },
        "id": "Azg9wbOhz1XJ",
        "outputId": "275c2104-731f-4249-a699-36084e2f69ca"
      },
      "source": [
        "from google.colab import drive\n",
        "import pickle  \n",
        "drive._mount('/content/drive')\n",
        "drive.mount('/content/drive', force_remount=True)"
      ],
      "execution_count": null,
      "outputs": [
        {
          "output_type": "stream",
          "name": "stdout",
          "text": [
            "Mounted at /content/drive\n",
            "Mounted at /content/drive\n"
          ]
        }
      ]
    },
    {
      "cell_type": "code",
      "metadata": {
        "id": "XpDYOiyPQ28F"
      },
      "source": [
        "with open('/content/drive/MyDrive/data_preprocessed_python/s01.dat', 'rb') as f:\n",
        " raw_data = pickle.load(f, encoding='latin1')"
      ],
      "execution_count": null,
      "outputs": []
    },
    {
      "cell_type": "code",
      "metadata": {
        "colab": {
          "base_uri": "https://localhost:8080/"
        },
        "id": "vQUIw0XSdj5X",
        "outputId": "d6f98da8-53a5-41d9-bae6-2ba4ee616a18"
      },
      "source": [
        "!pip install skfeature-chappers"
      ],
      "execution_count": null,
      "outputs": [
        {
          "output_type": "stream",
          "name": "stdout",
          "text": [
            "Collecting skfeature-chappers\n",
            "  Downloading skfeature_chappers-1.1.0-py3-none-any.whl (66 kB)\n",
            "\u001b[?25l\r\u001b[K     |█████                           | 10 kB 22.1 MB/s eta 0:00:01\r\u001b[K     |█████████▉                      | 20 kB 26.1 MB/s eta 0:00:01\r\u001b[K     |██████████████▉                 | 30 kB 12.4 MB/s eta 0:00:01\r\u001b[K     |███████████████████▊            | 40 kB 9.3 MB/s eta 0:00:01\r\u001b[K     |████████████████████████▊       | 51 kB 4.9 MB/s eta 0:00:01\r\u001b[K     |█████████████████████████████▋  | 61 kB 5.4 MB/s eta 0:00:01\r\u001b[K     |████████████████████████████████| 66 kB 2.3 MB/s \n",
            "\u001b[?25hRequirement already satisfied: numpy in /usr/local/lib/python3.7/dist-packages (from skfeature-chappers) (1.19.5)\n",
            "Requirement already satisfied: pandas in /usr/local/lib/python3.7/dist-packages (from skfeature-chappers) (1.1.5)\n",
            "Requirement already satisfied: scikit-learn in /usr/local/lib/python3.7/dist-packages (from skfeature-chappers) (1.0.1)\n",
            "Requirement already satisfied: python-dateutil>=2.7.3 in /usr/local/lib/python3.7/dist-packages (from pandas->skfeature-chappers) (2.8.2)\n",
            "Requirement already satisfied: pytz>=2017.2 in /usr/local/lib/python3.7/dist-packages (from pandas->skfeature-chappers) (2018.9)\n",
            "Requirement already satisfied: six>=1.5 in /usr/local/lib/python3.7/dist-packages (from python-dateutil>=2.7.3->pandas->skfeature-chappers) (1.15.0)\n",
            "Requirement already satisfied: scipy>=1.1.0 in /usr/local/lib/python3.7/dist-packages (from scikit-learn->skfeature-chappers) (1.4.1)\n",
            "Requirement already satisfied: threadpoolctl>=2.0.0 in /usr/local/lib/python3.7/dist-packages (from scikit-learn->skfeature-chappers) (3.0.0)\n",
            "Requirement already satisfied: joblib>=0.11 in /usr/local/lib/python3.7/dist-packages (from scikit-learn->skfeature-chappers) (1.1.0)\n",
            "Installing collected packages: skfeature-chappers\n",
            "Successfully installed skfeature-chappers-1.1.0\n"
          ]
        }
      ]
    },
    {
      "cell_type": "code",
      "metadata": {
        "id": "kxJTyBtEeqHy"
      },
      "source": [
        "import numpy as np\n",
        "from scipy.sparse import diags\n",
        "from skfeature.function.similarity_based import fisher_score\n",
        "from skfeature.utility.construct_W import construct_W\n",
        "\n",
        "def fisher_score(X, y):\n",
        "    \"\"\"\n",
        "    This function implements the fisher score feature selection, steps are as follows:\n",
        "    1. Construct the affinity matrix W in fisher score way\n",
        "    2. For the r-th feature, we define fr = X(:,r), D = diag(W*ones), ones = [1,...,1]', L = D - W\n",
        "    3. Let fr_hat = fr - (fr'*D*ones)*ones/(ones'*D*ones)\n",
        "    4. Fisher score for the r-th feature is score = (fr_hat'*D*fr_hat)/(fr_hat'*L*fr_hat)-1\n",
        "    Input\n",
        "    -----\n",
        "    X: {numpy array}, shape (n_samples, n_features)\n",
        "        input data\n",
        "    y: {numpy array}, shape (n_samples,)\n",
        "        input class labels\n",
        "    Output\n",
        "    ------\n",
        "    score: {numpy array}, shape (n_features,)\n",
        "        fisher score for each feature\n",
        "    Reference\n",
        "    ---------\n",
        "    He, Xiaofei et al. \"Laplacian Score for Feature Selection.\" NIPS 2005.\n",
        "    Duda, Richard et al. \"Pattern classification.\" John Wiley & Sons, 2012.\n",
        "    \"\"\"\n",
        "\n",
        "    # Construct weight matrix W in a fisherScore way\n",
        "    kwargs = {\"neighbor_mode\": \"supervised\", \"fisher_score\": True, 'y': y}\n",
        "    W = construct_W(X, **kwargs)\n",
        "\n",
        "    # build the diagonal D matrix from affinity matrix W\n",
        "    D = np.array(W.sum(axis=1))\n",
        "    L = W\n",
        "    tmp = np.dot(np.transpose(D), X)\n",
        "    D = diags(np.transpose(D), [0])\n",
        "    Xt = np.transpose(X)\n",
        "    t1 = np.transpose(np.dot(Xt, D.todense()))\n",
        "    t2 = np.transpose(np.dot(Xt, L.todense()))\n",
        "    # compute the numerator of Lr\n",
        "    D_prime = np.sum(np.multiply(t1, X), 0) - np.multiply(tmp, tmp)/D.sum()\n",
        "    # compute the denominator of Lr\n",
        "    L_prime = np.sum(np.multiply(t2, X), 0) - np.multiply(tmp, tmp)/D.sum()\n",
        "    # avoid the denominator of Lr to be 0\n",
        "    D_prime[D_prime < 1e-12] = 10000\n",
        "    lap_score = 1 - np.array(np.multiply(L_prime, 1/D_prime))[0, :]\n",
        "\n",
        "    # compute fisher score from laplacian score, where fisher_score = 1/lap_score - 1\n",
        "    score = 1.0/lap_score - 1\n",
        "    return np.transpose(score)\n",
        "\n",
        "\n",
        "def feature_ranking(score):\n",
        "    \"\"\"\n",
        "    Rank features in descending order according to fisher score, the larger the fisher score, the more important the\n",
        "    feature is\n",
        "    \"\"\"\n",
        "    idx = np.argsort(score, 0)\n",
        "    return idx[::-1]"
      ],
      "execution_count": null,
      "outputs": []
    },
    {
      "cell_type": "code",
      "metadata": {
        "colab": {
          "base_uri": "https://localhost:8080/"
        },
        "id": "EpI-gFzRjgGT",
        "outputId": "e839a93c-4886-465e-ce20-c57bef3915f7"
      },
      "source": [
        "data = raw_data['data']\n",
        "labels = raw_data['labels']\n",
        "\n",
        "print(\"Labels: \", labels.shape) # trial x label\n",
        "print(\"Data: \", data.shape) # trial x channel x data"
      ],
      "execution_count": null,
      "outputs": [
        {
          "output_type": "stream",
          "name": "stdout",
          "text": [
            "Labels:  (40, 4)\n",
            "Data:  (40, 40, 8064)\n"
          ]
        }
      ]
    },
    {
      "cell_type": "code",
      "metadata": {
        "id": "FTfibgB5c63Y"
      },
      "source": [
        "\"\"\"\n",
        "em_labels = []\n",
        "for i in range(0, labels.shape[0]):\n",
        "\tif (labels[i][0]>5): #high valence\n",
        "\t\tif(labels[i][1]>5): # high arousal\n",
        "\t\t\tem_labels.append(1) # HVHA\n",
        "\t\telse:\n",
        "\t\t\tem_labels.append(0) # HVLA\n",
        "\telse: # low valence\n",
        "\t\tif(labels[i][1]>5): # high arousal\n",
        "\t\t\tem_labels.append(2) #LVHA\n",
        "\t\telse:\n",
        "\t\t\tem_labels.append(3) # LVLA\n",
        "\"\"\"\n",
        "em_labels = []\n",
        "for i in range(0, labels.shape[0]):\n",
        "\tif (labels[i][0]>5): #high valence\n",
        "\t\t\tem_labels.append(0) # HVHA\n",
        "\telse: # low valence\n",
        "\t\t\tem_labels.append(1)"
      ],
      "execution_count": null,
      "outputs": []
    },
    {
      "cell_type": "code",
      "metadata": {
        "colab": {
          "base_uri": "https://localhost:8080/"
        },
        "id": "3jCP0SMBc9iu",
        "outputId": "be351e33-1cbc-4230-eead-8e26bd410284"
      },
      "source": [
        "print(em_labels)"
      ],
      "execution_count": null,
      "outputs": [
        {
          "output_type": "stream",
          "name": "stdout",
          "text": [
            "[0, 0, 0, 1, 0, 0, 0, 0, 1, 1, 1, 1, 1, 1, 1, 0, 1, 0, 0, 0, 0, 0, 0, 0, 0, 0, 0, 1, 1, 1, 1, 1, 1, 1, 1, 1, 1, 1, 1, 0]\n"
          ]
        }
      ]
    },
    {
      "cell_type": "markdown",
      "metadata": {
        "id": "eQlRP4LrOMlk"
      },
      "source": [
        "# Fisher's Score for Theta Band"
      ]
    },
    {
      "cell_type": "code",
      "metadata": {
        "id": "Na1SqsWbr2y1"
      },
      "source": [
        "# load dataset\n",
        "data_theta = pd.read_csv('/content/1df_theta.csv')\n",
        "# features from all the channels from the theta band only\n",
        "data_theta.shape\n",
        "data_theta['videos'] = em_labels\n",
        "data_theta['videos'].unique()\n",
        "X = data_theta[['Fp1',\t'AF3',\t'F3',\t'F7',\t'FC5',\t'FC1',\t'C3',\t'T7',\t'CP5',\t'CP1',\t'P3',\t'P7',\t'PO3',\t'O1',\t'Oz',\t'Pz',\t'Fp2',\t'AF4',\t'Fz',\t'F4',\t'F8',\t'FC6',\t'FC2',\t'Cz',\t'C4',\t'T8',\t'CP6',\t'CP2',\t'P4',\t'P8',\t'PO4',\t'O2']]\n",
        "# taking only first 32 channels (EEG signals)\n",
        "y = data_theta['videos']\n",
        "X_train, X_test, y_train, y_test = train_test_split(X, y, test_size = 0.3, random_state = 0)\n",
        "X_train = np.array(X_train)\n",
        "y_train = np.array(y_train)\n",
        "f_score_theta = fisher_score(X_train, y_train)"
      ],
      "execution_count": null,
      "outputs": []
    },
    {
      "cell_type": "markdown",
      "metadata": {
        "id": "6jeXnumcG2JB"
      },
      "source": [
        "# Fisher Score for Alpha Band"
      ]
    },
    {
      "cell_type": "code",
      "metadata": {
        "id": "C7fJ9fMdGVbQ"
      },
      "source": [
        "# load dataset\n",
        "data_alpha = pd.read_csv('/content/2df_alpha.csv')\n",
        "# features from all the channels from the theta band only\n",
        "data_alpha.shape\n",
        "data_alpha['videos'] = em_labels\n",
        "data_alpha['videos'].unique()\n",
        "X = data_alpha[['Fp1',\t'AF3',\t'F3',\t'F7',\t'FC5',\t'FC1',\t'C3',\t'T7',\t'CP5',\t'CP1',\t'P3',\t'P7',\t'PO3',\t'O1',\t'Oz',\t'Pz',\t'Fp2',\t'AF4',\t'Fz',\t'F4',\t'F8',\t'FC6',\t'FC2',\t'Cz',\t'C4',\t'T8',\t'CP6',\t'CP2',\t'P4',\t'P8',\t'PO4',\t'O2']]\n",
        "# taking only first 32 channels (EEG signals)\n",
        "y = data_alpha['videos']\n",
        "y.head()\n",
        "X_train, X_test, y_train, y_test = train_test_split(X, y, test_size = 0.3, random_state = 0)\n",
        "X_train = np.array(X_train)\n",
        "y_train = np.array(y_train)\n",
        "f_score_alpha = fisher_score(X_train, y_train)"
      ],
      "execution_count": null,
      "outputs": []
    },
    {
      "cell_type": "markdown",
      "metadata": {
        "id": "Np4pvMpaWAhN"
      },
      "source": [
        "# Fisher Score for Beta Band"
      ]
    },
    {
      "cell_type": "code",
      "metadata": {
        "id": "9LA2tAAslnGK"
      },
      "source": [
        "# load dataset\n",
        "data_beta = pd.read_csv('/content/3df_beta.csv')\n",
        "# features from all the channels from the theta band only\n",
        "data_beta.shape\n",
        "data_beta['videos'] = em_labels\n",
        "data_beta['videos'].unique()\n",
        "X = data_beta[['Fp1',\t'AF3',\t'F3',\t'F7',\t'FC5',\t'FC1',\t'C3',\t'T7',\t'CP5',\t'CP1',\t'P3',\t'P7',\t'PO3',\t'O1',\t'Oz',\t'Pz',\t'Fp2',\t'AF4',\t'Fz',\t'F4',\t'F8',\t'FC6',\t'FC2',\t'Cz',\t'C4',\t'T8',\t'CP6',\t'CP2',\t'P4',\t'P8',\t'PO4',\t'O2']]\n",
        "# taking only first 32 channels (EEG signals)\n",
        "y = data_beta['videos']\n",
        "X_train = np.array(X_train)\n",
        "y_train = np.array(y_train)\n",
        "f_score_beta = fisher_score(X_train, y_train)"
      ],
      "execution_count": null,
      "outputs": []
    },
    {
      "cell_type": "markdown",
      "metadata": {
        "id": "uxn9t3hDWEBw"
      },
      "source": [
        "# Fisher Score for Gamma Band"
      ]
    },
    {
      "cell_type": "code",
      "metadata": {
        "id": "7Q0uOFsDWEBx"
      },
      "source": [
        "# load dataset\n",
        "data_gamma = pd.read_csv('/content/4df_gamma.csv')\n",
        "# features from all the channels from the theta band only\n",
        "data_gamma.shape\n",
        "data_gamma['videos'] = em_labels\n",
        "data_gamma['videos'].unique()\n",
        "X = data_gamma[['Fp1',\t'AF3',\t'F3',\t'F7',\t'FC5',\t'FC1',\t'C3',\t'T7',\t'CP5',\t'CP1',\t'P3',\t'P7',\t'PO3',\t'O1',\t'Oz',\t'Pz',\t'Fp2',\t'AF4',\t'Fz',\t'F4',\t'F8',\t'FC6',\t'FC2',\t'Cz',\t'C4',\t'T8',\t'CP6',\t'CP2',\t'P4',\t'P8',\t'PO4',\t'O2']]\n",
        "# taking only first 32 channels (EEG signals)\n",
        "y = data_gamma['videos']\n",
        "y.head()\n",
        "X_train, X_test, y_train, y_test = train_test_split(X, y, test_size = 0.3, random_state = 0)\n",
        "X_train = np.array(X_train)\n",
        "y_train = np.array(y_train)\n",
        "f_score_gamma = fisher_score(X_train, y_train)"
      ],
      "execution_count": null,
      "outputs": []
    },
    {
      "cell_type": "markdown",
      "metadata": {
        "id": "sUoClL1YB5aW"
      },
      "source": [
        "# Total Avearge F-Score(Theta,Alpha,Beta,Gamma)"
      ]
    },
    {
      "cell_type": "code",
      "metadata": {
        "id": "LCtwrlPCB5C1"
      },
      "source": [
        "final_f_score = (f_score_theta + f_score_alpha + f_score_beta + f_score_gamma)/4"
      ],
      "execution_count": null,
      "outputs": []
    },
    {
      "cell_type": "code",
      "metadata": {
        "colab": {
          "base_uri": "https://localhost:8080/"
        },
        "id": "GB2MaoDXJC0O",
        "outputId": "93dce0c5-cacb-440a-d3cf-1813936b6327"
      },
      "source": [
        "fvalues = pd.Series(final_f_score)\n",
        "X_train = pd.DataFrame(X_train)\n",
        "fvalues.index = X.columns\n",
        "fvalues.sort_values(ascending=False)\n",
        "fvalues.to_csv('fscore_final.csv')\n",
        "print(fvalues)"
      ],
      "execution_count": null,
      "outputs": [
        {
          "output_type": "stream",
          "name": "stdout",
          "text": [
            "Fp1    0.001774\n",
            "AF3    0.005493\n",
            "F3     0.003601\n",
            "F7     0.006026\n",
            "FC5    0.010173\n",
            "FC1    0.007053\n",
            "C3     0.019712\n",
            "T7     0.020898\n",
            "CP5    0.014118\n",
            "CP1    0.007893\n",
            "P3     0.007443\n",
            "P7     0.018133\n",
            "PO3    0.001538\n",
            "O1     0.002034\n",
            "Oz     0.000358\n",
            "Pz     0.005698\n",
            "Fp2    0.007796\n",
            "AF4    0.016211\n",
            "Fz     0.055144\n",
            "F4     0.025343\n",
            "F8     0.005955\n",
            "FC6    0.010683\n",
            "FC2    0.052024\n",
            "Cz     0.002295\n",
            "C4     0.029237\n",
            "T8     0.017139\n",
            "CP6    0.024783\n",
            "CP2    0.007043\n",
            "P4     0.013315\n",
            "P8     0.004628\n",
            "PO4    0.008457\n",
            "O2     0.002314\n",
            "dtype: float64\n"
          ]
        }
      ]
    },
    {
      "cell_type": "code",
      "metadata": {
        "colab": {
          "base_uri": "https://localhost:8080/",
          "height": 510
        },
        "id": "4JomiwHHuhE8",
        "outputId": "f050d6ea-ae58-4014-b1bd-c5bb65dbe830"
      },
      "source": [
        "fvalues.sort_values(ascending = False).plot.bar(figsize=(10,8))"
      ],
      "execution_count": null,
      "outputs": [
        {
          "output_type": "execute_result",
          "data": {
            "text/plain": [
              "<matplotlib.axes._subplots.AxesSubplot at 0x7f2a19fe5cd0>"
            ]
          },
          "metadata": {},
          "execution_count": 16
        },
        {
          "output_type": "display_data",
          "data": {
            "image/png": "[encoded data removed]",
            "text/plain": [
              "<Figure size 720x576 with 1 Axes>"
            ]
          },
          "metadata": {
            "needs_background": "light"
          }
        }
      ]
    },
    {
      "cell_type": "markdown",
      "metadata": {
        "id": "GJHHjtp-rOo_"
      },
      "source": [
        "# Classification"
      ]
    },
    {
      "cell_type": "markdown",
      "metadata": {
        "id": "Wt54ccMkHIIV"
      },
      "source": [
        "##Taking 'Fz' Feature(Highest Score)"
      ]
    },
    {
      "cell_type": "code",
      "metadata": {
        "id": "5PhZZyG55qSM"
      },
      "source": [
        "import numpy as np\n",
        "import pandas as pd\n",
        "from sklearn.model_selection import train_test_split\n",
        "from sklearn import svm\n",
        "from sklearn.metrics import accuracy_score"
      ],
      "execution_count": null,
      "outputs": []
    },
    {
      "cell_type": "code",
      "metadata": {
        "id": "RyDSZVATz2Pw"
      },
      "source": [
        "all_data = pd.read_csv(\"/content/7AllMerged.csv\")\n",
        "data = all_data.drop('videos', axis = 1)\n",
        "x = data[[\"FzTheta\",\"FzAlpha\",\"FzBeta\",\"FzGamma\"]]\n",
        "y = np.array(em_labels)"
      ],
      "execution_count": null,
      "outputs": []
    },
    {
      "cell_type": "code",
      "metadata": {
        "id": "xsyfwE3cZ0Wv"
      },
      "source": [
        "feature_name = all_data.columns\n",
        "feature_name = np.array(feature_name)"
      ],
      "execution_count": null,
      "outputs": []
    },
    {
      "cell_type": "code",
      "metadata": {
        "id": "33lHLy5X6G4b"
      },
      "source": [
        "x_train, x_test, y_train, y_test = train_test_split(x, y, test_size = 0.2, random_state = 0)"
      ],
      "execution_count": null,
      "outputs": []
    },
    {
      "cell_type": "code",
      "metadata": {
        "id": "7-s0QaD8SYlR",
        "colab": {
          "base_uri": "https://localhost:8080/"
        },
        "outputId": "98d44f00-06cb-4d87-991e-2e2f4f796f13"
      },
      "source": [
        "classifier = svm.SVC(kernel='poly')\n",
        "classifier.fit(x_train, y_train)\n",
        "x_train_prediction = classifier.predict(x_train)\n",
        "training_data_accuray = accuracy_score(x_train_prediction,y_train)\n",
        "print('Accuracy on training data : ', training_data_accuray)\n",
        "x_test_prediction = classifier.predict(x_test)\n",
        "test_data_accuray = accuracy_score(x_test_prediction,y_test)\n",
        "print('Accuracy on test data : ', test_data_accuray)"
      ],
      "execution_count": null,
      "outputs": [
        {
          "output_type": "stream",
          "name": "stdout",
          "text": [
            "Accuracy on training data :  0.6875\n",
            "Accuracy on test data :  0.75\n"
          ]
        }
      ]
    },
    {
      "cell_type": "markdown",
      "metadata": {
        "id": "WDsIxFnVHbvI"
      },
      "source": [
        "##Taking Fz and Fc2 Feature"
      ]
    },
    {
      "cell_type": "code",
      "metadata": {
        "id": "2rKDoB6kHcsy",
        "colab": {
          "base_uri": "https://localhost:8080/"
        },
        "outputId": "1ba04832-9ba7-4b99-ffe0-7cc506a28d40"
      },
      "source": [
        "data = all_data.drop('videos', axis = 1)\n",
        "x = data[[\"FzTheta\",\"FzAlpha\",\"FzBeta\",\"FzGamma\", \"FC2Theta\",\"FC2Alpha\",\"FC2Beta\",\"FC2Gamma\"]]\n",
        "y = np.array(em_labels)\n",
        "x_train, x_test, y_train, y_test = train_test_split(x, y, test_size = 0.2, random_state = 0)\n",
        "classifier = svm.SVC(kernel='poly')\n",
        "classifier.fit(x_train,y_train)\n",
        "x_train_prediction = classifier.predict(x_train)\n",
        "training_data_accuray = accuracy_score(x_train_prediction,y_train)\n",
        "print('Accuracy on training data : ', training_data_accuray)\n",
        "x_test_prediction = classifier.predict(x_test)\n",
        "test_data_accuray = accuracy_score(x_test_prediction,y_test)\n",
        "print('Accuracy on test data : ', test_data_accuray)"
      ],
      "execution_count": null,
      "outputs": [
        {
          "output_type": "stream",
          "name": "stdout",
          "text": [
            "Accuracy on training data :  0.6875\n",
            "Accuracy on test data :  0.75\n"
          ]
        }
      ]
    },
    {
      "cell_type": "markdown",
      "metadata": {
        "id": "fu0jhQw9bWiB"
      },
      "source": [
        "##Taking Fz and Fc2, F4 Feature"
      ]
    },
    {
      "cell_type": "code",
      "metadata": {
        "id": "csYgHSlEbVCA",
        "colab": {
          "base_uri": "https://localhost:8080/"
        },
        "outputId": "788c0a35-ceaf-4b5a-e0dc-18632c42d392"
      },
      "source": [
        "data = all_data.drop('videos', axis = 1)\n",
        "x = data[[\"FzTheta\",\"FzAlpha\",\"FzBeta\",\"FzGamma\", \"FC2Theta\",\"FC2Alpha\",\"FC2Beta\",\"FC2Gamma\", \"F4Theta\",\"F4Alpha\",\"F4Beta\",\"F4Gamma\"]]\n",
        "y = np.array(em_labels)\n",
        "x_train, x_test, y_train, y_test = train_test_split(x, y, test_size = 0.2, random_state = 0)\n",
        "classifier = svm.SVC(kernel='poly')\n",
        "classifier.fit(x_train,y_train)\n",
        "x_train_prediction = classifier.predict(x_train)\n",
        "training_data_accuray = accuracy_score(x_train_prediction,y_train)\n",
        "print('Accuracy on training data : ', training_data_accuray)\n",
        "x_test_prediction = classifier.predict(x_test)\n",
        "test_data_accuray = accuracy_score(x_test_prediction,y_test)\n",
        "print('Accuracy on test data : ', test_data_accuray)"
      ],
      "execution_count": null,
      "outputs": [
        {
          "output_type": "stream",
          "name": "stdout",
          "text": [
            "Accuracy on training data :  0.65625\n",
            "Accuracy on test data :  0.875\n"
          ]
        }
      ]
    },
    {
      "cell_type": "markdown",
      "metadata": {
        "id": "4cQmHxXnkzX2"
      },
      "source": [
        "##Taking Fz and Fc2, F4, CP6 Feature"
      ]
    },
    {
      "cell_type": "code",
      "metadata": {
        "id": "3xM5zXPok0Iv",
        "colab": {
          "base_uri": "https://localhost:8080/"
        },
        "outputId": "8d36f189-e5f1-47e5-c445-952d524fa36e"
      },
      "source": [
        "data = all_data.drop('videos', axis = 1)\n",
        "x = data[[\"FzTheta\",\"FzAlpha\",\"FzBeta\",\"FzGamma\", \"FC2Theta\",\"FC2Alpha\",\"FC2Beta\",\"FC2Gamma\",\\\n",
        "          \"F4Theta\",\"F4Alpha\",\"F4Beta\",\"F4Gamma\", \"CP6Theta\",\"CP6Alpha\",\"CP6Beta\",\"CP6Gamma\"]]\n",
        "y = np.array(em_labels)\n",
        "x_train, x_test, y_train, y_test = train_test_split(x, y, test_size = 0.2, random_state = 0)\n",
        "classifier = svm.SVC(kernel='poly')\n",
        "classifier.fit(x_train,y_train)\n",
        "x_train_prediction = classifier.predict(x_train)\n",
        "training_data_accuray = accuracy_score(x_train_prediction,y_train)\n",
        "print('Accuracy on training data : ', training_data_accuray)\n",
        "x_test_prediction = classifier.predict(x_test)\n",
        "test_data_accuray = accuracy_score(x_test_prediction,y_test)\n",
        "print('Accuracy on test data : ', test_data_accuray)"
      ],
      "execution_count": null,
      "outputs": [
        {
          "output_type": "stream",
          "name": "stdout",
          "text": [
            "Accuracy on training data :  0.65625\n",
            "Accuracy on test data :  0.875\n"
          ]
        }
      ]
    },
    {
      "cell_type": "markdown",
      "metadata": {
        "id": "LWvyfxP0fjkD"
      },
      "source": [
        "##Taking Fz and Fc2, F4, CP6, AF4 Feature"
      ]
    },
    {
      "cell_type": "code",
      "metadata": {
        "id": "NK0tszlNfjkD",
        "colab": {
          "base_uri": "https://localhost:8080/"
        },
        "outputId": "5532060b-a1ce-445e-d7ac-d5335cbf2b33"
      },
      "source": [
        "data = all_data.drop('videos', axis = 1)\n",
        "x = data[[\"FzTheta\",\"FzAlpha\",\"FzBeta\",\"FzGamma\", \"FC2Theta\",\"FC2Alpha\",\"FC2Beta\",\"FC2Gamma\"\\\n",
        "          ,\"F4Theta\",\"F4Alpha\",\"F4Beta\",\"F4Gamma\", \"CP6Theta\",\"CP6Alpha\",\"CP6Beta\",\"CP6Gamma\"\\\n",
        "          ,\"AF4Theta\",\"AF4Alpha\",\"AF4Beta\",\"AF4Gamma\"]]\n",
        "y = np.array(em_labels)\n",
        "x_train, x_test, y_train, y_test = train_test_split(x, y, test_size = 0.2, random_state = 0)\n",
        "classifier = svm.SVC(kernel='poly')\n",
        "classifier.fit(x_train,y_train)\n",
        "x_train_prediction = classifier.predict(x_train)\n",
        "training_data_accuray = accuracy_score(x_train_prediction,y_train)\n",
        "print('Accuracy on training data : ', training_data_accuray)\n",
        "x_test_prediction = classifier.predict(x_test)\n",
        "test_data_accuray = accuracy_score(x_test_prediction,y_test)\n",
        "print('Accuracy on test data : ', test_data_accuray)"
      ],
      "execution_count": null,
      "outputs": [
        {
          "output_type": "stream",
          "name": "stdout",
          "text": [
            "Accuracy on training data :  0.625\n",
            "Accuracy on test data :  0.875\n"
          ]
        }
      ]
    },
    {
      "cell_type": "markdown",
      "metadata": {
        "id": "F3I-Eaa5nZxR"
      },
      "source": [
        "##Taking Fz and Fc2, F4, CP6, AF4, CP1 Feature"
      ]
    },
    {
      "cell_type": "code",
      "metadata": {
        "colab": {
          "base_uri": "https://localhost:8080/"
        },
        "id": "PNn69PIhmrw3",
        "outputId": "62872d3f-ddb8-487f-81a4-0aa9a8be6621"
      },
      "source": [
        "data = all_data.drop('videos', axis = 1)\n",
        "x = data[[\"FzTheta\",\"FzAlpha\",\"FzBeta\",\"FzGamma\", \"FC2Theta\",\"FC2Alpha\",\"FC2Beta\",\"FC2Gamma\"\\\n",
        "          ,\"F4Theta\",\"F4Alpha\",\"F4Beta\",\"F4Gamma\", \"CP6Theta\",\"CP6Alpha\",\"CP6Beta\",\"CP6Gamma\"\\\n",
        "          ,\"AF4Theta\",\"AF4Alpha\",\"AF4Beta\",\"AF4Gamma\", \"CP1Theta\",\"CP1Alpha\",\"CP1Beta\",\"CP1Gamma\"]]\n",
        "y = np.array(em_labels)\n",
        "x_train, x_test, y_train, y_test = train_test_split(x, y, test_size = 0.2, random_state = 0)\n",
        "classifier = svm.SVC(kernel='poly')\n",
        "classifier.fit(x_train,y_train)\n",
        "x_train_prediction = classifier.predict(x_train)\n",
        "training_data_accuray = accuracy_score(x_train_prediction,y_train)\n",
        "print('Accuracy on training data : ', training_data_accuray)\n",
        "x_test_prediction = classifier.predict(x_test)\n",
        "test_data_accuray = accuracy_score(x_test_prediction,y_test)\n",
        "print('Accuracy on test data : ', test_data_accuray)"
      ],
      "execution_count": null,
      "outputs": [
        {
          "output_type": "stream",
          "name": "stdout",
          "text": [
            "Accuracy on training data :  0.65625\n",
            "Accuracy on test data :  0.875\n"
          ]
        }
      ]
    },
    {
      "cell_type": "markdown",
      "metadata": {
        "id": "TbPfS-zQoH6J"
      },
      "source": [
        "##Taking Fz and Fc2, F4, CP6, AF4, CP1, FC1 Feature"
      ]
    },
    {
      "cell_type": "code",
      "metadata": {
        "colab": {
          "base_uri": "https://localhost:8080/"
        },
        "id": "mewHyapnn5Vi",
        "outputId": "d63213cd-5c05-4621-bda2-1d0951d459fe"
      },
      "source": [
        "data = all_data.drop('videos', axis = 1)\n",
        "x = data[[\"FzTheta\",\"FzAlpha\",\"FzBeta\",\"FzGamma\", \"FC2Theta\",\"FC2Alpha\",\"FC2Beta\",\"FC2Gamma\"\\\n",
        "          ,\"F4Theta\",\"F4Alpha\",\"F4Beta\",\"F4Gamma\", \"CP6Theta\",\"CP6Alpha\",\"CP6Beta\",\"CP6Gamma\"\\\n",
        "          ,\"AF4Theta\",\"AF4Alpha\",\"AF4Beta\",\"AF4Gamma\", \"CP1Theta\",\"CP1Alpha\",\"CP1Beta\",\"CP1Gamma\",\n",
        "          \"FC1Theta\",\"FC1Alpha\",\"FC1Beta\",\"FC1Gamma\"]]\n",
        "y = np.array(em_labels)\n",
        "x_train, x_test, y_train, y_test = train_test_split(x, y, test_size = 0.2, random_state = 0)\n",
        "classifier = svm.SVC(kernel='poly')\n",
        "classifier.fit(x_train,y_train)\n",
        "x_train_prediction = classifier.predict(x_train)\n",
        "training_data_accuray = accuracy_score(x_train_prediction,y_train)\n",
        "print('Accuracy on training data : ', training_data_accuray)\n",
        "x_test_prediction = classifier.predict(x_test)\n",
        "test_data_accuray = accuracy_score(x_test_prediction,y_test)\n",
        "print('Accuracy on test data : ', test_data_accuray)"
      ],
      "execution_count": null,
      "outputs": [
        {
          "output_type": "stream",
          "name": "stdout",
          "text": [
            "Accuracy on training data :  0.65625\n",
            "Accuracy on test data :  0.875\n"
          ]
        }
      ]
    },
    {
      "cell_type": "markdown",
      "metadata": {
        "id": "ufo7iueIol43"
      },
      "source": [
        "##Taking Fz and Fc2, F4, CP6, AF4, CP1, FC1, CP2 Feature"
      ]
    },
    {
      "cell_type": "code",
      "metadata": {
        "colab": {
          "base_uri": "https://localhost:8080/"
        },
        "id": "FDqF62INoR-t",
        "outputId": "4054da27-f9bf-4be9-e1ec-598c48f4a8fd"
      },
      "source": [
        "data = all_data.drop('videos', axis = 1)\n",
        "x = data[[\"FzTheta\",\"FzAlpha\",\"FzBeta\",\"FzGamma\", \"FC2Theta\",\"FC2Alpha\",\"FC2Beta\",\"FC2Gamma\"\\\n",
        "          ,\"F4Theta\",\"F4Alpha\",\"F4Beta\",\"F4Gamma\", \"CP6Theta\",\"CP6Alpha\",\"CP6Beta\",\"CP6Gamma\"\\\n",
        "          ,\"AF4Theta\",\"AF4Alpha\",\"AF4Beta\",\"AF4Gamma\", \"CP1Theta\",\"CP1Alpha\",\"CP1Beta\",\"CP1Gamma\",\n",
        "          \"FC1Theta\",\"FC1Alpha\",\"FC1Beta\",\"FC1Gamma\", \"CP2Theta\",\"CP2Alpha\",\"CP2Beta\",\"CP2Gamma\"]]\n",
        "y = np.array(em_labels)\n",
        "x_train, x_test, y_train, y_test = train_test_split(x, y, test_size = 0.2, random_state = 0)\n",
        "classifier = svm.SVC(kernel='poly')\n",
        "classifier.fit(x_train,y_train)\n",
        "x_train_prediction = classifier.predict(x_train)\n",
        "training_data_accuray = accuracy_score(x_train_prediction,y_train)\n",
        "print('Accuracy on training data : ', training_data_accuray)\n",
        "x_test_prediction = classifier.predict(x_test)\n",
        "test_data_accuray = accuracy_score(x_test_prediction,y_test)\n",
        "print('Accuracy on test data : ', test_data_accuray)"
      ],
      "execution_count": null,
      "outputs": [
        {
          "output_type": "stream",
          "name": "stdout",
          "text": [
            "Accuracy on training data :  0.65625\n",
            "Accuracy on test data :  0.875\n"
          ]
        }
      ]
    },
    {
      "cell_type": "code",
      "metadata": {
        "colab": {
          "base_uri": "https://localhost:8080/"
        },
        "id": "LGJk4O81oy9n",
        "outputId": "450b9f87-62a2-48bc-8c1b-6ff71e0435f2"
      },
      "source": [
        "data = all_data.drop('videos', axis = 1)\n",
        "x = data[[\"FzTheta\",\"FzAlpha\",\"FzBeta\",\"FzGamma\", \"FC2Theta\",\"FC2Alpha\",\"FC2Beta\",\"FC2Gamma\"\\\n",
        "          ,\"F4Theta\",\"F4Alpha\",\"F4Beta\",\"F4Gamma\", \"CP6Theta\",\"CP6Alpha\",\"CP6Beta\",\"CP6Gamma\"\\\n",
        "          ,\"AF4Theta\",\"AF4Alpha\",\"AF4Beta\",\"AF4Gamma\", \"CP1Theta\",\"CP1Alpha\",\"CP1Beta\",\"CP1Gamma\"\\\n",
        "          ,\"FC1Theta\",\"FC1Alpha\",\"FC1Beta\",\"FC1Gamma\", \"CP2Theta\",\"CP2Alpha\",\"CP2Beta\",\"CP2Gamma\"]]\n",
        "y = np.array(em_labels)\n",
        "x_train, x_test, y_train, y_test = train_test_split(x, y, test_size = 0.2, random_state = 0)\n",
        "classifier = svm.SVC(kernel='poly')\n",
        "classifier.fit(x_train,y_train)\n",
        "x_train_prediction = classifier.predict(x_train)\n",
        "training_data_accuray = accuracy_score(x_train_prediction,y_train)\n",
        "print('Accuracy on training data : ', training_data_accuray)\n",
        "x_test_prediction = classifier.predict(x_test)\n",
        "test_data_accuray = accuracy_score(x_test_prediction,y_test)\n",
        "print('Accuracy on test data : ', test_data_accuray)"
      ],
      "execution_count": null,
      "outputs": [
        {
          "output_type": "stream",
          "name": "stdout",
          "text": [
            "Accuracy on training data :  0.65625\n",
            "Accuracy on test data :  0.875\n"
          ]
        }
      ]
    },
    {
      "cell_type": "code",
      "metadata": {
        "id": "oMN4U8HziwTI"
      },
      "source": [
        ""
      ],
      "execution_count": null,
      "outputs": []
    },
    {
      "cell_type": "code",
      "metadata": {
        "id": "qF2t8gXziwbt"
      },
      "source": [
        ""
      ],
      "execution_count": null,
      "outputs": []
    },
    {
      "cell_type": "code",
      "metadata": {
        "id": "PHSqiRQViwep"
      },
      "source": [
        ""
      ],
      "execution_count": null,
      "outputs": []
    },
    {
      "cell_type": "code",
      "metadata": {
        "id": "IuO8E1H1iwhT"
      },
      "source": [
        ""
      ],
      "execution_count": null,
      "outputs": []
    },
    {
      "cell_type": "code",
      "metadata": {
        "id": "BJGIHEEwiwkX"
      },
      "source": [
        ""
      ],
      "execution_count": null,
      "outputs": []
    },
    {
      "cell_type": "markdown",
      "metadata": {
        "id": "2l3aa2Bhpn9V"
      },
      "source": [
        "#**1. Data Preprocessing**#"
      ]
    },
    {
      "cell_type": "code",
      "metadata": {
        "id": "dsjwSBJzpn9W"
      },
      "source": [
        "import pandas as pd\n",
        "import numpy as np\n",
        "\n",
        "import matplotlib.pyplot as plt\n",
        "import seaborn as sns\n",
        "%matplotlib inline\n",
        "\n",
        "from sklearn.model_selection import train_test_split\n",
        "\n",
        "from sklearn.feature_selection import chi2\n",
        "from sklearn.feature_selection import SelectKBest, SelectPercentile\n",
        "import warnings\n",
        "warnings.filterwarnings(\"ignore\")"
      ],
      "execution_count": null,
      "outputs": []
    },
    {
      "cell_type": "code",
      "metadata": {
        "colab": {
          "base_uri": "https://localhost:8080/"
        },
        "id": "E1q7K15hpn9W",
        "outputId": "ec10c1f1-169d-474a-e202-993bc9874ada"
      },
      "source": [
        "from google.colab import drive\n",
        "import pickle  \n",
        "drive._mount('/content/drive')\n",
        "drive.mount('/content/drive', force_remount=True)"
      ],
      "execution_count": null,
      "outputs": [
        {
          "output_type": "stream",
          "name": "stdout",
          "text": [
            "Mounted at /content/drive\n",
            "Mounted at /content/drive\n"
          ]
        }
      ]
    },
    {
      "cell_type": "code",
      "metadata": {
        "id": "6pnmJcmdpn9Y"
      },
      "source": [
        "with open('/content/drive/MyDrive/data_preprocessed_python/s01.dat', 'rb') as f:\n",
        " raw_data = pickle.load(f, encoding='latin1')"
      ],
      "execution_count": null,
      "outputs": []
    },
    {
      "cell_type": "code",
      "metadata": {
        "id": "Smqczw7Rtm8k",
        "colab": {
          "base_uri": "https://localhost:8080/"
        },
        "outputId": "6db24f6a-55b3-47e8-c9bf-b2ea78ef3849"
      },
      "source": [
        "pip install skfeature-chappers"
      ],
      "execution_count": null,
      "outputs": [
        {
          "output_type": "stream",
          "name": "stdout",
          "text": [
            "Collecting skfeature-chappers\n",
            "  Downloading skfeature_chappers-1.1.0-py3-none-any.whl (66 kB)\n",
            "\u001b[?25l\r\u001b[K     |█████                           | 10 kB 25.0 MB/s eta 0:00:01\r\u001b[K     |█████████▉                      | 20 kB 26.2 MB/s eta 0:00:01\r\u001b[K     |██████████████▉                 | 30 kB 11.7 MB/s eta 0:00:01\r\u001b[K     |███████████████████▊            | 40 kB 9.4 MB/s eta 0:00:01\r\u001b[K     |████████████████████████▊       | 51 kB 5.2 MB/s eta 0:00:01\r\u001b[K     |█████████████████████████████▋  | 61 kB 5.7 MB/s eta 0:00:01\r\u001b[K     |████████████████████████████████| 66 kB 2.6 MB/s \n",
            "\u001b[?25hRequirement already satisfied: scikit-learn in /usr/local/lib/python3.7/dist-packages (from skfeature-chappers) (1.0.1)\n",
            "Requirement already satisfied: numpy in /usr/local/lib/python3.7/dist-packages (from skfeature-chappers) (1.19.5)\n",
            "Requirement already satisfied: pandas in /usr/local/lib/python3.7/dist-packages (from skfeature-chappers) (1.1.5)\n",
            "Requirement already satisfied: python-dateutil>=2.7.3 in /usr/local/lib/python3.7/dist-packages (from pandas->skfeature-chappers) (2.8.2)\n",
            "Requirement already satisfied: pytz>=2017.2 in /usr/local/lib/python3.7/dist-packages (from pandas->skfeature-chappers) (2018.9)\n",
            "Requirement already satisfied: six>=1.5 in /usr/local/lib/python3.7/dist-packages (from python-dateutil>=2.7.3->pandas->skfeature-chappers) (1.15.0)\n",
            "Requirement already satisfied: joblib>=0.11 in /usr/local/lib/python3.7/dist-packages (from scikit-learn->skfeature-chappers) (1.1.0)\n",
            "Requirement already satisfied: threadpoolctl>=2.0.0 in /usr/local/lib/python3.7/dist-packages (from scikit-learn->skfeature-chappers) (3.0.0)\n",
            "Requirement already satisfied: scipy>=1.1.0 in /usr/local/lib/python3.7/dist-packages (from scikit-learn->skfeature-chappers) (1.4.1)\n",
            "Installing collected packages: skfeature-chappers\n",
            "Successfully installed skfeature-chappers-1.1.0\n"
          ]
        }
      ]
    },
    {
      "cell_type": "code",
      "metadata": {
        "id": "NE2q55fxpn9Z"
      },
      "source": [
        "import numpy as np\n",
        "from skfeature.utility.construct_W import construct_W\n",
        "from scipy.sparse import diags\n",
        "\n",
        "def fisher_score(X, y):\n",
        "    \"\"\"\n",
        "    This function implements the fisher score feature selection, steps are as follows:\n",
        "    1. Construct the affinity matrix W in fisher score way\n",
        "    2. For the r-th feature, we define fr = X(:,r), D = diag(W*ones), ones = [1,...,1]', L = D - W\n",
        "    3. Let fr_hat = fr - (fr'*D*ones)*ones/(ones'*D*ones)\n",
        "    4. Fisher score for the r-th feature is score = (fr_hat'*D*fr_hat)/(fr_hat'*L*fr_hat)-1\n",
        "    Input\n",
        "    -----\n",
        "    X: {numpy array}, shape (n_samples, n_features)\n",
        "        input data\n",
        "    y: {numpy array}, shape (n_samples,)\n",
        "        input class labels\n",
        "    Output\n",
        "    ------\n",
        "    score: {numpy array}, shape (n_features,)\n",
        "        fisher score for each feature\n",
        "    Reference\n",
        "    ---------\n",
        "    He, Xiaofei et al. \"Laplacian Score for Feature Selection.\" NIPS 2005.\n",
        "    Duda, Richard et al. \"Pattern classification.\" John Wiley & Sons, 2012.\n",
        "    \"\"\"\n",
        "\n",
        "    # Construct weight matrix W in a fisherScore way\n",
        "    kwargs = {\"neighbor_mode\": \"supervised\", \"fisher_score\": True, 'y': y}\n",
        "    W = construct_W(X, **kwargs)\n",
        "\n",
        "    # build the diagonal D matrix from affinity matrix W\n",
        "    D = np.array(W.sum(axis=1))\n",
        "    L = W\n",
        "    tmp = np.dot(np.transpose(D), X)\n",
        "    D = diags(np.transpose(D), [0])\n",
        "    Xt = np.transpose(X)\n",
        "    t1 = np.transpose(np.dot(Xt, D.todense()))\n",
        "    t2 = np.transpose(np.dot(Xt, L.todense()))\n",
        "    # compute the numerator of Lr\n",
        "    D_prime = np.sum(np.multiply(t1, X), 0) - np.multiply(tmp, tmp)/D.sum()\n",
        "    # compute the denominator of Lr\n",
        "    L_prime = np.sum(np.multiply(t2, X), 0) - np.multiply(tmp, tmp)/D.sum()\n",
        "    # avoid the denominator of Lr to be 0\n",
        "    D_prime[D_prime < 1e-12] = 10000\n",
        "    lap_score = 1 - np.array(np.multiply(L_prime, 1/D_prime))[0, :]\n",
        "\n",
        "    # compute fisher score from laplacian score, where fisher_score = 1/lap_score - 1\n",
        "    score = 1.0/lap_score - 1\n",
        "    return np.transpose(score)\n",
        "\n",
        "\n",
        "def feature_ranking(score):\n",
        "    \"\"\"\n",
        "    Rank features in descending order according to fisher score, the larger the fisher score, the more important the\n",
        "    feature is\n",
        "    \"\"\"\n",
        "    idx = np.argsort(score, 0)\n",
        "    return idx[::-1]"
      ],
      "execution_count": null,
      "outputs": []
    },
    {
      "cell_type": "code",
      "metadata": {
        "colab": {
          "base_uri": "https://localhost:8080/"
        },
        "id": "Aa4BwpsTpn9Z",
        "outputId": "d2f92366-3d23-4377-857d-37cb57f79f49"
      },
      "source": [
        "data = raw_data['data']\n",
        "labels = raw_data['labels']\n",
        "\n",
        "print(\"Labels: \", labels.shape) # trial x label\n",
        "print(\"Data: \", data.shape) # trial x channel x data"
      ],
      "execution_count": null,
      "outputs": [
        {
          "output_type": "stream",
          "name": "stdout",
          "text": [
            "Labels:  (40, 4)\n",
            "Data:  (40, 40, 8064)\n"
          ]
        }
      ]
    },
    {
      "cell_type": "code",
      "metadata": {
        "id": "fpwwKiaIpn9a"
      },
      "source": [
        "\"\"\"\n",
        "em_labels = []\n",
        "for i in range(0, labels.shape[0]):\n",
        "\tif (labels[i][0]>5): #high valence\n",
        "\t\tif(labels[i][1]>5): # high arousal\n",
        "\t\t\tem_labels.append(1) # HVHA\n",
        "\t\telse:\n",
        "\t\t\tem_labels.append(0) # HVLA\n",
        "\telse: # low valence\n",
        "\t\tif(labels[i][1]>5): # high arousal\n",
        "\t\t\tem_labels.append(2) #LVHA\n",
        "\t\telse:\n",
        "\t\t\tem_labels.append(3) # LVLA\n",
        "\"\"\"\n",
        "em_labels = []\n",
        "for i in range(0, labels.shape[0]):\n",
        "\tif (labels[i][0]>5): #high arousal\n",
        "\t\t\tem_labels.append(0) # HVHA\n",
        "\telse: # low arousal\n",
        "\t\t\tem_labels.append(1)"
      ],
      "execution_count": null,
      "outputs": []
    },
    {
      "cell_type": "code",
      "metadata": {
        "colab": {
          "base_uri": "https://localhost:8080/"
        },
        "id": "KjcVMB5opn9a",
        "outputId": "9f7d1176-56f9-459f-f0ce-32b4edc369b2"
      },
      "source": [
        "print(em_labels)"
      ],
      "execution_count": null,
      "outputs": [
        {
          "output_type": "stream",
          "name": "stdout",
          "text": [
            "[0, 0, 0, 1, 0, 0, 0, 0, 1, 1, 1, 1, 1, 1, 1, 0, 1, 0, 0, 0, 0, 0, 0, 0, 0, 0, 0, 1, 1, 1, 1, 1, 1, 1, 1, 1, 1, 1, 1, 0]\n"
          ]
        }
      ]
    },
    {
      "cell_type": "markdown",
      "metadata": {
        "id": "LbdaX8Btpn9b"
      },
      "source": [
        "# Fisher's Score for Theta Band"
      ]
    },
    {
      "cell_type": "code",
      "metadata": {
        "id": "z7C9QjSWpn9b"
      },
      "source": [
        "# load dataset\n",
        "data_theta = pd.read_csv('/1df_theta.csv')\n",
        "# features from all the channels from the theta band only\n",
        "data_theta.shape\n",
        "data_theta['videos'] = em_labels\n",
        "data_theta['videos'].unique()\n",
        "X = data_theta[['Fp1',\t'AF3',\t'F3',\t'F7',\t'FC5',\t'FC1',\t'C3',\t'T7',\t'CP5',\t'CP1',\t'P3',\t'P7',\t'PO3',\t'O1',\t'Oz',\t'Pz',\t'Fp2',\t'AF4',\t'Fz',\t'F4',\t'F8',\t'FC6',\t'FC2',\t'Cz',\t'C4',\t'T8',\t'CP6',\t'CP2',\t'P4',\t'P8',\t'PO4',\t'O2']]\n",
        "# taking only first 32 channels (EEG signals)\n",
        "y = data_theta['videos']\n",
        "X_train, X_test, y_train, y_test = train_test_split(X, y, test_size = 0.3, random_state = 0)\n",
        "X_train = np.array(X_train)\n",
        "y_train = np.array(y_train)\n",
        "f_score_theta = fisher_score(X_train, y_train)"
      ],
      "execution_count": null,
      "outputs": []
    },
    {
      "cell_type": "markdown",
      "metadata": {
        "id": "rChfCK7Jpn9b"
      },
      "source": [
        "# Fisher Score for Alpha Band"
      ]
    },
    {
      "cell_type": "code",
      "metadata": {
        "id": "bEDmGM0lpn9b"
      },
      "source": [
        "# load dataset\n",
        "data_alpha = pd.read_csv('/2df_alpha.csv')\n",
        "# features from all the channels from the theta band only\n",
        "data_alpha.shape\n",
        "data_alpha['videos'] = em_labels\n",
        "data_alpha['videos'].unique()\n",
        "X = data_alpha[['Fp1',\t'AF3',\t'F3',\t'F7',\t'FC5',\t'FC1',\t'C3',\t'T7',\t'CP5',\t'CP1',\t'P3',\t'P7',\t'PO3',\t'O1',\t'Oz',\t'Pz',\t'Fp2',\t'AF4',\t'Fz',\t'F4',\t'F8',\t'FC6',\t'FC2',\t'Cz',\t'C4',\t'T8',\t'CP6',\t'CP2',\t'P4',\t'P8',\t'PO4',\t'O2']]\n",
        "# taking only first 32 channels (EEG signals)\n",
        "y = data_alpha['videos']\n",
        "y.head()\n",
        "X_train, X_test, y_train, y_test = train_test_split(X, y, test_size = 0.3, random_state = 0)\n",
        "X_train = np.array(X_train)\n",
        "y_train = np.array(y_train)\n",
        "f_score_alpha = fisher_score(X_train, y_train)"
      ],
      "execution_count": null,
      "outputs": []
    },
    {
      "cell_type": "markdown",
      "metadata": {
        "id": "6Ip3Oh5gpn9c"
      },
      "source": [
        "# Fisher Score for Beta Band"
      ]
    },
    {
      "cell_type": "code",
      "metadata": {
        "id": "PQS3RU4Qpn9c"
      },
      "source": [
        "# load dataset\n",
        "data_beta = pd.read_csv('/3df_beta.csv')\n",
        "# features from all the channels from the theta band only\n",
        "data_beta.shape\n",
        "data_beta['videos'] = em_labels\n",
        "data_beta['videos'].unique()\n",
        "X = data_beta[['Fp1',\t'AF3',\t'F3',\t'F7',\t'FC5',\t'FC1',\t'C3',\t'T7',\t'CP5',\t'CP1',\t'P3',\t'P7',\t'PO3',\t'O1',\t'Oz',\t'Pz',\t'Fp2',\t'AF4',\t'Fz',\t'F4',\t'F8',\t'FC6',\t'FC2',\t'Cz',\t'C4',\t'T8',\t'CP6',\t'CP2',\t'P4',\t'P8',\t'PO4',\t'O2']]\n",
        "# taking only first 32 channels (EEG signals)\n",
        "y = data_beta['videos']\n",
        "X_train = np.array(X_train)\n",
        "y_train = np.array(y_train)\n",
        "f_score_beta = fisher_score(X_train, y_train)"
      ],
      "execution_count": null,
      "outputs": []
    },
    {
      "cell_type": "markdown",
      "metadata": {
        "id": "xGrOs_Ygpn9c"
      },
      "source": [
        "# Fisher Score for Gamma Band"
      ]
    },
    {
      "cell_type": "code",
      "metadata": {
        "id": "ZTI-GPTUpn9d"
      },
      "source": [
        "# load dataset\n",
        "data_gamma = pd.read_csv('/4df_gamma.csv')\n",
        "# features from all the channels from the theta band only\n",
        "data_gamma.shape\n",
        "data_gamma['videos'] = em_labels\n",
        "data_gamma['videos'].unique()\n",
        "X = data_gamma[['Fp1',\t'AF3',\t'F3',\t'F7',\t'FC5',\t'FC1',\t'C3',\t'T7',\t'CP5',\t'CP1',\t'P3',\t'P7',\t'PO3',\t'O1',\t'Oz',\t'Pz',\t'Fp2',\t'AF4',\t'Fz',\t'F4',\t'F8',\t'FC6',\t'FC2',\t'Cz',\t'C4',\t'T8',\t'CP6',\t'CP2',\t'P4',\t'P8',\t'PO4',\t'O2']]\n",
        "# taking only first 32 channels (EEG signals)\n",
        "y = data_gamma['videos']\n",
        "y.head()\n",
        "X_train, X_test, y_train, y_test = train_test_split(X, y, test_size = 0.3, random_state = 0)\n",
        "X_train = np.array(X_train)\n",
        "y_train = np.array(y_train)\n",
        "f_score_gamma = fisher_score(X_train, y_train)"
      ],
      "execution_count": null,
      "outputs": []
    },
    {
      "cell_type": "markdown",
      "metadata": {
        "id": "zHPpOJwHpn9d"
      },
      "source": [
        "# Total Avearge F-Score(Theta,Alpha,Beta,Gamma)"
      ]
    },
    {
      "cell_type": "code",
      "metadata": {
        "id": "WXU8DiJBpn9d"
      },
      "source": [
        "final_f_score = (f_score_theta + f_score_alpha + f_score_beta + f_score_gamma)/4"
      ],
      "execution_count": null,
      "outputs": []
    },
    {
      "cell_type": "code",
      "metadata": {
        "colab": {
          "base_uri": "https://localhost:8080/"
        },
        "id": "2rLL8tTHpn9d",
        "outputId": "09c6b1c5-ba09-479e-fabd-dc4b2e7027eb"
      },
      "source": [
        "fvalues = pd.Series(final_f_score)\n",
        "X_train = pd.DataFrame(X_train)\n",
        "fvalues.index = X.columns\n",
        "fvalues.sort_values(ascending=False)\n",
        "fvalues.to_csv('fscore_final.csv')\n",
        "print(fvalues)"
      ],
      "execution_count": null,
      "outputs": [
        {
          "output_type": "stream",
          "name": "stdout",
          "text": [
            "Fp1    0.001774\n",
            "AF3    0.005493\n",
            "F3     0.003601\n",
            "F7     0.006026\n",
            "FC5    0.010173\n",
            "FC1    0.007053\n",
            "C3     0.019712\n",
            "T7     0.020898\n",
            "CP5    0.014118\n",
            "CP1    0.007893\n",
            "P3     0.007443\n",
            "P7     0.018133\n",
            "PO3    0.001538\n",
            "O1     0.002034\n",
            "Oz     0.000358\n",
            "Pz     0.005698\n",
            "Fp2    0.007796\n",
            "AF4    0.016211\n",
            "Fz     0.055144\n",
            "F4     0.025343\n",
            "F8     0.005955\n",
            "FC6    0.010683\n",
            "FC2    0.052024\n",
            "Cz     0.002295\n",
            "C4     0.029237\n",
            "T8     0.017139\n",
            "CP6    0.024783\n",
            "CP2    0.007043\n",
            "P4     0.013315\n",
            "P8     0.004628\n",
            "PO4    0.008457\n",
            "O2     0.002314\n",
            "dtype: float64\n"
          ]
        }
      ]
    },
    {
      "cell_type": "code",
      "metadata": {
        "colab": {
          "base_uri": "https://localhost:8080/",
          "height": 510
        },
        "id": "PHXZUfUnpn9e",
        "outputId": "1ec329a5-56de-403c-95f2-a51ff8f2e8e7"
      },
      "source": [
        "fvalues.sort_values(ascending = False).plot.bar(figsize=(10,8))"
      ],
      "execution_count": null,
      "outputs": [
        {
          "output_type": "execute_result",
          "data": {
            "text/plain": [
              "<matplotlib.axes._subplots.AxesSubplot at 0x7f4467e21c90>"
            ]
          },
          "metadata": {},
          "execution_count": 18
        },
        {
          "output_type": "display_data",
          "data": {
            "image/png": "[encoded data removed]",
            "text/plain": [
              "<Figure size 720x576 with 1 Axes>"
            ]
          },
          "metadata": {
            "needs_background": "light"
          }
        }
      ]
    },
    {
      "cell_type": "code",
      "metadata": {
        "colab": {
          "base_uri": "https://localhost:8080/"
        },
        "id": "4InNTnkPUZwn",
        "outputId": "de2d016f-fa2b-49e5-f1da-eedd3fe2060e"
      },
      "source": [
        "shyam = fvalues.sort_values(ascending = False)\n",
        "da = pd.DataFrame(shyam)\n",
        "da.to_csv(\"channel_rank.csv\")\n",
        "cr = pd.read_csv(\"channel_rank.csv\")\n",
        "list(cr[\"Unnamed: 0\"])"
      ],
      "execution_count": null,
      "outputs": [
        {
          "output_type": "execute_result",
          "data": {
            "text/plain": [
              "['Fz',\n",
              " 'FC2',\n",
              " 'C4',\n",
              " 'F4',\n",
              " 'CP6',\n",
              " 'T7',\n",
              " 'C3',\n",
              " 'P7',\n",
              " 'T8',\n",
              " 'AF4',\n",
              " 'CP5',\n",
              " 'P4',\n",
              " 'FC6',\n",
              " 'FC5',\n",
              " 'PO4',\n",
              " 'CP1',\n",
              " 'Fp2',\n",
              " 'P3',\n",
              " 'FC1',\n",
              " 'CP2',\n",
              " 'F7',\n",
              " 'F8',\n",
              " 'Pz',\n",
              " 'AF3',\n",
              " 'P8',\n",
              " 'F3',\n",
              " 'O2',\n",
              " 'Cz',\n",
              " 'O1',\n",
              " 'Fp1',\n",
              " 'PO3',\n",
              " 'Oz']"
            ]
          },
          "metadata": {},
          "execution_count": 19
        }
      ]
    },
    {
      "cell_type": "code",
      "metadata": {
        "id": "Nk9ATRR0pn9f"
      },
      "source": [
        "import numpy as np\n",
        "import pandas as pd\n",
        "from sklearn.model_selection import train_test_split\n",
        "from sklearn import svm\n",
        "from sklearn.metrics import accuracy_score"
      ],
      "execution_count": null,
      "outputs": []
    },
    {
      "cell_type": "code",
      "metadata": {
        "id": "DDVr8WfXpn9f"
      },
      "source": [
        "all_data = pd.read_csv(\"/7AllMerged.csv\")\n",
        "data = all_data.drop('videos', axis = 1)"
      ],
      "execution_count": null,
      "outputs": []
    },
    {
      "cell_type": "code",
      "metadata": {
        "id": "rxoQsqyl-sC-"
      },
      "source": [
        "import pandas as pd\n",
        "from sklearn.model_selection import KFold \n",
        "from sklearn.neural_network import MLPClassifier\n",
        "from sklearn.metrics import accuracy_score\n",
        "\n",
        "#Loading the dataset\n",
        "def svmclassifier(channel_name):\n",
        "  channel_names = []\n",
        "  for i in range(0, len(channel_name)):\n",
        "    draft = channel_name[i]\n",
        "    channel_names.append(draft + \"Alpha\")\n",
        "    channel_names.append(draft + \"Beta\")\n",
        "    channel_names.append(draft + \"Gamma\")\n",
        "    channel_names.append(draft + \"Theta\")\n",
        "  x = data[channel_names]\n",
        "  y = np.array(em_labels)\n",
        "  x_train, x_test, y_train, y_test = train_test_split(x, y, test_size = 0.2, random_state = 0)\n",
        "  classifier = svm.SVC(kernel = 'poly')\n",
        "  classifier.fit(x_train, y_train)\n",
        "  x_train_prediction = classifier.predict(x_train)\n",
        "  training_data_accuray = accuracy_score(x_train_prediction, y_train)\n",
        "  print('Accuracy on training data : ', training_data_accuray)\n",
        "  x_test_prediction = classifier.predict(x_test)\n",
        "  test_data_accuray = accuracy_score(x_test_prediction, y_test)\n",
        "  print('Accuracy on test data : ', test_data_accuray)"
      ],
      "execution_count": null,
      "outputs": []
    },
    {
      "cell_type": "code",
      "metadata": {
        "colab": {
          "base_uri": "https://localhost:8080/"
        },
        "id": "dVWbJk9d6nXf",
        "outputId": "5e7baf85-c8a4-4fb7-a49f-d25a35e466d4"
      },
      "source": [
        "svmclassifier([\"Fz\"]) #'FC2','C4','F4','CP6','T7','C3','P7','T8','AF4','CP5','P4','FC6','FC5','PO4','CP1','Fp2','P3','FC1','CP2','F7','F8','Pz','AF3','P8','F3','O2','Cz','O1','Fp1','PO3','Oz'"
      ],
      "execution_count": null,
      "outputs": [
        {
          "output_type": "stream",
          "name": "stdout",
          "text": [
            "Accuracy on training data :  0.6875\n",
            "Accuracy on test data :  0.75\n"
          ]
        }
      ]
    },
    {
      "cell_type": "code",
      "metadata": {
        "colab": {
          "base_uri": "https://localhost:8080/"
        },
        "id": "00AJ5j8UstQd",
        "outputId": "6e26a526-ea61-4248-a667-abc4bb2d7469"
      },
      "source": [
        "svmclassifier([\"Fz\",\"FC2\",\"F4\",\"CP6\",\"AF4\",\"CP1\",\"FC1\",\"CP2\",\"PO3\"]) "
      ],
      "execution_count": null,
      "outputs": [
        {
          "output_type": "stream",
          "name": "stdout",
          "text": [
            "Accuracy on training data :  0.71875\n",
            "Accuracy on test data :  0.875\n"
          ]
        }
      ]
    },
    {
      "cell_type": "code",
      "metadata": {
        "id": "LcufrwsastYL"
      },
      "source": [
        ""
      ],
      "execution_count": null,
      "outputs": []
    },
    {
      "cell_type": "code",
      "metadata": {
        "id": "bbBisz-vstcz"
      },
      "source": [
        ""
      ],
      "execution_count": null,
      "outputs": []
    },
    {
      "cell_type": "code",
      "metadata": {
        "id": "sdu6_5AustfB"
      },
      "source": [
        ""
      ],
      "execution_count": null,
      "outputs": []
    },
    {
      "cell_type": "code",
      "metadata": {
        "id": "u4rDXu2JsthE"
      },
      "source": [
        ""
      ],
      "execution_count": null,
      "outputs": []
    },
    {
      "cell_type": "markdown",
      "metadata": {
        "id": "iSn1v6pkTC6J"
      },
      "source": [
        "#EXTRA TEST FOR OTHER CLASSIFIERS"
      ]
    },
    {
      "cell_type": "code",
      "metadata": {
        "colab": {
          "base_uri": "https://localhost:8080/"
        },
        "id": "dxdmG9gppgOS",
        "outputId": "6e8a83c0-b241-407c-cd86-c75763a5048d"
      },
      "source": [
        "#Loading the dataset\n",
        "data = all_data.drop('videos', axis = 1)\n",
        "x = data[[\"FzTheta\",\"FzAlpha\",\"FzBeta\",\"FzGamma\"]]\n",
        "\"\"\"\n",
        "x = data[[\"FzTheta\",\"FzAlpha\",\"FzBeta\",\"FzGamma\", \"FC2Theta\",\"FC2Alpha\",\"FC2Beta\",\"FC2Gamma\"\\\n",
        "          ,\"F4Theta\",\"F4Alpha\",\"F4Beta\",\"F4Gamma\", \"CP6Theta\",\"CP6Alpha\",\"CP6Beta\",\"CP6Gamma\"\\\n",
        "          ,\"AF4Theta\",\"AF4Alpha\",\"AF4Beta\",\"AF4Gamma\", \"CP1Theta\",\"CP1Alpha\",\"CP1Beta\",\"CP1Gamma\"\\\n",
        "          ,\"FC1Theta\",\"FC1Alpha\",\"FC1Beta\",\"FC1Gamma\", \"CP2Theta\",\"CP2Alpha\",\"CP2Beta\",\"CP2Gamma\"]]\n",
        "\"\"\"\n",
        "y = np.array(em_labels)\n",
        "\n",
        "#Implementing cross validation\n",
        "from sklearn.model_selection import KFold\n",
        "k = 10\n",
        "kf = KFold(n_splits=k, random_state=None)\n",
        "#model = LogisticRegression(solver= 'liblinear')\n",
        "model = svm.SVC(kernel='poly')\n",
        "\n",
        "acc_score = []\n",
        "\n",
        "for train_index , test_index in kf.split(x):\n",
        "    x_train , x_test = x.iloc[train_index,:],x.iloc[test_index,:]\n",
        "    y_train , y_test = y[train_index] , y[test_index]\n",
        "    \n",
        "    model.fit(x_train,y_train)\n",
        "    pred_values = model.predict(x_test)\n",
        "    \n",
        "    acc = accuracy_score(pred_values , y_test)\n",
        "    acc_score.append(acc)\n",
        "    \n",
        "avg_acc_score = sum(acc_score)/k\n",
        "\n",
        "print('accuracy of each fold - {}'.format(acc_score))\n",
        "print('Avg accuracy : {}'.format(avg_acc_score))"
      ],
      "execution_count": null,
      "outputs": [
        {
          "output_type": "stream",
          "name": "stdout",
          "text": [
            "accuracy of each fold - [1.0, 0.75, 0.25, 0.5, 0.75, 0.75, 0.0, 0.25, 0.5, 0.5]\n",
            "Avg accuracy : 0.525\n"
          ]
        }
      ]
    },
    {
      "cell_type": "code",
      "metadata": {
        "id": "04LrRu6IqS38"
      },
      "source": [
        "#Importing required libraries\n",
        "#from sklearn.datasets import load_breast_cancer\n",
        "import pandas as pd\n",
        "from sklearn.model_selection import KFold \n",
        "from sklearn.neural_network import MLPClassifier\n",
        "from sklearn.metrics import accuracy_score\n",
        "\n",
        "#Loading the dataset\n",
        "def mlpclassifier(mystr):\n",
        "  data = all_data.drop('videos', axis = 1)\n",
        "  #x = data[[\"FzTheta\",\"FzAlpha\",\"FzBeta\",\"FzGamma\"]]\n",
        "  x = data[mystr]\n",
        "  y = np.array(em_labels)\n",
        "\n",
        "  #Implementing cross validation\n",
        "\n",
        "  k = 10\n",
        "  kf = KFold(n_splits=k, random_state=None)\n",
        "  model = MLPClassifier(alpha=1e-5,hidden_layer_sizes=(100, ), random_state=1)\n",
        " \n",
        "  acc_score = []\n",
        "\n",
        "  for train_index , test_index in kf.split(x):\n",
        "      x_train , x_test = x.iloc[train_index,:],x.iloc[test_index,:]\n",
        "      y_train , y_test = y[train_index] , y[test_index]\n",
        "    \n",
        "      model.fit(x_train,y_train)\n",
        "      pred_values = model.predict(x_test)\n",
        "      #print(\"Train accuracy: \", )\n",
        "    \n",
        "      acc = accuracy_score(pred_values , y_test)\n",
        "      acc_score.append(acc)\n",
        "    \n",
        "  avg_acc_score = sum(acc_score)/k\n",
        "\n",
        "  print('accuracy of each fold - {}'.format(acc_score))\n",
        "  print('Avg accuracy : {}'.format(avg_acc_score))"
      ],
      "execution_count": null,
      "outputs": []
    },
    {
      "cell_type": "code",
      "metadata": {
        "colab": {
          "base_uri": "https://localhost:8080/"
        },
        "id": "9K-UTtCZtNg9",
        "outputId": "ca0a2a26-5dae-4a4e-a227-4dd8a5164392"
      },
      "source": [
        "mlpclassifier([\"FzTheta\",\"FzAlpha\",\"FzBeta\",\"FzGamma\"])"
      ],
      "execution_count": null,
      "outputs": [
        {
          "output_type": "stream",
          "name": "stdout",
          "text": [
            "accuracy of each fold - [0.5, 0.75, 0.5, 0.5, 0.75, 0.0, 0.0, 0.5, 0.75, 0.5]\n",
            "Avg accuracy : 0.475\n"
          ]
        }
      ]
    },
    {
      "cell_type": "code",
      "metadata": {
        "colab": {
          "base_uri": "https://localhost:8080/"
        },
        "id": "T_r3TeRRrUY_",
        "outputId": "b789ba08-addc-4048-8757-256ffa1d11a7"
      },
      "source": [
        "mlpclassifier([\"FzTheta\",\"FzAlpha\",\"FzBeta\",\"FzGamma\", \"FC2Theta\",\"FC2Alpha\",\"FC2Beta\",\"FC2Gamma\"])"
      ],
      "execution_count": null,
      "outputs": [
        {
          "output_type": "stream",
          "name": "stdout",
          "text": [
            "accuracy of each fold - [0.25, 0.0, 1.0, 0.75, 0.25, 0.0, 0.25, 0.75, 1.0, 0.75]\n",
            "Avg accuracy : 0.5\n"
          ]
        }
      ]
    },
    {
      "cell_type": "code",
      "metadata": {
        "colab": {
          "base_uri": "https://localhost:8080/"
        },
        "id": "5M7I6VtStFmV",
        "outputId": "75c63c6e-0d16-402e-f287-af087ae9bec0"
      },
      "source": [
        "mlpclassifier([\"FzTheta\",\"FzAlpha\",\"FzBeta\",\"FzGamma\", \"FC2Theta\",\"FC2Alpha\",\"FC2Beta\",\"FC2Gamma\", \"F4Theta\",\"F4Alpha\",\"F4Beta\",\"F4Gamma\"])"
      ],
      "execution_count": null,
      "outputs": [
        {
          "output_type": "stream",
          "name": "stdout",
          "text": [
            "accuracy of each fold - [0.5, 0.75, 0.5, 0.5, 0.75, 1.0, 0.25, 0.5, 0.75, 0.5]\n",
            "Avg accuracy : 0.6\n"
          ]
        }
      ]
    },
    {
      "cell_type": "code",
      "metadata": {
        "colab": {
          "base_uri": "https://localhost:8080/"
        },
        "id": "V160V7tBtUO4",
        "outputId": "7a670704-a735-417b-951c-40cded3df9f3"
      },
      "source": [
        "mlpclassifier([\"FzTheta\",\"FzAlpha\",\"FzBeta\",\"FzGamma\", \"FC2Theta\",\"FC2Alpha\",\"FC2Beta\",\"FC2Gamma\"\\\n",
        "              ,\"F4Theta\",\"F4Alpha\",\"F4Beta\",\"F4Gamma\"])"
      ],
      "execution_count": null,
      "outputs": [
        {
          "output_type": "stream",
          "name": "stdout",
          "text": [
            "accuracy of each fold - [0.5, 0.75, 0.5, 0.5, 0.75, 1.0, 0.25, 0.5, 0.75, 0.5]\n",
            "Avg accuracy : 0.6\n"
          ]
        }
      ]
    },
    {
      "cell_type": "code",
      "metadata": {
        "id": "jQLRi_01tpB5",
        "colab": {
          "base_uri": "https://localhost:8080/"
        },
        "outputId": "9585f5e1-74f7-4fe5-e920-436e13f3fbfc"
      },
      "source": [
        "mlpclassifier([\"FzTheta\",\"FzAlpha\",\"FzBeta\",\"FzGamma\", \"FC2Theta\",\"FC2Alpha\",\"FC2Beta\",\"FC2Gamma\"\\\n",
        "              ,\"C4Theta\",\"C4Alpha\",\"C4Beta\",\"C4Gamma\"])"
      ],
      "execution_count": null,
      "outputs": [
        {
          "output_type": "stream",
          "name": "stdout",
          "text": [
            "accuracy of each fold - [0.5, 0.75, 0.5, 0.75, 0.75, 1.0, 0.0, 0.5, 0.75, 0.5]\n",
            "Avg accuracy : 0.6\n"
          ]
        }
      ]
    },
    {
      "cell_type": "code",
      "metadata": {
        "colab": {
          "base_uri": "https://localhost:8080/"
        },
        "id": "f-8vPHkDlRWZ",
        "outputId": "f1c823e7-7e71-4dfd-bbdc-b53c9dba0dd7"
      },
      "source": [
        "mlpclassifier([\"FzTheta\",\"FzAlpha\",\"FzBeta\",\"FzGamma\", \"FC2Theta\",\"FC2Alpha\",\"FC2Beta\",\"FC2Gamma\"\\\n",
        "              ,\"C4Theta\",\"C4Alpha\",\"C4Beta\",\"C4Gamma\",\"F4Theta\",\"F4Alpha\",\"F4Beta\",\"F4Gamma\"])"
      ],
      "execution_count": null,
      "outputs": [
        {
          "output_type": "stream",
          "name": "stdout",
          "text": [
            "accuracy of each fold - [0.25, 0.75, 0.5, 0.5, 0.5, 1.0, 0.0, 0.25, 0.25, 0.5]\n",
            "Avg accuracy : 0.45\n"
          ]
        }
      ]
    },
    {
      "cell_type": "code",
      "metadata": {
        "colab": {
          "base_uri": "https://localhost:8080/"
        },
        "id": "hXqCBRzYlfMI",
        "outputId": "a2e4350a-0cd3-4d2f-cc11-7549dbd85efc"
      },
      "source": [
        "mlpclassifier([\"FzTheta\",\"FzAlpha\",\"FzBeta\",\"FzGamma\", \"FC2Theta\",\"FC2Alpha\",\"FC2Beta\",\"FC2Gamma\"\\\n",
        "              ,\"C4Theta\",\"C4Alpha\",\"C4Beta\",\"C4Gamma\",\"CP6Theta\",\"CP6Alpha\",\"CP6Beta\",\"CP6Gamma\"])"
      ],
      "execution_count": null,
      "outputs": [
        {
          "output_type": "stream",
          "name": "stdout",
          "text": [
            "accuracy of each fold - [0.5, 0.75, 0.25, 0.75, 0.75, 0.0, 0.0, 0.0, 0.0, 0.25]\n",
            "Avg accuracy : 0.325\n"
          ]
        }
      ]
    },
    {
      "cell_type": "code",
      "metadata": {
        "colab": {
          "base_uri": "https://localhost:8080/"
        },
        "id": "5ApHbMnPluWE",
        "outputId": "aaed9118-bb5c-4942-81a8-fb83cef09cd8"
      },
      "source": [
        "mlpclassifier([\"FzTheta\",\"FzAlpha\",\"FzBeta\",\"FzGamma\", \"FC2Theta\",\"FC2Alpha\",\"FC2Beta\",\"FC2Gamma\"\\\n",
        "              ,\"C4Theta\",\"C4Alpha\",\"C4Beta\",\"C4Gamma\",\"T7Theta\",\"T7Alpha\",\"T7Beta\",\"T7Gamma\"])"
      ],
      "execution_count": null,
      "outputs": [
        {
          "output_type": "stream",
          "name": "stdout",
          "text": [
            "accuracy of each fold - [0.5, 0.25, 0.5, 0.75, 0.75, 1.0, 0.0, 0.5, 0.25, 0.5]\n",
            "Avg accuracy : 0.5\n"
          ]
        }
      ]
    },
    {
      "cell_type": "code",
      "metadata": {
        "colab": {
          "base_uri": "https://localhost:8080/"
        },
        "id": "eOjJpYgHl3gQ",
        "outputId": "96f44144-f55b-45c7-de67-7a4ac40a4560"
      },
      "source": [
        "mlpclassifier([\"FzTheta\",\"FzAlpha\",\"FzBeta\",\"FzGamma\", \"FC2Theta\",\"FC2Alpha\",\"FC2Beta\",\"FC2Gamma\"\\\n",
        "              ,\"C4Theta\",\"C4Alpha\",\"C4Beta\",\"C4Gamma\",\"T7Theta\",\"T7Alpha\",\"T7Beta\",\"T7Gamma\"\\\n",
        "               ,\"P7Theta\",\"P7Alpha\",\"P7Beta\",\"P7Gamma\"])"
      ],
      "execution_count": null,
      "outputs": [
        {
          "output_type": "stream",
          "name": "stdout",
          "text": [
            "accuracy of each fold - [0.5, 0.0, 0.5, 0.75, 1.0, 0.0, 0.0, 0.5, 0.75, 0.5]\n",
            "Avg accuracy : 0.45\n"
          ]
        }
      ]
    },
    {
      "cell_type": "code",
      "metadata": {
        "colab": {
          "base_uri": "https://localhost:8080/"
        },
        "id": "GHnYnot8mT57",
        "outputId": "bd100068-eacb-4a01-8e8e-22c4f8e92b3d"
      },
      "source": [
        "mlpclassifier([\"FzTheta\",\"FzAlpha\",\"FzBeta\",\"FzGamma\", \"FC2Theta\",\"FC2Alpha\",\"FC2Beta\",\"FC2Gamma\"\\\n",
        "              ,\"C4Theta\",\"C4Alpha\",\"C4Beta\",\"C4Gamma\",\"T7Theta\",\"T7Alpha\",\"T7Beta\",\"T7Gamma\"\\\n",
        "               ,\"T8Theta\",\"T8Alpha\",\"T8Beta\",\"T8Gamma\"])"
      ],
      "execution_count": null,
      "outputs": [
        {
          "output_type": "stream",
          "name": "stdout",
          "text": [
            "accuracy of each fold - [0.25, 0.75, 0.5, 0.75, 0.75, 0.0, 0.0, 0.5, 0.75, 0.5]\n",
            "Avg accuracy : 0.475\n"
          ]
        }
      ]
    },
    {
      "cell_type": "code",
      "metadata": {
        "colab": {
          "base_uri": "https://localhost:8080/"
        },
        "id": "-jG0XmUzmgH_",
        "outputId": "68a527cc-7428-47c6-9037-0648edb06e1d"
      },
      "source": [
        "mlpclassifier([\"FzTheta\",\"FzAlpha\",\"FzBeta\",\"FzGamma\", \"FC2Theta\",\"FC2Alpha\",\"FC2Beta\",\"FC2Gamma\"\\\n",
        "              ,\"C4Theta\",\"C4Alpha\",\"C4Beta\",\"C4Gamma\",\"T7Theta\",\"T7Alpha\",\"T7Beta\",\"T7Gamma\"\\\n",
        "               ,\"P4Theta\",\"P4Alpha\",\"P4Beta\",\"P4Gamma\"])"
      ],
      "execution_count": null,
      "outputs": [
        {
          "output_type": "stream",
          "name": "stdout",
          "text": [
            "accuracy of each fold - [0.5, 0.75, 0.5, 0.75, 1.0, 0.75, 0.0, 0.5, 0.75, 0.5]\n",
            "Avg accuracy : 0.6\n"
          ]
        }
      ]
    },
    {
      "cell_type": "code",
      "metadata": {
        "colab": {
          "base_uri": "https://localhost:8080/"
        },
        "id": "kQfigjNunFbO",
        "outputId": "3f2a5f5b-5b56-485d-cb9c-145a43c4cad7"
      },
      "source": [
        "mlpclassifier([\"FzTheta\",\"FzAlpha\",\"FzBeta\",\"FzGamma\", \"FC2Theta\",\"FC2Alpha\",\"FC2Beta\",\"FC2Gamma\"\\\n",
        "              ,\"C4Theta\",\"C4Alpha\",\"C4Beta\",\"C4Gamma\",\"T7Theta\",\"T7Alpha\",\"T7Beta\",\"T7Gamma\"\\\n",
        "               ,\"P4Theta\",\"P4Alpha\",\"P4Beta\",\"P4Gamma\",\"FC6Theta\",\"FC6Alpha\",\"FC6Beta\",\"FC6Gamma\"])"
      ],
      "execution_count": null,
      "outputs": [
        {
          "output_type": "stream",
          "name": "stdout",
          "text": [
            "accuracy of each fold - [0.25, 0.0, 0.5, 0.75, 0.5, 0.0, 0.25, 0.5, 0.75, 0.5]\n",
            "Avg accuracy : 0.4\n"
          ]
        }
      ]
    },
    {
      "cell_type": "code",
      "metadata": {
        "colab": {
          "base_uri": "https://localhost:8080/"
        },
        "id": "dEhnlLYunQqP",
        "outputId": "073a7997-645e-40bb-d7ec-6f5bbcb065e6"
      },
      "source": [
        "mlpclassifier([\"FzTheta\",\"FzAlpha\",\"FzBeta\",\"FzGamma\", \"FC2Theta\",\"FC2Alpha\",\"FC2Beta\",\"FC2Gamma\"\\\n",
        "              ,\"C4Theta\",\"C4Alpha\",\"C4Beta\",\"C4Gamma\",\"T7Theta\",\"T7Alpha\",\"T7Beta\",\"T7Gamma\"\\\n",
        "               ,\"P4Theta\",\"P4Alpha\",\"P4Beta\",\"P4Gamma\",\"FC5Theta\",\"FC5Alpha\",\"FC5Beta\",\"FC5Gamma\"])"
      ],
      "execution_count": null,
      "outputs": [
        {
          "output_type": "stream",
          "name": "stdout",
          "text": [
            "accuracy of each fold - [0.25, 0.0, 0.5, 0.75, 0.5, 0.0, 0.0, 0.5, 0.75, 0.5]\n",
            "Avg accuracy : 0.375\n"
          ]
        }
      ]
    },
    {
      "cell_type": "code",
      "metadata": {
        "colab": {
          "base_uri": "https://localhost:8080/"
        },
        "id": "dsPHwbXlnZ7I",
        "outputId": "7fb947f2-6837-468f-cfb9-d512b1010dd0"
      },
      "source": [
        "mlpclassifier([\"FzTheta\",\"FzAlpha\",\"FzBeta\",\"FzGamma\", \"FC2Theta\",\"FC2Alpha\",\"FC2Beta\",\"FC2Gamma\"\\\n",
        "              ,\"C4Theta\",\"C4Alpha\",\"C4Beta\",\"C4Gamma\",\"T7Theta\",\"T7Alpha\",\"T7Beta\",\"T7Gamma\"\\\n",
        "               ,\"P4Theta\",\"P4Alpha\",\"P4Beta\",\"P4Gamma\",\"PO4Theta\",\"PO4Alpha\",\"PO4Beta\",\"PO4Gamma\"])"
      ],
      "execution_count": null,
      "outputs": [
        {
          "output_type": "stream",
          "name": "stdout",
          "text": [
            "accuracy of each fold - [0.5, 0.0, 0.5, 0.75, 0.75, 0.25, 0.0, 0.5, 0.75, 0.5]\n",
            "Avg accuracy : 0.45\n"
          ]
        }
      ]
    },
    {
      "cell_type": "code",
      "metadata": {
        "colab": {
          "base_uri": "https://localhost:8080/"
        },
        "id": "6snpbsgjnk_r",
        "outputId": "abe9f685-a869-480a-c077-962d83854ed4"
      },
      "source": [
        "mlpclassifier([\"FzTheta\",\"FzAlpha\",\"FzBeta\",\"FzGamma\", \"FC2Theta\",\"FC2Alpha\",\"FC2Beta\",\"FC2Gamma\"\\\n",
        "              ,\"C4Theta\",\"C4Alpha\",\"C4Beta\",\"C4Gamma\",\"T7Theta\",\"T7Alpha\",\"T7Beta\",\"T7Gamma\"\\\n",
        "               ,\"P4Theta\",\"P4Alpha\",\"P4Beta\",\"P4Gamma\",\"CP1Theta\",\"CP1Alpha\",\"CP1Beta\",\"CP1Gamma\"])"
      ],
      "execution_count": null,
      "outputs": [
        {
          "output_type": "stream",
          "name": "stdout",
          "text": [
            "accuracy of each fold - [0.25, 0.0, 0.5, 0.75, 0.5, 0.0, 0.25, 0.5, 0.75, 0.5]\n",
            "Avg accuracy : 0.4\n"
          ]
        }
      ]
    }
  ]
}