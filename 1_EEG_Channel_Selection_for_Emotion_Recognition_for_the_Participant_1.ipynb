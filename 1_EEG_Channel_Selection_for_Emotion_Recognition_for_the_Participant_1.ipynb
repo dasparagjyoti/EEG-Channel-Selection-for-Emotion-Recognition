{
  "nbformat": 4,
  "nbformat_minor": 0,
  "metadata": {
    "colab": {
      "name": "1.EEG Channel Selection for Emotion Recognition for the Participant-1",
      "provenance": [],
      "collapsed_sections": []
    },
    "kernelspec": {
      "display_name": "Python 3",
      "name": "python3"
    },
    "language_info": {
      "name": "python"
    }
  },
  "cells": [
    {
      "cell_type": "markdown",
      "metadata": {
        "id": "q7tNC6EX54Fm"
      },
      "source": [
        "#**1. Data Preprocessing**#"
      ]
    },
    {
      "cell_type": "markdown",
      "metadata": {
        "id": "WnOPDthvDu2O"
      },
      "source": [
        "### **1.1 Import Data**"
      ]
    },
    {
      "cell_type": "code",
      "metadata": {
        "colab": {
          "base_uri": "https://localhost:8080/"
        },
        "id": "5EU9Oy3Xp3yb",
        "outputId": "a53710f0-4754-40b2-ca71-46f930b3dd46"
      },
      "source": [
        "from google.colab import drive\n",
        "drive.mount('/content/gdrive', force_remount=True)"
      ],
      "execution_count": null,
      "outputs": [
        {
          "output_type": "stream",
          "name": "stdout",
          "text": [
            "Mounted at /content/gdrive\n"
          ]
        }
      ]
    },
    {
      "cell_type": "code",
      "metadata": {
        "colab": {
          "base_uri": "https://localhost:8080/"
        },
        "id": "iVA7NseiU-UX",
        "outputId": "207a3229-cd0a-48c3-cb31-18c121853621"
      },
      "source": [
        "!ls /content/gdrive/MyDrive/data_preprocessed_python"
      ],
      "execution_count": null,
      "outputs": [
        {
          "output_type": "stream",
          "name": "stdout",
          "text": [
            "s01.dat  s05.dat  s09.dat  s13.dat  s17.dat  s21.dat  s25.dat  s29.dat\n",
            "s02.dat  s06.dat  s10.dat  s14.dat  s18.dat  s22.dat  s26.dat  s30.dat\n",
            "s03.dat  s07.dat  s11.dat  s15.dat  s19.dat  s23.dat  s27.dat  s31.dat\n",
            "s04.dat  s08.dat  s12.dat  s16.dat  s20.dat  s24.dat  s28.dat  s32.dat\n"
          ]
        }
      ]
    },
    {
      "cell_type": "markdown",
      "metadata": {
        "id": "AxHj_-69DLMZ"
      },
      "source": [
        "###**1.2 Reading Data** "
      ]
    },
    {
      "cell_type": "code",
      "metadata": {
        "colab": {
          "base_uri": "https://localhost:8080/"
        },
        "id": "CYrTggoIbl42",
        "outputId": "33b5cf7c-bcc7-4212-c01e-30cdfd11418f"
      },
      "source": [
        "import os\n",
        "import time\n",
        "import pickle\n",
        "import pandas as pd\n",
        "import numpy as np\n",
        "\n",
        "from scipy import signal\n",
        "from scipy.signal import welch\n",
        "from scipy.integrate import simps\n",
        "from scipy.stats import f_oneway\n",
        "\n",
        "from tqdm import tqdm\n",
        "\n",
        "!pip install mne==0.22.0\n",
        "import mne\n",
        "from mne.preprocessing import (ICA, create_eog_epochs, create_ecg_epochs, corrmap)\n",
        "from mne.time_frequency import psd_welch\n",
        "from mne.decoding import cross_val_multiscore\n",
        "\n",
        "!pip install fooof\n",
        "from fooof import FOOOFGroup\n",
        "from fooof.bands import Bands\n",
        "from fooof.analysis import get_band_peak_fg\n",
        "from fooof.plts.spectra import plot_spectrum\n",
        "\n",
        "import matplotlib.pyplot as plt\n",
        "from matplotlib import cm\n",
        "import seaborn as sns\n",
        "%matplotlib inline"
      ],
      "execution_count": null,
      "outputs": [
        {
          "output_type": "stream",
          "name": "stdout",
          "text": [
            "Collecting mne==0.22.0\n",
            "  Downloading mne-0.22.0-py3-none-any.whl (6.9 MB)\n",
            "\u001b[K     |████████████████████████████████| 6.9 MB 15.5 MB/s \n",
            "\u001b[?25hRequirement already satisfied: scipy>=0.17.1 in /usr/local/lib/python3.7/dist-packages (from mne==0.22.0) (1.4.1)\n",
            "Requirement already satisfied: numpy>=1.11.3 in /usr/local/lib/python3.7/dist-packages (from mne==0.22.0) (1.19.5)\n",
            "Installing collected packages: mne\n",
            "Successfully installed mne-0.22.0\n",
            "Collecting fooof\n",
            "  Downloading fooof-1.0.0-py3-none-any.whl (112 kB)\n",
            "\u001b[K     |████████████████████████████████| 112 kB 28.5 MB/s \n",
            "\u001b[?25hRequirement already satisfied: scipy>=0.19.0 in /usr/local/lib/python3.7/dist-packages (from fooof) (1.4.1)\n",
            "Requirement already satisfied: numpy in /usr/local/lib/python3.7/dist-packages (from fooof) (1.19.5)\n",
            "Installing collected packages: fooof\n",
            "Successfully installed fooof-1.0.0\n"
          ]
        }
      ]
    },
    {
      "cell_type": "code",
      "metadata": {
        "colab": {
          "base_uri": "https://localhost:8080/"
        },
        "id": "XpDYOiyPQ28F",
        "outputId": "686c0c4d-851e-4571-f144-f86f2919af91"
      },
      "source": [
        "with open('/content/gdrive/MyDrive/data_preprocessed_python/s01.dat', 'rb') as f:\n",
        " raw_data = pickle.load(f, encoding='latin1')\n",
        " print(raw_data)"
      ],
      "execution_count": null,
      "outputs": [
        {
          "output_type": "stream",
          "name": "stdout",
          "text": [
            "{'labels': array([[7.71, 7.6 , 6.9 , 7.83],\n",
            "       [8.1 , 7.31, 7.28, 8.47],\n",
            "       [8.58, 7.54, 9.  , 7.08],\n",
            "       [4.94, 6.01, 6.12, 8.06],\n",
            "       [6.96, 3.92, 7.19, 6.05],\n",
            "       [8.27, 3.92, 7.  , 8.03],\n",
            "       [7.44, 3.73, 7.08, 7.04],\n",
            "       [7.32, 2.55, 6.32, 5.87],\n",
            "       [4.04, 3.29, 3.62, 5.99],\n",
            "       [1.99, 4.86, 2.04, 7.09],\n",
            "       [2.99, 2.36, 3.63, 6.24],\n",
            "       [2.71, 2.77, 3.4 , 7.35],\n",
            "       [1.95, 3.12, 2.87, 6.18],\n",
            "       [4.18, 2.24, 3.04, 5.04],\n",
            "       [3.17, 8.08, 2.91, 5.04],\n",
            "       [6.81, 7.44, 8.15, 7.14],\n",
            "       [2.46, 6.91, 6.77, 6.41],\n",
            "       [7.23, 7.15, 6.94, 8.01],\n",
            "       [7.17, 8.  , 8.1 , 6.79],\n",
            "       [8.26, 7.91, 7.19, 8.13],\n",
            "       [9.  , 7.95, 8.37, 7.86],\n",
            "       [7.09, 2.08, 7.06, 7.37],\n",
            "       [8.15, 3.01, 7.37, 7.9 ],\n",
            "       [7.04, 7.09, 8.01, 8.22],\n",
            "       [8.86, 7.21, 8.65, 7.21],\n",
            "       [7.28, 7.27, 7.41, 8.24],\n",
            "       [7.35, 6.95, 7.03, 7.29],\n",
            "       [3.88, 3.35, 4.01, 7.87],\n",
            "       [1.36, 2.27, 3.  , 8.14],\n",
            "       [2.08, 2.99, 3.22, 7.33],\n",
            "       [3.03, 8.14, 2.86, 8.04],\n",
            "       [2.28, 8.  , 3.27, 3.95],\n",
            "       [3.81, 3.85, 4.78, 5.13],\n",
            "       [2.28, 7.09, 7.28, 6.92],\n",
            "       [2.06, 8.15, 8.05, 5.18],\n",
            "       [2.9 , 6.92, 6.5 , 3.87],\n",
            "       [2.31, 6.88, 3.1 , 6.77],\n",
            "       [3.33, 7.18, 6.54, 6.62],\n",
            "       [3.24, 6.18, 7.87, 6.15],\n",
            "       [5.1 , 7.12, 6.17, 5.97]]), 'data': array([[[ 9.48231681e-01,  1.65333533e+00,  3.01372577e+00, ...,\n",
            "         -2.82648937e+00, -4.47722969e+00, -3.67692812e+00],\n",
            "        [ 1.24706590e-01,  1.39008270e+00,  1.83509881e+00, ...,\n",
            "         -2.98702069e+00, -6.28780884e+00, -4.47429041e+00],\n",
            "        [-2.21651099e+00,  2.29201682e+00,  2.74636923e+00, ...,\n",
            "         -2.63707760e+00, -7.40651010e+00, -6.75590441e+00],\n",
            "        ...,\n",
            "        [ 2.30779684e+02,  6.96716323e+02,  1.19512165e+03, ...,\n",
            "          1.01080949e+03,  1.28312149e+03,  1.51996480e+03],\n",
            "        [-1.54180981e+03, -1.61798052e+03, -1.69268642e+03, ...,\n",
            "         -1.57842691e+04, -1.57823160e+04, -1.57808512e+04],\n",
            "        [ 6.39054310e-03,  6.39054310e-03,  6.39054310e-03, ...,\n",
            "         -9.76081241e-02, -9.76081241e-02, -9.76081241e-02]],\n",
            "\n",
            "       [[ 1.02601750e+01,  1.27954427e+01,  1.04261916e+01, ...,\n",
            "          6.02219406e+00,  7.53913583e+00,  9.35224904e+00],\n",
            "        [ 9.49186875e+00,  1.25897704e+01,  1.05740268e+01, ...,\n",
            "          6.03399490e+00,  9.06874552e+00,  8.74021419e+00],\n",
            "        [ 7.12867480e+00,  1.22064700e+01,  9.49646701e+00, ...,\n",
            "          6.17971667e+00,  6.93374514e+00,  6.48086477e+00],\n",
            "        ...,\n",
            "        [ 1.91950410e+03,  3.51250116e+03,  3.67262586e+03, ...,\n",
            "         -1.62148301e+02, -3.66241674e+02, -4.51866515e+02],\n",
            "        [-7.42916132e+03, -7.50972650e+03, -7.57076073e+03, ...,\n",
            "         -5.49462041e+03, -5.59081036e+03, -5.69139477e+03],\n",
            "        [ 5.98429831e-03,  5.98429831e-03,  5.98429831e-03, ...,\n",
            "         -6.20148303e-02, -6.20148303e-02, -6.20148303e-02]],\n",
            "\n",
            "       [[ 1.01304956e+00, -1.06783230e+00,  3.90824949e+00, ...,\n",
            "          2.18687657e+00,  2.66767712e-02, -7.51193325e+00],\n",
            "        [ 3.31725539e-02, -1.51860504e+00,  4.81957628e+00, ...,\n",
            "          3.98227619e-01, -1.06766739e+00, -5.90302866e+00],\n",
            "        [ 7.22816236e-01,  5.12160665e-01,  8.04440282e+00, ...,\n",
            "          9.66963103e-02,  2.20454025e-01, -4.36041903e+00],\n",
            "        ...,\n",
            "        [-2.14800222e+01, -2.61792078e+02, -1.01386125e+02, ...,\n",
            "          2.58992140e+03,  1.61176696e+03,  7.66674772e+02],\n",
            "        [ 1.16210735e+04,  1.14355295e+04,  1.12646336e+04, ...,\n",
            "          2.76134490e+03,  2.67687353e+03,  2.60314418e+03],\n",
            "        [ 2.90621276e-03,  2.90621276e-03,  2.90621276e-03, ...,\n",
            "         -1.51091814e-01, -1.51091814e-01, -1.51091814e-01]],\n",
            "\n",
            "       ...,\n",
            "\n",
            "       [[-1.13944132e+01, -1.34502274e+01, -9.66299865e+00, ...,\n",
            "         -2.43900889e+00, -2.33095827e+00, -3.36814485e+00],\n",
            "        [-9.19759768e+00, -1.04656392e+01, -6.56847604e+00, ...,\n",
            "         -3.51219647e+00, -2.91042815e+00, -2.82260677e+00],\n",
            "        [-8.61617511e+00, -1.00405069e+01, -6.40832041e+00, ...,\n",
            "         -4.15937090e+00, -4.30358260e+00, -2.69228055e+00],\n",
            "        ...,\n",
            "        [ 1.33536977e+03,  1.18468254e+03,  9.23995526e+02, ...,\n",
            "          9.61057957e+02,  5.48652469e+02,  1.16462008e+03],\n",
            "        [-3.84721885e+03, -3.90385861e+03, -3.96391629e+03, ...,\n",
            "          2.21035586e+04,  2.19683067e+04,  2.18359845e+04],\n",
            "        [ 1.74997757e-03,  1.74997757e-03,  1.74997757e-03, ...,\n",
            "          4.67494009e-02,  4.67494009e-02,  4.67494009e-02]],\n",
            "\n",
            "       [[ 2.53187763e+00,  1.58111089e-01, -4.67449746e+00, ...,\n",
            "          3.13209243e+00,  4.65647663e-01,  1.85004049e+00],\n",
            "        [ 6.21303506e+00,  1.60022210e+00, -4.68115214e+00, ...,\n",
            "          3.09468204e+00, -4.47081977e-01,  7.07338119e-01],\n",
            "        [ 7.13694330e+00,  4.83688756e+00, -2.90448250e+00, ...,\n",
            "          8.47561300e-02, -7.15406930e-02, -8.34269599e-01],\n",
            "        ...,\n",
            "        [-1.72646702e+03, -1.77037319e+03, -1.74206075e+03, ...,\n",
            "         -1.37621767e+03, -1.46368626e+03, -1.39456139e+03],\n",
            "        [ 7.78738138e+03,  7.87087621e+03,  7.88894234e+03, ...,\n",
            "          1.77575401e+03,  1.77087127e+03,  1.76891817e+03],\n",
            "        [ 1.30206665e-03,  2.30205383e-03,  2.30205383e-03, ...,\n",
            "         -1.06977796e-02, -1.06977796e-02, -1.06977796e-02]],\n",
            "\n",
            "       [[ 3.08300605e+00,  6.27214597e-01, -3.40256017e+00, ...,\n",
            "         -4.43802092e+00, -3.27103236e+00,  2.13500861e+00],\n",
            "        [-2.73052705e-01, -2.20023500e-01, -3.81054293e+00, ...,\n",
            "         -3.75791147e+00, -3.31224301e+00,  1.15426073e+00],\n",
            "        [-1.72910530e+00,  1.73630179e+00, -1.14991197e-01, ...,\n",
            "         -2.94468621e+00, -5.71142735e+00, -1.69792350e+00],\n",
            "        ...,\n",
            "        [-1.17067329e+02,  2.14775808e+02,  6.61994220e+00, ...,\n",
            "         -1.10328426e+03, -1.11556548e+03, -1.07090932e+03],\n",
            "        [-7.16243920e+03, -7.22005551e+03, -7.17659914e+03, ...,\n",
            "          4.80999311e+02,  3.31587520e+02,  1.82175728e+02],\n",
            "        [ 4.24473727e-04,  4.24473727e-04,  4.24473727e-04, ...,\n",
            "          1.86422090e-01,  1.86422090e-01,  1.86422090e-01]]])}\n"
          ]
        }
      ]
    },
    {
      "cell_type": "code",
      "metadata": {
        "colab": {
          "base_uri": "https://localhost:8080/"
        },
        "id": "EpI-gFzRjgGT",
        "outputId": "d2afd1a0-4d99-464e-f478-22740197eb4a"
      },
      "source": [
        "data = raw_data['data']\n",
        "labels = raw_data['labels']\n",
        "\n",
        "print(\"Labels: \", labels.shape) # trial x label\n",
        "print(\"Data: \", data.shape) # trial x channel x data"
      ],
      "execution_count": null,
      "outputs": [
        {
          "output_type": "stream",
          "name": "stdout",
          "text": [
            "Labels:  (40, 4)\n",
            "Data:  (40, 40, 8064)\n"
          ]
        }
      ]
    },
    {
      "cell_type": "markdown",
      "metadata": {
        "id": "hU8aAPXcvz3v"
      },
      "source": [
        "###**1.3 Reducing the Raw Data upto 40 32 7680**"
      ]
    },
    {
      "cell_type": "code",
      "metadata": {
        "id": "6szil8NKrgCC"
      },
      "source": [
        "eeg_channels = np.array([\"Fp1\", \"AF3\", \"F3\", \"F7\", \"FC5\", \"FC1\", \"C3\", \"T7\", \"CP5\", \"CP1\", \"P3\", \"P7\", \"PO3\", \"O1\", \"Oz\", \"Pz\", \"Fp2\", \"AF4\", \"Fz\", \"F4\", \"F8\", \"FC6\", \"FC2\", \"Cz\", \"C4\", \"T8\", \"CP6\", \"CP2\", \"P4\", \"P8\", \"PO4\", \"O2\"])\n",
        "peripheral_channels = np.array([\"hEOG\", \"vEOG\", \"zEMG\", \"tEMG\", \"GSR\", \"Respiration belt\", \"Plethysmograph\", \"Temperature\"])"
      ],
      "execution_count": null,
      "outputs": []
    },
    {
      "cell_type": "code",
      "metadata": {
        "colab": {
          "base_uri": "https://localhost:8080/"
        },
        "id": "QH6vd18C7A-v",
        "outputId": "17a95061-22e5-40b9-f376-9a68c0832a51"
      },
      "source": [
        "eeg_data = []\n",
        "for i in range (len(data)):\n",
        "  for j in range (len(eeg_channels)):\n",
        "    eeg_data.append(data[i,j])\n",
        "eeg_data = np.reshape(eeg_data, (len(data), len(eeg_channels), len(data[0,0])))\n",
        "print(eeg_data.shape)"
      ],
      "execution_count": null,
      "outputs": [
        {
          "output_type": "stream",
          "name": "stdout",
          "text": [
            "(40, 32, 8064)\n"
          ]
        }
      ]
    },
    {
      "cell_type": "code",
      "metadata": {
        "colab": {
          "base_uri": "https://localhost:8080/"
        },
        "id": "GKn-Gx-Ohlko",
        "outputId": "182533cf-8800-4b13-d407-96e103aadce0"
      },
      "source": [
        "reduced_eeg_data  = eeg_data[:, :32, 384:8064]\n",
        "reduced_eeg_data.shape\n",
        "print(type(reduced_eeg_data))"
      ],
      "execution_count": null,
      "outputs": [
        {
          "output_type": "stream",
          "name": "stdout",
          "text": [
            "<class 'numpy.ndarray'>\n"
          ]
        }
      ]
    },
    {
      "cell_type": "code",
      "metadata": {
        "colab": {
          "base_uri": "https://localhost:8080/"
        },
        "id": "tu875drIbxhX",
        "outputId": "69126239-722d-447c-838b-49e79e42c3b9"
      },
      "source": [
        "len(reduced_eeg_data)"
      ],
      "execution_count": null,
      "outputs": [
        {
          "output_type": "execute_result",
          "data": {
            "text/plain": [
              "40"
            ]
          },
          "metadata": {},
          "execution_count": 57
        }
      ]
    },
    {
      "cell_type": "code",
      "metadata": {
        "colab": {
          "base_uri": "https://localhost:8080/"
        },
        "id": "Z2a4boZpyy5B",
        "outputId": "9004420b-f686-4ba0-a42c-0c33265e76ba"
      },
      "source": [
        "peripheral_data = []\n",
        "for i in range (len(data)):\n",
        "  for j in range (32,len(data[0])):\n",
        "    peripheral_data.append(data[i,j])\n",
        "peripheral_data = np.reshape(peripheral_data, (len(data), len(peripheral_channels), len(data[0,0])))\n",
        "print(peripheral_data.shape)"
      ],
      "execution_count": null,
      "outputs": [
        {
          "output_type": "stream",
          "name": "stdout",
          "text": [
            "(40, 8, 8064)\n"
          ]
        }
      ]
    },
    {
      "cell_type": "code",
      "metadata": {
        "id": "W7GWW9qQb9ZE",
        "colab": {
          "base_uri": "https://localhost:8080/"
        },
        "outputId": "5a05c379-3680-4b86-9654-1c89100a8130"
      },
      "source": [
        "len(peripheral_data)"
      ],
      "execution_count": null,
      "outputs": [
        {
          "output_type": "execute_result",
          "data": {
            "text/plain": [
              "40"
            ]
          },
          "metadata": {},
          "execution_count": 58
        }
      ]
    },
    {
      "cell_type": "markdown",
      "metadata": {
        "id": "w7arEX142C8U"
      },
      "source": [
        "###**1.4  Discretize the labels Rating 1-5: as low valence /low arousal Rating 6-9: high valence/high arousal**"
      ]
    },
    {
      "cell_type": "code",
      "metadata": {
        "colab": {
          "base_uri": "https://localhost:8080/"
        },
        "id": "maidqUjXRcLk",
        "outputId": "4affe65a-6284-47cc-dd84-578cf90be7ba"
      },
      "source": [
        "# Only extract Valence and Arousal ratings\n",
        "df_label_ratings = pd.DataFrame({'Valence': labels[:,0], 'Arousal': labels[:,1]})\n",
        "print(df_label_ratings.describe())"
      ],
      "execution_count": null,
      "outputs": [
        {
          "output_type": "stream",
          "name": "stdout",
          "text": [
            "        Valence    Arousal\n",
            "count  40.00000  40.000000\n",
            "mean    5.11775   5.659750\n",
            "std     2.51712   2.179549\n",
            "min     1.36000   2.080000\n",
            "25%     2.85250   3.335000\n",
            "50%     4.56000   6.915000\n",
            "75%     7.32750   7.342500\n",
            "max     9.00000   8.150000\n"
          ]
        }
      ]
    },
    {
      "cell_type": "code",
      "metadata": {
        "colab": {
          "base_uri": "https://localhost:8080/"
        },
        "id": "ykoCgtKgr_FG",
        "outputId": "771a8677-ea82-4978-d7c3-3f17269a381c"
      },
      "source": [
        "print(df_label_ratings.head(15))"
      ],
      "execution_count": null,
      "outputs": [
        {
          "output_type": "stream",
          "name": "stdout",
          "text": [
            "    Valence  Arousal\n",
            "0      7.71     7.60\n",
            "1      8.10     7.31\n",
            "2      8.58     7.54\n",
            "3      4.94     6.01\n",
            "4      6.96     3.92\n",
            "5      8.27     3.92\n",
            "6      7.44     3.73\n",
            "7      7.32     2.55\n",
            "8      4.04     3.29\n",
            "9      1.99     4.86\n",
            "10     2.99     2.36\n",
            "11     2.71     2.77\n",
            "12     1.95     3.12\n",
            "13     4.18     2.24\n",
            "14     3.17     8.08\n"
          ]
        }
      ]
    },
    {
      "cell_type": "code",
      "metadata": {
        "colab": {
          "base_uri": "https://localhost:8080/",
          "height": 282
        },
        "id": "sdaqvn_7gr0o",
        "outputId": "33b892d8-33b0-47dd-ba9b-f3669bc809fb"
      },
      "source": [
        "# Plot the first 40 data rows (first participant)\n",
        "df_label_ratings.iloc[0:40].plot(style=['o','rx'])"
      ],
      "execution_count": null,
      "outputs": [
        {
          "output_type": "execute_result",
          "data": {
            "text/plain": [
              "<matplotlib.axes._subplots.AxesSubplot at 0x7f3ffe3c6150>"
            ]
          },
          "metadata": {},
          "execution_count": 12
        },
        {
          "output_type": "display_data",
          "data": {
            "image/png": "[encoded data removed]",
            "text/plain": [
              "<Figure size 432x288 with 1 Axes>"
            ]
          },
          "metadata": {
            "needs_background": "light"
          }
        }
      ]
    },
    {
      "cell_type": "code",
      "metadata": {
        "id": "Mkys576y1YEE"
      },
      "source": [
        "# High Arousal Positive Valence dataset\n",
        "df_hahv = df_label_ratings[(df_label_ratings['Valence'] >= np.median(labels[:,0])) & (df_label_ratings['Arousal'] >= np.median(labels[:,1]))]\n",
        "# Low Arousal Positive Valence dataset\n",
        "df_lahv = df_label_ratings[(df_label_ratings['Valence'] >= np.median(labels[:,0])) & (df_label_ratings['Arousal'] < np.median(labels[:,1]))]\n",
        "# High Arousal Negative Valence dataset\n",
        "df_halv = df_label_ratings[(df_label_ratings['Valence'] < np.median(labels[:,0])) & (df_label_ratings['Arousal'] >= np.median(labels[:,1]))]\n",
        "# Low Arousal Negative Valence dataset\n",
        "df_lalv = df_label_ratings[(df_label_ratings['Valence'] < np.median(labels[:,0])) & (df_label_ratings['Arousal'] < np.median(labels[:,1]))]"
      ],
      "execution_count": null,
      "outputs": []
    },
    {
      "cell_type": "code",
      "metadata": {
        "colab": {
          "base_uri": "https://localhost:8080/"
        },
        "id": "XtQo4dfl9sT9",
        "outputId": "22e8559c-3e27-4b9f-d625-8a86a2f68286"
      },
      "source": [
        "# Check nummber of trials per each group\n",
        "print(\"Positive Valence:\", str(len(df_hahv) + len(df_lahv)))\n",
        "print(\"Negative Valence:\", str(len(df_halv) + len(df_lalv)))\n",
        "print(\"High Arousal:\", str(len(df_hahv) + len(df_halv)))\n",
        "print(\"Low Arousal:\", str(len(df_lahv) + len(df_lalv)))"
      ],
      "execution_count": null,
      "outputs": [
        {
          "output_type": "stream",
          "name": "stdout",
          "text": [
            "Positive Valence: 20\n",
            "Negative Valence: 20\n",
            "High Arousal: 20\n",
            "Low Arousal: 20\n"
          ]
        }
      ]
    },
    {
      "cell_type": "code",
      "metadata": {
        "colab": {
          "base_uri": "https://localhost:8080/"
        },
        "id": "UFilc1tEthVU",
        "outputId": "6594e283-764e-4832-9d85-c4cf53367159"
      },
      "source": [
        "# Check nummber of trials per each group\n",
        "print(\"High Arousal Positive Valence:\", str(len(df_hahv)))\n",
        "print(\"Low Arousal Positive Valence:\", str(len(df_lahv)))\n",
        "print(\"High Arousal Negative Valence:\", str(len(df_halv)))\n",
        "print(\"Low Arousal Negative Valence:\", str(len(df_lalv)))"
      ],
      "execution_count": null,
      "outputs": [
        {
          "output_type": "stream",
          "name": "stdout",
          "text": [
            "High Arousal Positive Valence: 13\n",
            "Low Arousal Positive Valence: 7\n",
            "High Arousal Negative Valence: 7\n",
            "Low Arousal Negative Valence: 13\n"
          ]
        }
      ]
    },
    {
      "cell_type": "code",
      "metadata": {
        "colab": {
          "base_uri": "https://localhost:8080/"
        },
        "id": "RcBIRKAB6KVr",
        "outputId": "486a52f2-e76d-4808-9ae1-6c7c74a4ada2"
      },
      "source": [
        "# Get mean and std of each group\n",
        "print(\"HAHV\")\n",
        "print(\"Valence:\", \"Mean\", np.round(df_hahv['Valence'].mean(),2), \"STD\", np.round(df_hahv['Valence'].std(),2))\n",
        "print(\"Arousal:\", \"Mean\", np.round(df_hahv['Arousal'].mean(),2), \"STD\", np.round(df_hahv['Arousal'].std(),2))\n",
        "print()\n",
        "print(\"LAHV:\")\n",
        "print(\"Valence:\", \"Mean\", np.round(df_lahv['Valence'].mean(),2), \"STD\", np.round(df_lahv['Valence'].std(),2))\n",
        "print(\"Arousal:\", \"Mean\", np.round(df_lahv['Arousal'].mean(),2), \"STD\", np.round(df_lahv['Arousal'].std(),2))\n",
        "print()\n",
        "print(\"HALV:\")\n",
        "print(\"Valence:\", \"Mean\", np.round(df_halv['Valence'].mean(),2), \"STD\", np.round(df_halv['Valence'].std(),2))\n",
        "print(\"Arousal:\", \"Mean\", np.round(df_halv['Arousal'].mean(),2), \"STD\", np.round(df_halv['Arousal'].std(),2))\n",
        "print()\n",
        "print(\"LALV:\")\n",
        "print(\"Valence:\", \"Mean\", np.round(df_lalv['Valence'].mean(),2), \"STD\", np.round(df_lalv['Valence'].std(),2))\n",
        "print(\"Arousal:\", \"Mean\", np.round(df_lalv['Arousal'].mean(),2), \"STD\", np.round(df_lalv['Arousal'].std(),2))"
      ],
      "execution_count": null,
      "outputs": [
        {
          "output_type": "stream",
          "name": "stdout",
          "text": [
            "HAHV\n",
            "Valence: Mean 7.58 STD 1.04\n",
            "Arousal: Mean 7.43 STD 0.35\n",
            "\n",
            "LAHV:\n",
            "Valence: Mean 7.17 STD 1.1\n",
            "Arousal: Mean 3.6 STD 1.28\n",
            "\n",
            "HALV:\n",
            "Valence: Mean 2.72 STD 0.5\n",
            "Arousal: Mean 7.65 STD 0.56\n",
            "\n",
            "LALV:\n",
            "Valence: Mean 2.85 STD 0.92\n",
            "Arousal: Mean 3.93 STD 1.71\n"
          ]
        }
      ]
    },
    {
      "cell_type": "markdown",
      "metadata": {
        "id": "O4E4C-Di8weY"
      },
      "source": [
        "###**1.5 Filtering Data Through Butterworth Bandpass Filter**"
      ]
    },
    {
      "cell_type": "code",
      "metadata": {
        "colab": {
          "base_uri": "https://localhost:8080/"
        },
        "id": "39C0_FoiIv99",
        "outputId": "e76e17cb-6b7a-4f60-a5df-d6b100bc4ba3"
      },
      "source": [
        "info = mne.create_info(ch_names=(\"Fp1\", \"AF3\", \"F3\", \"F7\", \"FC5\", \"FC1\", \"C3\", \"T7\", \"CP5\", \"CP1\", \"P3\", \"P7\", \"PO3\", \"O1\", \"Oz\", \"Pz\", \"Fp2\", \"AF4\", \"Fz\", \"F4\", \"F8\", \"FC6\", \"FC2\", \"Cz\", \"C4\", \"T8\", \"CP6\", \"CP2\", \"P4\", \"P8\", \"PO4\", \"O2\"), sfreq=128, ch_types='eeg')\n",
        "#info = mne.create_info(32, sfreq=128)\n",
        "print(info)"
      ],
      "execution_count": null,
      "outputs": [
        {
          "output_type": "stream",
          "name": "stdout",
          "text": [
            "<Info | 7 non-empty values\n",
            " bads: []\n",
            " ch_names: Fp1, AF3, F3, F7, FC5, FC1, C3, T7, CP5, CP1, P3, P7, PO3, O1, ...\n",
            " chs: 32 EEG\n",
            " custom_ref_applied: False\n",
            " highpass: 0.0 Hz\n",
            " lowpass: 64.0 Hz\n",
            " meas_date: unspecified\n",
            " nchan: 32\n",
            " projs: []\n",
            " sfreq: 128.0 Hz\n",
            ">\n"
          ]
        }
      ]
    },
    {
      "cell_type": "code",
      "metadata": {
        "colab": {
          "base_uri": "https://localhost:8080/"
        },
        "id": "CV4pVzt3iUOq",
        "outputId": "5595e977-8446-4c26-ea25-dc231bab0504"
      },
      "source": [
        "reduced_data_array = mne.io.RawArray(reduced_eeg_data[32], info)"
      ],
      "execution_count": null,
      "outputs": [
        {
          "output_type": "stream",
          "name": "stdout",
          "text": [
            "Creating RawArray with float64 data, n_channels=32, n_times=7680\n",
            "    Range : 0 ... 7679 =      0.000 ...    59.992 secs\n",
            "Ready.\n"
          ]
        }
      ]
    },
    {
      "cell_type": "code",
      "metadata": {
        "colab": {
          "base_uri": "https://localhost:8080/"
        },
        "id": "sThv28Db1j-d",
        "outputId": "3658356d-c74a-420a-bd16-7ef6d315f907"
      },
      "source": [
        "print(reduced_data_array)"
      ],
      "execution_count": null,
      "outputs": [
        {
          "output_type": "stream",
          "name": "stdout",
          "text": [
            "<RawArray | 32 x 7680 (60.0 s), ~1.9 MB, data loaded>\n"
          ]
        }
      ]
    },
    {
      "cell_type": "code",
      "metadata": {
        "colab": {
          "base_uri": "https://localhost:8080/"
        },
        "id": "h0glB9VpLMG8",
        "outputId": "c583ab7d-c7dd-4f65-a97d-c7a867d3c1be"
      },
      "source": [
        "# Checking info for channel names, frequency\n",
        "info = reduced_data_array.info\n",
        "print(reduced_data_array.info)"
      ],
      "execution_count": null,
      "outputs": [
        {
          "output_type": "stream",
          "name": "stdout",
          "text": [
            "<Info | 7 non-empty values\n",
            " bads: []\n",
            " ch_names: Fp1, AF3, F3, F7, FC5, FC1, C3, T7, CP5, CP1, P3, P7, PO3, O1, ...\n",
            " chs: 32 EEG\n",
            " custom_ref_applied: False\n",
            " highpass: 0.0 Hz\n",
            " lowpass: 64.0 Hz\n",
            " meas_date: unspecified\n",
            " nchan: 32\n",
            " projs: []\n",
            " sfreq: 128.0 Hz\n",
            ">\n"
          ]
        }
      ]
    },
    {
      "cell_type": "code",
      "metadata": {
        "colab": {
          "base_uri": "https://localhost:8080/"
        },
        "id": "P8OFBGvz8bbK",
        "outputId": "0456b8c7-3dac-40cc-edd4-b39d7ad63b0a"
      },
      "source": [
        "bandpass_filt_data = reduced_data_array.filter(4,45, method='iir')\n",
        "print(bandpass_filt_data)"
      ],
      "execution_count": null,
      "outputs": [
        {
          "output_type": "stream",
          "name": "stdout",
          "text": [
            "Filtering raw data in 1 contiguous segment\n",
            "Setting up band-pass filter from 4 - 45 Hz\n",
            "\n",
            "IIR filter parameters\n",
            "---------------------\n",
            "Butterworth bandpass zero-phase (two-pass forward and reverse) non-causal filter:\n",
            "- Filter order 16 (effective, after forward-backward)\n",
            "- Cutoffs at 4.00, 45.00 Hz: -6.02, -6.02 dB\n",
            "\n",
            "<RawArray | 32 x 7680 (60.0 s), ~1.9 MB, data loaded>\n"
          ]
        }
      ]
    },
    {
      "cell_type": "code",
      "metadata": {
        "colab": {
          "base_uri": "https://localhost:8080/",
          "height": 637
        },
        "id": "-7zPJsFy9aFZ",
        "outputId": "99ed486a-8dd7-405f-b266-363facc178b5"
      },
      "source": [
        "bandpass_filt_data.plot()"
      ],
      "execution_count": null,
      "outputs": [
        {
          "output_type": "stream",
          "name": "stderr",
          "text": [
            "/usr/local/lib/python3.7/dist-packages/matplotlib/colors.py:263: VisibleDeprecationWarning: Creating an ndarray from ragged nested sequences (which is a list-or-tuple of lists-or-tuples-or ndarrays with different lengths or shapes) is deprecated. If you meant to do this, you must specify 'dtype=object' when creating the ndarray\n",
            "  c = np.array(c)\n"
          ]
        },
        {
          "output_type": "display_data",
          "data": {
            "image/png": "[encoded data removed]",
            "text/plain": [
              "<MNEBrowseFigure size 432x288 with 4 Axes>"
            ]
          },
          "metadata": {
            "needs_background": "light"
          }
        },
        {
          "output_type": "execute_result",
          "data": {
            "image/png": "[encoded data removed]",
            "text/plain": [
              "<MNEBrowseFigure size 432x288 with 4 Axes>"
            ]
          },
          "metadata": {},
          "execution_count": 22
        }
      ]
    },
    {
      "cell_type": "markdown",
      "metadata": {
        "id": "bLpn-w3hAPbO"
      },
      "source": [
        "###**1.6 Removal of artifacts using Independent Component Analysis(ICA)**"
      ]
    },
    {
      "cell_type": "code",
      "metadata": {
        "colab": {
          "base_uri": "https://localhost:8080/"
        },
        "id": "7YOFNDD4J1pV",
        "outputId": "4c67d3da-341f-4309-fcbf-bc608a23b9e9"
      },
      "source": [
        "info = mne.create_info(eeg_channels.tolist(), ch_types=32*['eeg'], sfreq=128)\n",
        "info.set_montage('standard_1020')\n",
        "print(info)"
      ],
      "execution_count": null,
      "outputs": [
        {
          "output_type": "stream",
          "name": "stdout",
          "text": [
            "<Info | 8 non-empty values\n",
            " bads: []\n",
            " ch_names: Fp1, AF3, F3, F7, FC5, FC1, C3, T7, CP5, CP1, P3, P7, PO3, O1, ...\n",
            " chs: 32 EEG\n",
            " custom_ref_applied: False\n",
            " dig: 35 items (3 Cardinal, 32 EEG)\n",
            " highpass: 0.0 Hz\n",
            " lowpass: 64.0 Hz\n",
            " meas_date: unspecified\n",
            " nchan: 32\n",
            " projs: []\n",
            " sfreq: 128.0 Hz\n",
            ">\n"
          ]
        }
      ]
    },
    {
      "cell_type": "code",
      "metadata": {
        "colab": {
          "base_uri": "https://localhost:8080/"
        },
        "id": "fNxI2-37CICU",
        "outputId": "a25f3df0-410b-4580-f740-daae9898871f"
      },
      "source": [
        "info = mne.create_info(ch_names=(\"Fp1\", \"AF3\", \"F3\", \"F7\", \"FC5\", \"FC1\", \"C3\", \"T7\", \"CP5\", \"CP1\", \"P3\", \"P7\", \"PO3\", \"O1\", \"Oz\", \"Pz\", \"Fp2\", \"AF4\", \"Fz\", \"F4\", \"F8\", \"FC6\", \"FC2\", \"Cz\", \"C4\", \"T8\", \"CP6\", \"CP2\", \"P4\", \"P8\", \"PO4\", \"O2\"), sfreq=128, ch_types='eeg')\n",
        "#info = mne.create_info(32, sfreq=128)\n",
        "print(info)"
      ],
      "execution_count": null,
      "outputs": [
        {
          "output_type": "stream",
          "name": "stdout",
          "text": [
            "<Info | 7 non-empty values\n",
            " bads: []\n",
            " ch_names: Fp1, AF3, F3, F7, FC5, FC1, C3, T7, CP5, CP1, P3, P7, PO3, O1, ...\n",
            " chs: 32 EEG\n",
            " custom_ref_applied: False\n",
            " highpass: 0.0 Hz\n",
            " lowpass: 64.0 Hz\n",
            " meas_date: unspecified\n",
            " nchan: 32\n",
            " projs: []\n",
            " sfreq: 128.0 Hz\n",
            ">\n"
          ]
        }
      ]
    },
    {
      "cell_type": "code",
      "metadata": {
        "id": "l31NI_X3C7dP",
        "colab": {
          "base_uri": "https://localhost:8080/"
        },
        "outputId": "d7059cd5-5d03-4e3e-e473-b1d37dd046f7"
      },
      "source": [
        "# Checking Dictionary keys\n",
        "print(info.keys())\n",
        "print()  # insert a blank line\n",
        "print(info['ch_names'])"
      ],
      "execution_count": null,
      "outputs": [
        {
          "output_type": "stream",
          "name": "stdout",
          "text": [
            "dict_keys(['acq_pars', 'acq_stim', 'ctf_head_t', 'description', 'dev_ctf_t', 'dig', 'experimenter', 'utc_offset', 'device_info', 'file_id', 'highpass', 'hpi_subsystem', 'kit_system_id', 'helium_info', 'line_freq', 'lowpass', 'meas_date', 'meas_id', 'proj_id', 'proj_name', 'subject_info', 'xplotter_layout', 'gantry_angle', 'bads', 'chs', 'comps', 'events', 'hpi_meas', 'hpi_results', 'projs', 'proc_history', 'custom_ref_applied', 'sfreq', 'dev_head_t', 'ch_names', 'nchan'])\n",
            "\n",
            "['Fp1', 'AF3', 'F3', 'F7', 'FC5', 'FC1', 'C3', 'T7', 'CP5', 'CP1', 'P3', 'P7', 'PO3', 'O1', 'Oz', 'Pz', 'Fp2', 'AF4', 'Fz', 'F4', 'F8', 'FC6', 'FC2', 'Cz', 'C4', 'T8', 'CP6', 'CP2', 'P4', 'P8', 'PO4', 'O2']\n"
          ]
        }
      ]
    },
    {
      "cell_type": "code",
      "metadata": {
        "id": "L0KPQoA1C7dQ",
        "colab": {
          "base_uri": "https://localhost:8080/"
        },
        "outputId": "7d4f6a70-7bd5-487d-cef9-eeebeb8a3310"
      },
      "source": [
        "# Checking keys for the channels\n",
        "print(info['chs'])"
      ],
      "execution_count": null,
      "outputs": [
        {
          "output_type": "stream",
          "name": "stdout",
          "text": [
            "[{'loc': array([nan, nan, nan, nan, nan, nan, nan, nan, nan, nan, nan, nan]), 'unit_mul': 0 (FIFF_UNITM_NONE), 'range': 1.0, 'cal': 1.0, 'kind': 2 (FIFFV_EEG_CH), 'coil_type': 1 (FIFFV_COIL_EEG), 'unit': 107 (FIFF_UNIT_V), 'coord_frame': 4 (FIFFV_COORD_HEAD), 'ch_name': 'Fp1', 'scanno': 1, 'logno': 1}, {'loc': array([nan, nan, nan, nan, nan, nan, nan, nan, nan, nan, nan, nan]), 'unit_mul': 0 (FIFF_UNITM_NONE), 'range': 1.0, 'cal': 1.0, 'kind': 2 (FIFFV_EEG_CH), 'coil_type': 1 (FIFFV_COIL_EEG), 'unit': 107 (FIFF_UNIT_V), 'coord_frame': 4 (FIFFV_COORD_HEAD), 'ch_name': 'AF3', 'scanno': 2, 'logno': 2}, {'loc': array([nan, nan, nan, nan, nan, nan, nan, nan, nan, nan, nan, nan]), 'unit_mul': 0 (FIFF_UNITM_NONE), 'range': 1.0, 'cal': 1.0, 'kind': 2 (FIFFV_EEG_CH), 'coil_type': 1 (FIFFV_COIL_EEG), 'unit': 107 (FIFF_UNIT_V), 'coord_frame': 4 (FIFFV_COORD_HEAD), 'ch_name': 'F3', 'scanno': 3, 'logno': 3}, {'loc': array([nan, nan, nan, nan, nan, nan, nan, nan, nan, nan, nan, nan]), 'unit_mul': 0 (FIFF_UNITM_NONE), 'range': 1.0, 'cal': 1.0, 'kind': 2 (FIFFV_EEG_CH), 'coil_type': 1 (FIFFV_COIL_EEG), 'unit': 107 (FIFF_UNIT_V), 'coord_frame': 4 (FIFFV_COORD_HEAD), 'ch_name': 'F7', 'scanno': 4, 'logno': 4}, {'loc': array([nan, nan, nan, nan, nan, nan, nan, nan, nan, nan, nan, nan]), 'unit_mul': 0 (FIFF_UNITM_NONE), 'range': 1.0, 'cal': 1.0, 'kind': 2 (FIFFV_EEG_CH), 'coil_type': 1 (FIFFV_COIL_EEG), 'unit': 107 (FIFF_UNIT_V), 'coord_frame': 4 (FIFFV_COORD_HEAD), 'ch_name': 'FC5', 'scanno': 5, 'logno': 5}, {'loc': array([nan, nan, nan, nan, nan, nan, nan, nan, nan, nan, nan, nan]), 'unit_mul': 0 (FIFF_UNITM_NONE), 'range': 1.0, 'cal': 1.0, 'kind': 2 (FIFFV_EEG_CH), 'coil_type': 1 (FIFFV_COIL_EEG), 'unit': 107 (FIFF_UNIT_V), 'coord_frame': 4 (FIFFV_COORD_HEAD), 'ch_name': 'FC1', 'scanno': 6, 'logno': 6}, {'loc': array([nan, nan, nan, nan, nan, nan, nan, nan, nan, nan, nan, nan]), 'unit_mul': 0 (FIFF_UNITM_NONE), 'range': 1.0, 'cal': 1.0, 'kind': 2 (FIFFV_EEG_CH), 'coil_type': 1 (FIFFV_COIL_EEG), 'unit': 107 (FIFF_UNIT_V), 'coord_frame': 4 (FIFFV_COORD_HEAD), 'ch_name': 'C3', 'scanno': 7, 'logno': 7}, {'loc': array([nan, nan, nan, nan, nan, nan, nan, nan, nan, nan, nan, nan]), 'unit_mul': 0 (FIFF_UNITM_NONE), 'range': 1.0, 'cal': 1.0, 'kind': 2 (FIFFV_EEG_CH), 'coil_type': 1 (FIFFV_COIL_EEG), 'unit': 107 (FIFF_UNIT_V), 'coord_frame': 4 (FIFFV_COORD_HEAD), 'ch_name': 'T7', 'scanno': 8, 'logno': 8}, {'loc': array([nan, nan, nan, nan, nan, nan, nan, nan, nan, nan, nan, nan]), 'unit_mul': 0 (FIFF_UNITM_NONE), 'range': 1.0, 'cal': 1.0, 'kind': 2 (FIFFV_EEG_CH), 'coil_type': 1 (FIFFV_COIL_EEG), 'unit': 107 (FIFF_UNIT_V), 'coord_frame': 4 (FIFFV_COORD_HEAD), 'ch_name': 'CP5', 'scanno': 9, 'logno': 9}, {'loc': array([nan, nan, nan, nan, nan, nan, nan, nan, nan, nan, nan, nan]), 'unit_mul': 0 (FIFF_UNITM_NONE), 'range': 1.0, 'cal': 1.0, 'kind': 2 (FIFFV_EEG_CH), 'coil_type': 1 (FIFFV_COIL_EEG), 'unit': 107 (FIFF_UNIT_V), 'coord_frame': 4 (FIFFV_COORD_HEAD), 'ch_name': 'CP1', 'scanno': 10, 'logno': 10}, {'loc': array([nan, nan, nan, nan, nan, nan, nan, nan, nan, nan, nan, nan]), 'unit_mul': 0 (FIFF_UNITM_NONE), 'range': 1.0, 'cal': 1.0, 'kind': 2 (FIFFV_EEG_CH), 'coil_type': 1 (FIFFV_COIL_EEG), 'unit': 107 (FIFF_UNIT_V), 'coord_frame': 4 (FIFFV_COORD_HEAD), 'ch_name': 'P3', 'scanno': 11, 'logno': 11}, {'loc': array([nan, nan, nan, nan, nan, nan, nan, nan, nan, nan, nan, nan]), 'unit_mul': 0 (FIFF_UNITM_NONE), 'range': 1.0, 'cal': 1.0, 'kind': 2 (FIFFV_EEG_CH), 'coil_type': 1 (FIFFV_COIL_EEG), 'unit': 107 (FIFF_UNIT_V), 'coord_frame': 4 (FIFFV_COORD_HEAD), 'ch_name': 'P7', 'scanno': 12, 'logno': 12}, {'loc': array([nan, nan, nan, nan, nan, nan, nan, nan, nan, nan, nan, nan]), 'unit_mul': 0 (FIFF_UNITM_NONE), 'range': 1.0, 'cal': 1.0, 'kind': 2 (FIFFV_EEG_CH), 'coil_type': 1 (FIFFV_COIL_EEG), 'unit': 107 (FIFF_UNIT_V), 'coord_frame': 4 (FIFFV_COORD_HEAD), 'ch_name': 'PO3', 'scanno': 13, 'logno': 13}, {'loc': array([nan, nan, nan, nan, nan, nan, nan, nan, nan, nan, nan, nan]), 'unit_mul': 0 (FIFF_UNITM_NONE), 'range': 1.0, 'cal': 1.0, 'kind': 2 (FIFFV_EEG_CH), 'coil_type': 1 (FIFFV_COIL_EEG), 'unit': 107 (FIFF_UNIT_V), 'coord_frame': 4 (FIFFV_COORD_HEAD), 'ch_name': 'O1', 'scanno': 14, 'logno': 14}, {'loc': array([nan, nan, nan, nan, nan, nan, nan, nan, nan, nan, nan, nan]), 'unit_mul': 0 (FIFF_UNITM_NONE), 'range': 1.0, 'cal': 1.0, 'kind': 2 (FIFFV_EEG_CH), 'coil_type': 1 (FIFFV_COIL_EEG), 'unit': 107 (FIFF_UNIT_V), 'coord_frame': 4 (FIFFV_COORD_HEAD), 'ch_name': 'Oz', 'scanno': 15, 'logno': 15}, {'loc': array([nan, nan, nan, nan, nan, nan, nan, nan, nan, nan, nan, nan]), 'unit_mul': 0 (FIFF_UNITM_NONE), 'range': 1.0, 'cal': 1.0, 'kind': 2 (FIFFV_EEG_CH), 'coil_type': 1 (FIFFV_COIL_EEG), 'unit': 107 (FIFF_UNIT_V), 'coord_frame': 4 (FIFFV_COORD_HEAD), 'ch_name': 'Pz', 'scanno': 16, 'logno': 16}, {'loc': array([nan, nan, nan, nan, nan, nan, nan, nan, nan, nan, nan, nan]), 'unit_mul': 0 (FIFF_UNITM_NONE), 'range': 1.0, 'cal': 1.0, 'kind': 2 (FIFFV_EEG_CH), 'coil_type': 1 (FIFFV_COIL_EEG), 'unit': 107 (FIFF_UNIT_V), 'coord_frame': 4 (FIFFV_COORD_HEAD), 'ch_name': 'Fp2', 'scanno': 17, 'logno': 17}, {'loc': array([nan, nan, nan, nan, nan, nan, nan, nan, nan, nan, nan, nan]), 'unit_mul': 0 (FIFF_UNITM_NONE), 'range': 1.0, 'cal': 1.0, 'kind': 2 (FIFFV_EEG_CH), 'coil_type': 1 (FIFFV_COIL_EEG), 'unit': 107 (FIFF_UNIT_V), 'coord_frame': 4 (FIFFV_COORD_HEAD), 'ch_name': 'AF4', 'scanno': 18, 'logno': 18}, {'loc': array([nan, nan, nan, nan, nan, nan, nan, nan, nan, nan, nan, nan]), 'unit_mul': 0 (FIFF_UNITM_NONE), 'range': 1.0, 'cal': 1.0, 'kind': 2 (FIFFV_EEG_CH), 'coil_type': 1 (FIFFV_COIL_EEG), 'unit': 107 (FIFF_UNIT_V), 'coord_frame': 4 (FIFFV_COORD_HEAD), 'ch_name': 'Fz', 'scanno': 19, 'logno': 19}, {'loc': array([nan, nan, nan, nan, nan, nan, nan, nan, nan, nan, nan, nan]), 'unit_mul': 0 (FIFF_UNITM_NONE), 'range': 1.0, 'cal': 1.0, 'kind': 2 (FIFFV_EEG_CH), 'coil_type': 1 (FIFFV_COIL_EEG), 'unit': 107 (FIFF_UNIT_V), 'coord_frame': 4 (FIFFV_COORD_HEAD), 'ch_name': 'F4', 'scanno': 20, 'logno': 20}, {'loc': array([nan, nan, nan, nan, nan, nan, nan, nan, nan, nan, nan, nan]), 'unit_mul': 0 (FIFF_UNITM_NONE), 'range': 1.0, 'cal': 1.0, 'kind': 2 (FIFFV_EEG_CH), 'coil_type': 1 (FIFFV_COIL_EEG), 'unit': 107 (FIFF_UNIT_V), 'coord_frame': 4 (FIFFV_COORD_HEAD), 'ch_name': 'F8', 'scanno': 21, 'logno': 21}, {'loc': array([nan, nan, nan, nan, nan, nan, nan, nan, nan, nan, nan, nan]), 'unit_mul': 0 (FIFF_UNITM_NONE), 'range': 1.0, 'cal': 1.0, 'kind': 2 (FIFFV_EEG_CH), 'coil_type': 1 (FIFFV_COIL_EEG), 'unit': 107 (FIFF_UNIT_V), 'coord_frame': 4 (FIFFV_COORD_HEAD), 'ch_name': 'FC6', 'scanno': 22, 'logno': 22}, {'loc': array([nan, nan, nan, nan, nan, nan, nan, nan, nan, nan, nan, nan]), 'unit_mul': 0 (FIFF_UNITM_NONE), 'range': 1.0, 'cal': 1.0, 'kind': 2 (FIFFV_EEG_CH), 'coil_type': 1 (FIFFV_COIL_EEG), 'unit': 107 (FIFF_UNIT_V), 'coord_frame': 4 (FIFFV_COORD_HEAD), 'ch_name': 'FC2', 'scanno': 23, 'logno': 23}, {'loc': array([nan, nan, nan, nan, nan, nan, nan, nan, nan, nan, nan, nan]), 'unit_mul': 0 (FIFF_UNITM_NONE), 'range': 1.0, 'cal': 1.0, 'kind': 2 (FIFFV_EEG_CH), 'coil_type': 1 (FIFFV_COIL_EEG), 'unit': 107 (FIFF_UNIT_V), 'coord_frame': 4 (FIFFV_COORD_HEAD), 'ch_name': 'Cz', 'scanno': 24, 'logno': 24}, {'loc': array([nan, nan, nan, nan, nan, nan, nan, nan, nan, nan, nan, nan]), 'unit_mul': 0 (FIFF_UNITM_NONE), 'range': 1.0, 'cal': 1.0, 'kind': 2 (FIFFV_EEG_CH), 'coil_type': 1 (FIFFV_COIL_EEG), 'unit': 107 (FIFF_UNIT_V), 'coord_frame': 4 (FIFFV_COORD_HEAD), 'ch_name': 'C4', 'scanno': 25, 'logno': 25}, {'loc': array([nan, nan, nan, nan, nan, nan, nan, nan, nan, nan, nan, nan]), 'unit_mul': 0 (FIFF_UNITM_NONE), 'range': 1.0, 'cal': 1.0, 'kind': 2 (FIFFV_EEG_CH), 'coil_type': 1 (FIFFV_COIL_EEG), 'unit': 107 (FIFF_UNIT_V), 'coord_frame': 4 (FIFFV_COORD_HEAD), 'ch_name': 'T8', 'scanno': 26, 'logno': 26}, {'loc': array([nan, nan, nan, nan, nan, nan, nan, nan, nan, nan, nan, nan]), 'unit_mul': 0 (FIFF_UNITM_NONE), 'range': 1.0, 'cal': 1.0, 'kind': 2 (FIFFV_EEG_CH), 'coil_type': 1 (FIFFV_COIL_EEG), 'unit': 107 (FIFF_UNIT_V), 'coord_frame': 4 (FIFFV_COORD_HEAD), 'ch_name': 'CP6', 'scanno': 27, 'logno': 27}, {'loc': array([nan, nan, nan, nan, nan, nan, nan, nan, nan, nan, nan, nan]), 'unit_mul': 0 (FIFF_UNITM_NONE), 'range': 1.0, 'cal': 1.0, 'kind': 2 (FIFFV_EEG_CH), 'coil_type': 1 (FIFFV_COIL_EEG), 'unit': 107 (FIFF_UNIT_V), 'coord_frame': 4 (FIFFV_COORD_HEAD), 'ch_name': 'CP2', 'scanno': 28, 'logno': 28}, {'loc': array([nan, nan, nan, nan, nan, nan, nan, nan, nan, nan, nan, nan]), 'unit_mul': 0 (FIFF_UNITM_NONE), 'range': 1.0, 'cal': 1.0, 'kind': 2 (FIFFV_EEG_CH), 'coil_type': 1 (FIFFV_COIL_EEG), 'unit': 107 (FIFF_UNIT_V), 'coord_frame': 4 (FIFFV_COORD_HEAD), 'ch_name': 'P4', 'scanno': 29, 'logno': 29}, {'loc': array([nan, nan, nan, nan, nan, nan, nan, nan, nan, nan, nan, nan]), 'unit_mul': 0 (FIFF_UNITM_NONE), 'range': 1.0, 'cal': 1.0, 'kind': 2 (FIFFV_EEG_CH), 'coil_type': 1 (FIFFV_COIL_EEG), 'unit': 107 (FIFF_UNIT_V), 'coord_frame': 4 (FIFFV_COORD_HEAD), 'ch_name': 'P8', 'scanno': 30, 'logno': 30}, {'loc': array([nan, nan, nan, nan, nan, nan, nan, nan, nan, nan, nan, nan]), 'unit_mul': 0 (FIFF_UNITM_NONE), 'range': 1.0, 'cal': 1.0, 'kind': 2 (FIFFV_EEG_CH), 'coil_type': 1 (FIFFV_COIL_EEG), 'unit': 107 (FIFF_UNIT_V), 'coord_frame': 4 (FIFFV_COORD_HEAD), 'ch_name': 'PO4', 'scanno': 31, 'logno': 31}, {'loc': array([nan, nan, nan, nan, nan, nan, nan, nan, nan, nan, nan, nan]), 'unit_mul': 0 (FIFF_UNITM_NONE), 'range': 1.0, 'cal': 1.0, 'kind': 2 (FIFFV_EEG_CH), 'coil_type': 1 (FIFFV_COIL_EEG), 'unit': 107 (FIFF_UNIT_V), 'coord_frame': 4 (FIFFV_COORD_HEAD), 'ch_name': 'O2', 'scanno': 32, 'logno': 32}]\n"
          ]
        }
      ]
    },
    {
      "cell_type": "code",
      "metadata": {
        "id": "2PtrTt5eC7dQ",
        "colab": {
          "base_uri": "https://localhost:8080/"
        },
        "outputId": "1d908c18-4511-4f03-b4c3-79623752235a"
      },
      "source": [
        "# Confirming EEG channels\n",
        "eeg_ch = mne.pick_channels(info['ch_names'], include=['Fp1', 'AF3', 'F7', 'F3', 'FC1', 'FC5', 'T7', 'C3', 'CP1', \n",
        "                                                   'CP5', 'P7', 'P3', 'Pz', 'PO3', 'O1', 'Oz', 'O2', 'PO4', 'P4', 'P8', \n",
        "                                                   'CP6', 'CP2', 'C4', 'T8', 'FC6', 'FC2', 'F4', 'F8', 'AF4', 'Fp2', 'Fz', 'Cz'])\n",
        "print(eeg_ch)"
      ],
      "execution_count": null,
      "outputs": [
        {
          "output_type": "stream",
          "name": "stdout",
          "text": [
            "[ 0  1  2  3  4  5  6  7  8  9 10 11 12 13 14 15 16 17 18 19 20 21 22 23\n",
            " 24 25 26 27 28 29 30 31]\n"
          ]
        }
      ]
    },
    {
      "cell_type": "code",
      "metadata": {
        "colab": {
          "base_uri": "https://localhost:8080/"
        },
        "id": "E9ID-h28il1D",
        "outputId": "87d4971c-c9b6-45db-d377-2e8fd7286899"
      },
      "source": [
        "ica = mne.preprocessing.ICA(n_components=32, random_state=0)\n",
        "ica_filt_data = ica.fit(bandpass_filt_data)"
      ],
      "execution_count": null,
      "outputs": [
        {
          "output_type": "stream",
          "name": "stdout",
          "text": [
            "Fitting ICA to data using 32 channels (please be patient, this may take a while)\n",
            "Selecting by number: 32 components\n",
            "Fitting ICA took 2.4s.\n"
          ]
        },
        {
          "output_type": "stream",
          "name": "stderr",
          "text": [
            "<ipython-input-28-eb6de62de4b0>:2: RuntimeWarning: Using n_components=32 (resulting in n_components_=32) may lead to an unstable mixing matrix estimation because the ratio between the largest (13) and smallest (2.9e-30) variances is too large (> 1e6); consider setting n_components=0.999999 or an integer <= 31\n",
            "  ica_filt_data = ica.fit(bandpass_filt_data)\n"
          ]
        }
      ]
    },
    {
      "cell_type": "code",
      "metadata": {
        "colab": {
          "base_uri": "https://localhost:8080/"
        },
        "id": "Yq_tjp8kn2mX",
        "outputId": "a91fec13-cf02-4a41-b1ec-2dd51212bdb0"
      },
      "source": [
        "print(ica_filt_data)"
      ],
      "execution_count": null,
      "outputs": [
        {
          "output_type": "stream",
          "name": "stdout",
          "text": [
            "<ICA | raw data decomposition, fit (fastica): 7680 samples, 32 components, channels used: \"eeg\">\n"
          ]
        }
      ]
    },
    {
      "cell_type": "code",
      "metadata": {
        "colab": {
          "base_uri": "https://localhost:8080/",
          "height": 462
        },
        "id": "EGxuJPlbB4s4",
        "outputId": "e4a15aa9-2e6e-4918-8907-0782c1ef038b"
      },
      "source": [
        "# Plotting Scalp Field Distribution of each component\n",
        "ica.plot_components()"
      ],
      "execution_count": null,
      "outputs": [
        {
          "output_type": "stream",
          "name": "stderr",
          "text": [
            "WARNING:root:Did not find any electrode locations (in the info object), will attempt to use digitization points instead. However, if digitization points do not correspond to the EEG electrodes, this will lead to bad results. Please verify that the sensor locations in the plot are accurate.\n"
          ]
        },
        {
          "output_type": "error",
          "ename": "RuntimeError",
          "evalue": "ignored",
          "traceback": [
            "\u001b[0;31m---------------------------------------------------------------------------\u001b[0m",
            "\u001b[0;31mRuntimeError\u001b[0m                              Traceback (most recent call last)",
            "\u001b[0;32m<ipython-input-30-a3aa2bfed445>\u001b[0m in \u001b[0;36m<module>\u001b[0;34m()\u001b[0m\n\u001b[1;32m      1\u001b[0m \u001b[0;31m# Plotting Scalp Field Distribution of each component\u001b[0m\u001b[0;34m\u001b[0m\u001b[0;34m\u001b[0m\u001b[0;34m\u001b[0m\u001b[0m\n\u001b[0;32m----> 2\u001b[0;31m \u001b[0mica\u001b[0m\u001b[0;34m.\u001b[0m\u001b[0mplot_components\u001b[0m\u001b[0;34m(\u001b[0m\u001b[0;34m)\u001b[0m\u001b[0;34m\u001b[0m\u001b[0;34m\u001b[0m\u001b[0m\n\u001b[0m",
            "\u001b[0;32m/usr/local/lib/python3.7/dist-packages/mne/preprocessing/ica.py\u001b[0m in \u001b[0;36mplot_components\u001b[0;34m(self, picks, ch_type, res, vmin, vmax, cmap, sensors, colorbar, title, show, outlines, contours, image_interp, inst, plot_std, topomap_args, image_args, psd_args, reject, sphere, verbose)\u001b[0m\n\u001b[1;32m   1812\u001b[0m                                    \u001b[0mimage_args\u001b[0m\u001b[0;34m=\u001b[0m\u001b[0mimage_args\u001b[0m\u001b[0;34m,\u001b[0m \u001b[0mpsd_args\u001b[0m\u001b[0;34m=\u001b[0m\u001b[0mpsd_args\u001b[0m\u001b[0;34m,\u001b[0m\u001b[0;34m\u001b[0m\u001b[0;34m\u001b[0m\u001b[0m\n\u001b[1;32m   1813\u001b[0m                                    \u001b[0mreject\u001b[0m\u001b[0;34m=\u001b[0m\u001b[0mreject\u001b[0m\u001b[0;34m,\u001b[0m \u001b[0msphere\u001b[0m\u001b[0;34m=\u001b[0m\u001b[0msphere\u001b[0m\u001b[0;34m,\u001b[0m\u001b[0;34m\u001b[0m\u001b[0;34m\u001b[0m\u001b[0m\n\u001b[0;32m-> 1814\u001b[0;31m                                    verbose=verbose)\n\u001b[0m\u001b[1;32m   1815\u001b[0m \u001b[0;34m\u001b[0m\u001b[0m\n\u001b[1;32m   1816\u001b[0m     \u001b[0;34m@\u001b[0m\u001b[0mcopy_function_doc_to_method_doc\u001b[0m\u001b[0;34m(\u001b[0m\u001b[0mplot_ica_properties\u001b[0m\u001b[0;34m)\u001b[0m\u001b[0;34m\u001b[0m\u001b[0;34m\u001b[0m\u001b[0m\n",
            "\u001b[0;32m<decorator-gen-137>\u001b[0m in \u001b[0;36mplot_ica_components\u001b[0;34m(ica, picks, ch_type, res, vmin, vmax, cmap, sensors, colorbar, title, show, outlines, contours, image_interp, inst, plot_std, topomap_args, image_args, psd_args, reject, sphere, verbose)\u001b[0m\n",
            "\u001b[0;32m/usr/local/lib/python3.7/dist-packages/mne/viz/topomap.py\u001b[0m in \u001b[0;36mplot_ica_components\u001b[0;34m(ica, picks, ch_type, res, vmin, vmax, cmap, sensors, colorbar, title, show, outlines, contours, image_interp, inst, plot_std, topomap_args, image_args, psd_args, reject, sphere, verbose)\u001b[0m\n\u001b[1;32m   1153\u001b[0m                 \u001b[0mimage_interp\u001b[0m\u001b[0;34m=\u001b[0m\u001b[0mimage_interp\u001b[0m\u001b[0;34m,\u001b[0m \u001b[0minst\u001b[0m\u001b[0;34m=\u001b[0m\u001b[0minst\u001b[0m\u001b[0;34m,\u001b[0m \u001b[0mplot_std\u001b[0m\u001b[0;34m=\u001b[0m\u001b[0mplot_std\u001b[0m\u001b[0;34m,\u001b[0m\u001b[0;34m\u001b[0m\u001b[0;34m\u001b[0m\u001b[0m\n\u001b[1;32m   1154\u001b[0m                 \u001b[0mtopomap_args\u001b[0m\u001b[0;34m=\u001b[0m\u001b[0mtopomap_args\u001b[0m\u001b[0;34m,\u001b[0m \u001b[0mimage_args\u001b[0m\u001b[0;34m=\u001b[0m\u001b[0mimage_args\u001b[0m\u001b[0;34m,\u001b[0m\u001b[0;34m\u001b[0m\u001b[0;34m\u001b[0m\u001b[0m\n\u001b[0;32m-> 1155\u001b[0;31m                 psd_args=psd_args, reject=reject, sphere=sphere)\n\u001b[0m\u001b[1;32m   1156\u001b[0m             \u001b[0mfigs\u001b[0m\u001b[0;34m.\u001b[0m\u001b[0mappend\u001b[0m\u001b[0;34m(\u001b[0m\u001b[0mfig\u001b[0m\u001b[0;34m)\u001b[0m\u001b[0;34m\u001b[0m\u001b[0;34m\u001b[0m\u001b[0m\n\u001b[1;32m   1157\u001b[0m         \u001b[0;32mreturn\u001b[0m \u001b[0mfigs\u001b[0m\u001b[0;34m\u001b[0m\u001b[0;34m\u001b[0m\u001b[0m\n",
            "\u001b[0;32m<decorator-gen-137>\u001b[0m in \u001b[0;36mplot_ica_components\u001b[0;34m(ica, picks, ch_type, res, vmin, vmax, cmap, sensors, colorbar, title, show, outlines, contours, image_interp, inst, plot_std, topomap_args, image_args, psd_args, reject, sphere, verbose)\u001b[0m\n",
            "\u001b[0;32m/usr/local/lib/python3.7/dist-packages/mne/viz/topomap.py\u001b[0m in \u001b[0;36mplot_ica_components\u001b[0;34m(ica, picks, ch_type, res, vmin, vmax, cmap, sensors, colorbar, title, show, outlines, contours, image_interp, inst, plot_std, topomap_args, image_args, psd_args, reject, sphere, verbose)\u001b[0m\n\u001b[1;32m   1165\u001b[0m \u001b[0;34m\u001b[0m\u001b[0m\n\u001b[1;32m   1166\u001b[0m     \u001b[0mdata_picks\u001b[0m\u001b[0;34m,\u001b[0m \u001b[0mpos\u001b[0m\u001b[0;34m,\u001b[0m \u001b[0mmerge_channels\u001b[0m\u001b[0;34m,\u001b[0m \u001b[0mnames\u001b[0m\u001b[0;34m,\u001b[0m \u001b[0mch_type\u001b[0m\u001b[0;34m,\u001b[0m \u001b[0msphere\u001b[0m\u001b[0;34m,\u001b[0m \u001b[0mclip_origin\u001b[0m \u001b[0;34m=\u001b[0m\u001b[0;31m \u001b[0m\u001b[0;31m\\\u001b[0m\u001b[0;34m\u001b[0m\u001b[0;34m\u001b[0m\u001b[0m\n\u001b[0;32m-> 1167\u001b[0;31m         \u001b[0m_prepare_topomap_plot\u001b[0m\u001b[0;34m(\u001b[0m\u001b[0mica\u001b[0m\u001b[0;34m,\u001b[0m \u001b[0mch_type\u001b[0m\u001b[0;34m,\u001b[0m \u001b[0msphere\u001b[0m\u001b[0;34m=\u001b[0m\u001b[0msphere\u001b[0m\u001b[0;34m)\u001b[0m\u001b[0;34m\u001b[0m\u001b[0;34m\u001b[0m\u001b[0m\n\u001b[0m\u001b[1;32m   1168\u001b[0m     \u001b[0moutlines\u001b[0m \u001b[0;34m=\u001b[0m \u001b[0m_make_head_outlines\u001b[0m\u001b[0;34m(\u001b[0m\u001b[0msphere\u001b[0m\u001b[0;34m,\u001b[0m \u001b[0mpos\u001b[0m\u001b[0;34m,\u001b[0m \u001b[0moutlines\u001b[0m\u001b[0;34m,\u001b[0m \u001b[0mclip_origin\u001b[0m\u001b[0;34m)\u001b[0m\u001b[0;34m\u001b[0m\u001b[0;34m\u001b[0m\u001b[0m\n\u001b[1;32m   1169\u001b[0m \u001b[0;34m\u001b[0m\u001b[0m\n",
            "\u001b[0;32m/usr/local/lib/python3.7/dist-packages/mne/viz/topomap.py\u001b[0m in \u001b[0;36m_prepare_topomap_plot\u001b[0;34m(inst, ch_type, sphere)\u001b[0m\n\u001b[1;32m     80\u001b[0m \u001b[0;34m\u001b[0m\u001b[0m\n\u001b[1;32m     81\u001b[0m     \u001b[0;31m# special case for merging grad channels\u001b[0m\u001b[0;34m\u001b[0m\u001b[0;34m\u001b[0m\u001b[0;34m\u001b[0m\u001b[0m\n\u001b[0;32m---> 82\u001b[0;31m     \u001b[0mlayout\u001b[0m \u001b[0;34m=\u001b[0m \u001b[0mfind_layout\u001b[0m\u001b[0;34m(\u001b[0m\u001b[0minfo\u001b[0m\u001b[0;34m)\u001b[0m\u001b[0;34m\u001b[0m\u001b[0;34m\u001b[0m\u001b[0m\n\u001b[0m\u001b[1;32m     83\u001b[0m     if (ch_type == 'grad' and layout is not None and\n\u001b[1;32m     84\u001b[0m             (layout.kind.startswith('Vectorview') or\n",
            "\u001b[0;32m/usr/local/lib/python3.7/dist-packages/mne/channels/layout.py\u001b[0m in \u001b[0;36mfind_layout\u001b[0;34m(info, ch_type, exclude)\u001b[0m\n\u001b[1;32m    423\u001b[0m             raise RuntimeError('Cannot make EEG layout, no measurement info '\n\u001b[1;32m    424\u001b[0m                                'was passed to `find_layout`')\n\u001b[0;32m--> 425\u001b[0;31m         \u001b[0;32mreturn\u001b[0m \u001b[0mmake_eeg_layout\u001b[0m\u001b[0;34m(\u001b[0m\u001b[0minfo\u001b[0m\u001b[0;34m,\u001b[0m \u001b[0mexclude\u001b[0m\u001b[0;34m=\u001b[0m\u001b[0mexclude\u001b[0m\u001b[0;34m)\u001b[0m\u001b[0;34m\u001b[0m\u001b[0;34m\u001b[0m\u001b[0m\n\u001b[0m\u001b[1;32m    426\u001b[0m     \u001b[0;32melif\u001b[0m \u001b[0mhas_csd_coils\u001b[0m \u001b[0;32mand\u001b[0m \u001b[0mch_type\u001b[0m \u001b[0;32min\u001b[0m \u001b[0;34m[\u001b[0m\u001b[0;32mNone\u001b[0m\u001b[0;34m,\u001b[0m \u001b[0;34m'csd'\u001b[0m\u001b[0;34m]\u001b[0m\u001b[0;34m:\u001b[0m\u001b[0;34m\u001b[0m\u001b[0;34m\u001b[0m\u001b[0m\n\u001b[1;32m    427\u001b[0m         \u001b[0;32mreturn\u001b[0m \u001b[0mmake_eeg_layout\u001b[0m\u001b[0;34m(\u001b[0m\u001b[0minfo\u001b[0m\u001b[0;34m,\u001b[0m \u001b[0mexclude\u001b[0m\u001b[0;34m=\u001b[0m\u001b[0mexclude\u001b[0m\u001b[0;34m,\u001b[0m \u001b[0mcsd\u001b[0m\u001b[0;34m=\u001b[0m\u001b[0;32mTrue\u001b[0m\u001b[0;34m)\u001b[0m\u001b[0;34m\u001b[0m\u001b[0;34m\u001b[0m\u001b[0m\n",
            "\u001b[0;32m/usr/local/lib/python3.7/dist-packages/mne/channels/layout.py\u001b[0m in \u001b[0;36mmake_eeg_layout\u001b[0;34m(info, radius, width, height, exclude, csd)\u001b[0m\n\u001b[1;32m    257\u001b[0m         \u001b[0mpick_kwargs\u001b[0m\u001b[0;34m.\u001b[0m\u001b[0mupdate\u001b[0m\u001b[0;34m(\u001b[0m\u001b[0mcsd\u001b[0m\u001b[0;34m=\u001b[0m\u001b[0;32mTrue\u001b[0m\u001b[0;34m,\u001b[0m \u001b[0meeg\u001b[0m\u001b[0;34m=\u001b[0m\u001b[0;32mFalse\u001b[0m\u001b[0;34m)\u001b[0m\u001b[0;34m\u001b[0m\u001b[0;34m\u001b[0m\u001b[0m\n\u001b[1;32m    258\u001b[0m     \u001b[0mpicks\u001b[0m \u001b[0;34m=\u001b[0m \u001b[0mpick_types\u001b[0m\u001b[0;34m(\u001b[0m\u001b[0minfo\u001b[0m\u001b[0;34m,\u001b[0m \u001b[0;34m**\u001b[0m\u001b[0mpick_kwargs\u001b[0m\u001b[0;34m)\u001b[0m\u001b[0;34m\u001b[0m\u001b[0;34m\u001b[0m\u001b[0m\n\u001b[0;32m--> 259\u001b[0;31m     \u001b[0mloc2d\u001b[0m \u001b[0;34m=\u001b[0m \u001b[0m_find_topomap_coords\u001b[0m\u001b[0;34m(\u001b[0m\u001b[0minfo\u001b[0m\u001b[0;34m,\u001b[0m \u001b[0mpicks\u001b[0m\u001b[0;34m)\u001b[0m\u001b[0;34m\u001b[0m\u001b[0;34m\u001b[0m\u001b[0m\n\u001b[0m\u001b[1;32m    260\u001b[0m     \u001b[0mnames\u001b[0m \u001b[0;34m=\u001b[0m \u001b[0;34m[\u001b[0m\u001b[0minfo\u001b[0m\u001b[0;34m[\u001b[0m\u001b[0;34m'chs'\u001b[0m\u001b[0;34m]\u001b[0m\u001b[0;34m[\u001b[0m\u001b[0mi\u001b[0m\u001b[0;34m]\u001b[0m\u001b[0;34m[\u001b[0m\u001b[0;34m'ch_name'\u001b[0m\u001b[0;34m]\u001b[0m \u001b[0;32mfor\u001b[0m \u001b[0mi\u001b[0m \u001b[0;32min\u001b[0m \u001b[0mpicks\u001b[0m\u001b[0;34m]\u001b[0m\u001b[0;34m\u001b[0m\u001b[0;34m\u001b[0m\u001b[0m\n\u001b[1;32m    261\u001b[0m \u001b[0;34m\u001b[0m\u001b[0m\n",
            "\u001b[0;32m/usr/local/lib/python3.7/dist-packages/mne/channels/layout.py\u001b[0m in \u001b[0;36m_find_topomap_coords\u001b[0;34m(info, picks, layout, ignore_overlap, to_sphere, sphere)\u001b[0m\n\u001b[1;32m    624\u001b[0m         pos = _auto_topomap_coords(\n\u001b[1;32m    625\u001b[0m             \u001b[0minfo\u001b[0m\u001b[0;34m,\u001b[0m \u001b[0mpicks\u001b[0m\u001b[0;34m,\u001b[0m \u001b[0mignore_overlap\u001b[0m\u001b[0;34m=\u001b[0m\u001b[0mignore_overlap\u001b[0m\u001b[0;34m,\u001b[0m \u001b[0mto_sphere\u001b[0m\u001b[0;34m=\u001b[0m\u001b[0mto_sphere\u001b[0m\u001b[0;34m,\u001b[0m\u001b[0;34m\u001b[0m\u001b[0;34m\u001b[0m\u001b[0m\n\u001b[0;32m--> 626\u001b[0;31m             sphere=sphere)\n\u001b[0m\u001b[1;32m    627\u001b[0m \u001b[0;34m\u001b[0m\u001b[0m\n\u001b[1;32m    628\u001b[0m     \u001b[0;32mreturn\u001b[0m \u001b[0mpos\u001b[0m\u001b[0;34m\u001b[0m\u001b[0;34m\u001b[0m\u001b[0m\n",
            "\u001b[0;32m/usr/local/lib/python3.7/dist-packages/mne/channels/layout.py\u001b[0m in \u001b[0;36m_auto_topomap_coords\u001b[0;34m(info, picks, ignore_overlap, to_sphere, sphere)\u001b[0m\n\u001b[1;32m    687\u001b[0m         \u001b[0;31m# Get EEG digitization points\u001b[0m\u001b[0;34m\u001b[0m\u001b[0;34m\u001b[0m\u001b[0;34m\u001b[0m\u001b[0m\n\u001b[1;32m    688\u001b[0m         \u001b[0;32mif\u001b[0m \u001b[0minfo\u001b[0m\u001b[0;34m[\u001b[0m\u001b[0;34m'dig'\u001b[0m\u001b[0;34m]\u001b[0m \u001b[0;32mis\u001b[0m \u001b[0;32mNone\u001b[0m \u001b[0;32mor\u001b[0m \u001b[0mlen\u001b[0m\u001b[0;34m(\u001b[0m\u001b[0minfo\u001b[0m\u001b[0;34m[\u001b[0m\u001b[0;34m'dig'\u001b[0m\u001b[0;34m]\u001b[0m\u001b[0;34m)\u001b[0m \u001b[0;34m==\u001b[0m \u001b[0;36m0\u001b[0m\u001b[0;34m:\u001b[0m\u001b[0;34m\u001b[0m\u001b[0;34m\u001b[0m\u001b[0m\n\u001b[0;32m--> 689\u001b[0;31m             \u001b[0;32mraise\u001b[0m \u001b[0mRuntimeError\u001b[0m\u001b[0;34m(\u001b[0m\u001b[0;34m'No digitization points found.'\u001b[0m\u001b[0;34m)\u001b[0m\u001b[0;34m\u001b[0m\u001b[0;34m\u001b[0m\u001b[0m\n\u001b[0m\u001b[1;32m    690\u001b[0m \u001b[0;34m\u001b[0m\u001b[0m\n\u001b[1;32m    691\u001b[0m         locs3d = np.array([point['r'] for point in info['dig']\n",
            "\u001b[0;31mRuntimeError\u001b[0m: No digitization points found."
          ]
        }
      ]
    },
    {
      "cell_type": "markdown",
      "metadata": {
        "id": "9NMIuD3jRXZw"
      },
      "source": [
        " **To set the reference to the default that came with the headset**"
      ]
    },
    {
      "cell_type": "code",
      "metadata": {
        "colab": {
          "base_uri": "https://localhost:8080/"
        },
        "id": "T50k63GY7cAH",
        "outputId": "1264917e-ce2e-4e00-9790-b22c6771b5c8"
      },
      "source": [
        "bandpass_filt_data.set_eeg_reference([]) "
      ],
      "execution_count": null,
      "outputs": [
        {
          "output_type": "stream",
          "name": "stdout",
          "text": [
            "EEG channel type selected for re-referencing\n",
            "EEG data marked as already having the desired reference.\n"
          ]
        },
        {
          "output_type": "execute_result",
          "data": {
            "text/plain": [
              "<RawArray | 32 x 7680 (60.0 s), ~1.9 MB, data loaded>"
            ]
          },
          "metadata": {},
          "execution_count": 34
        }
      ]
    },
    {
      "cell_type": "markdown",
      "metadata": {
        "id": "00AyUP38QS3H"
      },
      "source": [
        "**To set the reference to a custom combination of electrodes**"
      ]
    },
    {
      "cell_type": "code",
      "metadata": {
        "colab": {
          "base_uri": "https://localhost:8080/"
        },
        "id": "dGhB-71hQCsI",
        "outputId": "58b0c02a-391e-4f6c-d42d-c2df3c47f56d"
      },
      "source": [
        "bandpass_filt_data.set_eeg_reference([\"Fp1\", \"AF3\", \"F3\", \"F7\", \"FC5\", \"FC1\", \"C3\", \"T7\", \"CP5\", \"CP1\", \"P3\", \"P7\", \"PO3\", \"O1\", \"Oz\", \"Pz\", \"Fp2\", \"AF4\", \"Fz\", \"F4\", \"F8\", \"FC6\", \"FC2\", \"Cz\", \"C4\", \"T8\", \"CP6\", \"CP2\", \"P4\", \"P8\", \"PO4\", \"O2\"])  "
      ],
      "execution_count": null,
      "outputs": [
        {
          "output_type": "stream",
          "name": "stdout",
          "text": [
            "EEG channel type selected for re-referencing\n",
            "Applying a custom EEG reference.\n"
          ]
        },
        {
          "output_type": "execute_result",
          "data": {
            "text/plain": [
              "<RawArray | 32 x 7680 (60.0 s), ~1.9 MB, data loaded>"
            ]
          },
          "metadata": {},
          "execution_count": 35
        }
      ]
    },
    {
      "cell_type": "code",
      "metadata": {
        "colab": {
          "base_uri": "https://localhost:8080/",
          "height": 688
        },
        "id": "lfUYOUTRU4LI",
        "outputId": "0d6e29d2-40b9-4260-fe55-50141a4bf6d8"
      },
      "source": [
        "raw_avg_ref = bandpass_filt_data.copy().set_eeg_reference(ref_channels='average')\n",
        "raw_avg_ref.plot()"
      ],
      "execution_count": null,
      "outputs": [
        {
          "output_type": "stream",
          "name": "stdout",
          "text": [
            "EEG channel type selected for re-referencing\n",
            "Applying average reference.\n",
            "Applying a custom EEG reference.\n"
          ]
        },
        {
          "output_type": "stream",
          "name": "stderr",
          "text": [
            "/usr/local/lib/python3.7/dist-packages/matplotlib/colors.py:263: VisibleDeprecationWarning: Creating an ndarray from ragged nested sequences (which is a list-or-tuple of lists-or-tuples-or ndarrays with different lengths or shapes) is deprecated. If you meant to do this, you must specify 'dtype=object' when creating the ndarray\n",
            "  c = np.array(c)\n"
          ]
        },
        {
          "output_type": "display_data",
          "data": {
            "image/png": "[encoded data removed]",
            "text/plain": [
              "<MNEBrowseFigure size 432x288 with 4 Axes>"
            ]
          },
          "metadata": {
            "needs_background": "light"
          }
        },
        {
          "output_type": "execute_result",
          "data": {
            "image/png": "[encoded data removed]",
            "text/plain": [
              "<MNEBrowseFigure size 432x288 with 4 Axes>"
            ]
          },
          "metadata": {},
          "execution_count": 36
        }
      ]
    },
    {
      "cell_type": "code",
      "metadata": {
        "colab": {
          "base_uri": "https://localhost:8080/"
        },
        "id": "nXNJ3rHOm_ZY",
        "outputId": "e20db197-66f5-455e-cc84-5d058829268e"
      },
      "source": [
        "print(raw_avg_ref)\n",
        "print(type(raw_avg_ref))"
      ],
      "execution_count": null,
      "outputs": [
        {
          "output_type": "stream",
          "name": "stdout",
          "text": [
            "<RawArray | 32 x 7680 (60.0 s), ~1.9 MB, data loaded>\n",
            "<class 'mne.io.array.array.RawArray'>\n"
          ]
        }
      ]
    },
    {
      "cell_type": "code",
      "metadata": {
        "id": "l0Kyo5sDocjL"
      },
      "source": [
        "h = raw_avg_ref.to_data_frame"
      ],
      "execution_count": null,
      "outputs": []
    },
    {
      "cell_type": "code",
      "metadata": {
        "colab": {
          "base_uri": "https://localhost:8080/"
        },
        "id": "DSIQIZdpt4Nd",
        "outputId": "e4452bbb-40e0-444e-9c24-959aedcadf41"
      },
      "source": [
        "h = raw_avg_ref[:][0]\n",
        "print(h)\n",
        "h.shape"
      ],
      "execution_count": null,
      "outputs": [
        {
          "output_type": "stream",
          "name": "stdout",
          "text": [
            "[[ 1.50247927e-03  2.12821475e+00  2.09710970e+00 ...  1.49445370e-01\n",
            "  -1.71696296e+00  6.59681128e-03]\n",
            " [ 3.61839991e-04 -3.77631276e-02 -2.95640145e+00 ... -9.15252367e-01\n",
            "  -1.89617496e+00  1.05090385e-03]\n",
            " [ 5.84075023e-04  3.86017045e+00 -5.22437118e+00 ... -4.36935759e-02\n",
            "  -1.40470531e+00  2.52967643e-03]\n",
            " ...\n",
            " [ 2.55045511e-03  6.28374332e-02  7.36982179e+00 ... -2.02510872e+00\n",
            "  -9.40426202e-01  5.58680607e-04]\n",
            " [-6.88862844e-04 -1.48792031e-01  7.74401534e-01 ...  3.37074669e+00\n",
            "   2.83736709e+00  2.38039205e-03]\n",
            " [-1.44022415e-03 -2.49059472e+00 -2.03555503e+00 ...  7.97494635e-01\n",
            "  -3.12561267e-01  2.38824029e-03]]\n"
          ]
        },
        {
          "output_type": "execute_result",
          "data": {
            "text/plain": [
              "(32, 7680)"
            ]
          },
          "metadata": {},
          "execution_count": 39
        }
      ]
    },
    {
      "cell_type": "code",
      "metadata": {
        "colab": {
          "base_uri": "https://localhost:8080/"
        },
        "id": "3qvbAnQPWnrc",
        "outputId": "8c34e73a-365c-4584-f016-869c69e0d0ec"
      },
      "source": [
        "print(type(h))"
      ],
      "execution_count": null,
      "outputs": [
        {
          "output_type": "stream",
          "name": "stdout",
          "text": [
            "<class 'numpy.ndarray'>\n"
          ]
        }
      ]
    },
    {
      "cell_type": "code",
      "metadata": {
        "colab": {
          "base_uri": "https://localhost:8080/"
        },
        "id": "THtZfsKrY3RU",
        "outputId": "09b67d5c-3aeb-4044-b56f-070ceeaec562"
      },
      "source": [
        "import numpy as numpy\n",
        "out_array = numpy.array_str(h)\n",
        "print(out_array)\n",
        "print(type(out_array))\n",
        "len(out_array)"
      ],
      "execution_count": null,
      "outputs": [
        {
          "output_type": "stream",
          "name": "stdout",
          "text": [
            "[[ 1.50247927e-03  2.12821475e+00  2.09710970e+00 ...  1.49445370e-01\n",
            "  -1.71696296e+00  6.59681128e-03]\n",
            " [ 3.61839991e-04 -3.77631276e-02 -2.95640145e+00 ... -9.15252367e-01\n",
            "  -1.89617496e+00  1.05090385e-03]\n",
            " [ 5.84075023e-04  3.86017045e+00 -5.22437118e+00 ... -4.36935759e-02\n",
            "  -1.40470531e+00  2.52967643e-03]\n",
            " ...\n",
            " [ 2.55045511e-03  6.28374332e-02  7.36982179e+00 ... -2.02510872e+00\n",
            "  -9.40426202e-01  5.58680607e-04]\n",
            " [-6.88862844e-04 -1.48792031e-01  7.74401534e-01 ...  3.37074669e+00\n",
            "   2.83736709e+00  2.38039205e-03]\n",
            " [-1.44022415e-03 -2.49059472e+00 -2.03555503e+00 ...  7.97494635e-01\n",
            "  -3.12561267e-01  2.38824029e-03]]\n",
            "<class 'str'>\n"
          ]
        },
        {
          "output_type": "execute_result",
          "data": {
            "text/plain": [
              "635"
            ]
          },
          "metadata": {},
          "execution_count": 56
        }
      ]
    },
    {
      "cell_type": "code",
      "metadata": {
        "colab": {
          "base_uri": "https://localhost:8080/",
          "height": 231
        },
        "id": "NwrO5qByc7hV",
        "outputId": "004eba5f-b4b1-43b3-e107-df3ef607f0a3"
      },
      "source": [
        "car_data = []\n",
        "for i in range (len(out_array)):\n",
        "  for j in range (len(eeg_channels)):\n",
        "    car_data.append(out_array[i,j])\n",
        "car_data = np.reshape(car_data, (len(out_array), len(eeg_channels), len(out_array[0,0])))\n",
        "print(car_data.shape)"
      ],
      "execution_count": null,
      "outputs": [
        {
          "output_type": "error",
          "ename": "TypeError",
          "evalue": "ignored",
          "traceback": [
            "\u001b[0;31m---------------------------------------------------------------------------\u001b[0m",
            "\u001b[0;31mTypeError\u001b[0m                                 Traceback (most recent call last)",
            "\u001b[0;32m<ipython-input-53-59c72180f198>\u001b[0m in \u001b[0;36m<module>\u001b[0;34m()\u001b[0m\n\u001b[1;32m      2\u001b[0m \u001b[0;32mfor\u001b[0m \u001b[0mi\u001b[0m \u001b[0;32min\u001b[0m \u001b[0mrange\u001b[0m \u001b[0;34m(\u001b[0m\u001b[0mlen\u001b[0m\u001b[0;34m(\u001b[0m\u001b[0mout_array\u001b[0m\u001b[0;34m)\u001b[0m\u001b[0;34m)\u001b[0m\u001b[0;34m:\u001b[0m\u001b[0;34m\u001b[0m\u001b[0;34m\u001b[0m\u001b[0m\n\u001b[1;32m      3\u001b[0m   \u001b[0;32mfor\u001b[0m \u001b[0mj\u001b[0m \u001b[0;32min\u001b[0m \u001b[0mrange\u001b[0m \u001b[0;34m(\u001b[0m\u001b[0mlen\u001b[0m\u001b[0;34m(\u001b[0m\u001b[0meeg_channels\u001b[0m\u001b[0;34m)\u001b[0m\u001b[0;34m)\u001b[0m\u001b[0;34m:\u001b[0m\u001b[0;34m\u001b[0m\u001b[0;34m\u001b[0m\u001b[0m\n\u001b[0;32m----> 4\u001b[0;31m     \u001b[0mcar_data\u001b[0m\u001b[0;34m.\u001b[0m\u001b[0mappend\u001b[0m\u001b[0;34m(\u001b[0m\u001b[0mout_array\u001b[0m\u001b[0;34m[\u001b[0m\u001b[0mi\u001b[0m\u001b[0;34m,\u001b[0m\u001b[0mj\u001b[0m\u001b[0;34m]\u001b[0m\u001b[0;34m)\u001b[0m\u001b[0;34m\u001b[0m\u001b[0;34m\u001b[0m\u001b[0m\n\u001b[0m\u001b[1;32m      5\u001b[0m \u001b[0mcar_data\u001b[0m \u001b[0;34m=\u001b[0m \u001b[0mnp\u001b[0m\u001b[0;34m.\u001b[0m\u001b[0mreshape\u001b[0m\u001b[0;34m(\u001b[0m\u001b[0mcar_data\u001b[0m\u001b[0;34m,\u001b[0m \u001b[0;34m(\u001b[0m\u001b[0mlen\u001b[0m\u001b[0;34m(\u001b[0m\u001b[0mout_array\u001b[0m\u001b[0;34m)\u001b[0m\u001b[0;34m,\u001b[0m \u001b[0mlen\u001b[0m\u001b[0;34m(\u001b[0m\u001b[0meeg_channels\u001b[0m\u001b[0;34m)\u001b[0m\u001b[0;34m,\u001b[0m \u001b[0mlen\u001b[0m\u001b[0;34m(\u001b[0m\u001b[0mout_array\u001b[0m\u001b[0;34m[\u001b[0m\u001b[0;36m0\u001b[0m\u001b[0;34m,\u001b[0m\u001b[0;36m0\u001b[0m\u001b[0;34m]\u001b[0m\u001b[0;34m)\u001b[0m\u001b[0;34m)\u001b[0m\u001b[0;34m)\u001b[0m\u001b[0;34m\u001b[0m\u001b[0;34m\u001b[0m\u001b[0m\n\u001b[1;32m      6\u001b[0m \u001b[0mprint\u001b[0m\u001b[0;34m(\u001b[0m\u001b[0mcar_data\u001b[0m\u001b[0;34m.\u001b[0m\u001b[0mshape\u001b[0m\u001b[0;34m)\u001b[0m\u001b[0;34m\u001b[0m\u001b[0;34m\u001b[0m\u001b[0m\n",
            "\u001b[0;31mTypeError\u001b[0m: string indices must be integers"
          ]
        }
      ]
    },
    {
      "cell_type": "markdown",
      "metadata": {
        "id": "PQL4IVupDmQg"
      },
      "source": [
        "#**2. Feature Extraction**\n",
        "\n"
      ]
    },
    {
      "cell_type": "code",
      "metadata": {
        "colab": {
          "base_uri": "https://localhost:8080/",
          "height": 231
        },
        "id": "PwoIbwSlEC3T",
        "outputId": "366494aa-7577-4479-8956-47c4012ea180"
      },
      "source": [
        "sns.set(font_scale=1.2)\n",
        "\n",
        "# Define sampling frequency and time vector\n",
        "sf = 128.\n",
        "time = np.arange(out_array.size) / sf\n",
        "\n",
        "# Plot the signal of first trial, last channel \n",
        "fig, ax = plt.subplots(1, 1, figsize=(16, 4))\n",
        "plt.plot(out_array[0,7679], lw=1.5, color='k') \n",
        "plt.xlabel('Time')\n",
        "plt.ylabel('Voltage')\n",
        "sns.despine()"
      ],
      "execution_count": null,
      "outputs": [
        {
          "output_type": "error",
          "ename": "AttributeError",
          "evalue": "ignored",
          "traceback": [
            "\u001b[0;31m---------------------------------------------------------------------------\u001b[0m",
            "\u001b[0;31mAttributeError\u001b[0m                            Traceback (most recent call last)",
            "\u001b[0;32m<ipython-input-55-586b4d8153ea>\u001b[0m in \u001b[0;36m<module>\u001b[0;34m()\u001b[0m\n\u001b[1;32m      3\u001b[0m \u001b[0;31m# Define sampling frequency and time vector\u001b[0m\u001b[0;34m\u001b[0m\u001b[0;34m\u001b[0m\u001b[0;34m\u001b[0m\u001b[0m\n\u001b[1;32m      4\u001b[0m \u001b[0msf\u001b[0m \u001b[0;34m=\u001b[0m \u001b[0;36m128.\u001b[0m\u001b[0;34m\u001b[0m\u001b[0;34m\u001b[0m\u001b[0m\n\u001b[0;32m----> 5\u001b[0;31m \u001b[0mtime\u001b[0m \u001b[0;34m=\u001b[0m \u001b[0mnp\u001b[0m\u001b[0;34m.\u001b[0m\u001b[0marange\u001b[0m\u001b[0;34m(\u001b[0m\u001b[0mout_array\u001b[0m\u001b[0;34m.\u001b[0m\u001b[0msize\u001b[0m\u001b[0;34m)\u001b[0m \u001b[0;34m/\u001b[0m \u001b[0msf\u001b[0m\u001b[0;34m\u001b[0m\u001b[0;34m\u001b[0m\u001b[0m\n\u001b[0m\u001b[1;32m      6\u001b[0m \u001b[0;34m\u001b[0m\u001b[0m\n\u001b[1;32m      7\u001b[0m \u001b[0;31m# Plot the signal of first trial, last channel\u001b[0m\u001b[0;34m\u001b[0m\u001b[0;34m\u001b[0m\u001b[0;34m\u001b[0m\u001b[0m\n",
            "\u001b[0;31mAttributeError\u001b[0m: 'str' object has no attribute 'size'"
          ]
        }
      ]
    },
    {
      "cell_type": "code",
      "metadata": {
        "colab": {
          "base_uri": "https://localhost:8080/",
          "height": 391
        },
        "id": "jc0lBliE0gzI",
        "outputId": "c087ba00-7cef-45c8-effb-7c5fa90f650d"
      },
      "source": [
        "# Define window length (4 seconds)\n",
        "win = 4 * sf\n",
        "freqs, psd = signal.welch(h[0,31], sf, nperseg=win)\n",
        "\n",
        "# Plot the power spectrum\n",
        "sns.set(font_scale=1.2, style='white')\n",
        "plt.figure(figsize=(8, 4))\n",
        "plt.plot(freqs, psd, color='k', lw=2)\n",
        "plt.xlabel('Frequency (Hz)')\n",
        "plt.ylabel('Power spectral density (V^2 / Hz)')\n",
        "plt.ylim([0, psd.max() * 1.1])\n",
        "plt.title(\"Welch's periodogram\")\n",
        "plt.xlim([0, freqs.max()])\n",
        "sns.despine()"
      ],
      "execution_count": null,
      "outputs": [
        {
          "output_type": "error",
          "ename": "IndexError",
          "evalue": "ignored",
          "traceback": [
            "\u001b[0;31m---------------------------------------------------------------------------\u001b[0m",
            "\u001b[0;31mIndexError\u001b[0m                                Traceback (most recent call last)",
            "\u001b[0;32m<ipython-input-116-90d37dc78afe>\u001b[0m in \u001b[0;36m<module>\u001b[0;34m()\u001b[0m\n\u001b[1;32m      1\u001b[0m \u001b[0;31m# Define window length (4 seconds)\u001b[0m\u001b[0;34m\u001b[0m\u001b[0;34m\u001b[0m\u001b[0;34m\u001b[0m\u001b[0m\n\u001b[1;32m      2\u001b[0m \u001b[0mwin\u001b[0m \u001b[0;34m=\u001b[0m \u001b[0;36m4\u001b[0m \u001b[0;34m*\u001b[0m \u001b[0msf\u001b[0m\u001b[0;34m\u001b[0m\u001b[0;34m\u001b[0m\u001b[0m\n\u001b[0;32m----> 3\u001b[0;31m \u001b[0mfreqs\u001b[0m\u001b[0;34m,\u001b[0m \u001b[0mpsd\u001b[0m \u001b[0;34m=\u001b[0m \u001b[0msignal\u001b[0m\u001b[0;34m.\u001b[0m\u001b[0mwelch\u001b[0m\u001b[0;34m(\u001b[0m\u001b[0mh\u001b[0m\u001b[0;34m[\u001b[0m\u001b[0;36m0\u001b[0m\u001b[0;34m,\u001b[0m\u001b[0;36m31\u001b[0m\u001b[0;34m]\u001b[0m\u001b[0;34m,\u001b[0m \u001b[0msf\u001b[0m\u001b[0;34m,\u001b[0m \u001b[0mnperseg\u001b[0m\u001b[0;34m=\u001b[0m\u001b[0mwin\u001b[0m\u001b[0;34m)\u001b[0m\u001b[0;34m\u001b[0m\u001b[0;34m\u001b[0m\u001b[0m\n\u001b[0m\u001b[1;32m      4\u001b[0m \u001b[0;34m\u001b[0m\u001b[0m\n\u001b[1;32m      5\u001b[0m \u001b[0;31m# Plot the power spectrum\u001b[0m\u001b[0;34m\u001b[0m\u001b[0;34m\u001b[0m\u001b[0;34m\u001b[0m\u001b[0m\n",
            "\u001b[0;32m/usr/local/lib/python3.7/dist-packages/scipy/signal/spectral.py\u001b[0m in \u001b[0;36mwelch\u001b[0;34m(x, fs, window, nperseg, noverlap, nfft, detrend, return_onesided, scaling, axis, average)\u001b[0m\n\u001b[1;32m    453\u001b[0m                      \u001b[0mnoverlap\u001b[0m\u001b[0;34m=\u001b[0m\u001b[0mnoverlap\u001b[0m\u001b[0;34m,\u001b[0m \u001b[0mnfft\u001b[0m\u001b[0;34m=\u001b[0m\u001b[0mnfft\u001b[0m\u001b[0;34m,\u001b[0m \u001b[0mdetrend\u001b[0m\u001b[0;34m=\u001b[0m\u001b[0mdetrend\u001b[0m\u001b[0;34m,\u001b[0m\u001b[0;34m\u001b[0m\u001b[0;34m\u001b[0m\u001b[0m\n\u001b[1;32m    454\u001b[0m                      \u001b[0mreturn_onesided\u001b[0m\u001b[0;34m=\u001b[0m\u001b[0mreturn_onesided\u001b[0m\u001b[0;34m,\u001b[0m \u001b[0mscaling\u001b[0m\u001b[0;34m=\u001b[0m\u001b[0mscaling\u001b[0m\u001b[0;34m,\u001b[0m\u001b[0;34m\u001b[0m\u001b[0;34m\u001b[0m\u001b[0m\n\u001b[0;32m--> 455\u001b[0;31m                      axis=axis, average=average)\n\u001b[0m\u001b[1;32m    456\u001b[0m \u001b[0;34m\u001b[0m\u001b[0m\n\u001b[1;32m    457\u001b[0m     \u001b[0;32mreturn\u001b[0m \u001b[0mfreqs\u001b[0m\u001b[0;34m,\u001b[0m \u001b[0mPxx\u001b[0m\u001b[0;34m.\u001b[0m\u001b[0mreal\u001b[0m\u001b[0;34m\u001b[0m\u001b[0;34m\u001b[0m\u001b[0m\n",
            "\u001b[0;32m/usr/local/lib/python3.7/dist-packages/scipy/signal/spectral.py\u001b[0m in \u001b[0;36mcsd\u001b[0;34m(x, y, fs, window, nperseg, noverlap, nfft, detrend, return_onesided, scaling, axis, average)\u001b[0m\n\u001b[1;32m    584\u001b[0m     freqs, _, Pxy = _spectral_helper(x, y, fs, window, nperseg, noverlap, nfft,\n\u001b[1;32m    585\u001b[0m                                      \u001b[0mdetrend\u001b[0m\u001b[0;34m,\u001b[0m \u001b[0mreturn_onesided\u001b[0m\u001b[0;34m,\u001b[0m \u001b[0mscaling\u001b[0m\u001b[0;34m,\u001b[0m \u001b[0maxis\u001b[0m\u001b[0;34m,\u001b[0m\u001b[0;34m\u001b[0m\u001b[0;34m\u001b[0m\u001b[0m\n\u001b[0;32m--> 586\u001b[0;31m                                      mode='psd')\n\u001b[0m\u001b[1;32m    587\u001b[0m \u001b[0;34m\u001b[0m\u001b[0m\n\u001b[1;32m    588\u001b[0m     \u001b[0;31m# Average over windows.\u001b[0m\u001b[0;34m\u001b[0m\u001b[0;34m\u001b[0m\u001b[0;34m\u001b[0m\u001b[0m\n",
            "\u001b[0;32m/usr/local/lib/python3.7/dist-packages/scipy/signal/spectral.py\u001b[0m in \u001b[0;36m_spectral_helper\u001b[0;34m(x, y, fs, window, nperseg, noverlap, nfft, detrend, return_onesided, scaling, axis, mode, boundary, padded)\u001b[0m\n\u001b[1;32m   1741\u001b[0m \u001b[0;34m\u001b[0m\u001b[0m\n\u001b[1;32m   1742\u001b[0m     \u001b[0;31m# parse window; if array like, then set nperseg = win.shape\u001b[0m\u001b[0;34m\u001b[0m\u001b[0;34m\u001b[0m\u001b[0;34m\u001b[0m\u001b[0m\n\u001b[0;32m-> 1743\u001b[0;31m     \u001b[0mwin\u001b[0m\u001b[0;34m,\u001b[0m \u001b[0mnperseg\u001b[0m \u001b[0;34m=\u001b[0m \u001b[0m_triage_segments\u001b[0m\u001b[0;34m(\u001b[0m\u001b[0mwindow\u001b[0m\u001b[0;34m,\u001b[0m \u001b[0mnperseg\u001b[0m\u001b[0;34m,\u001b[0m \u001b[0minput_length\u001b[0m\u001b[0;34m=\u001b[0m\u001b[0mx\u001b[0m\u001b[0;34m.\u001b[0m\u001b[0mshape\u001b[0m\u001b[0;34m[\u001b[0m\u001b[0;34m-\u001b[0m\u001b[0;36m1\u001b[0m\u001b[0;34m]\u001b[0m\u001b[0;34m)\u001b[0m\u001b[0;34m\u001b[0m\u001b[0;34m\u001b[0m\u001b[0m\n\u001b[0m\u001b[1;32m   1744\u001b[0m \u001b[0;34m\u001b[0m\u001b[0m\n\u001b[1;32m   1745\u001b[0m     \u001b[0;32mif\u001b[0m \u001b[0mnfft\u001b[0m \u001b[0;32mis\u001b[0m \u001b[0;32mNone\u001b[0m\u001b[0;34m:\u001b[0m\u001b[0;34m\u001b[0m\u001b[0;34m\u001b[0m\u001b[0m\n",
            "\u001b[0;31mIndexError\u001b[0m: tuple index out of range"
          ]
        }
      ]
    },
    {
      "cell_type": "markdown",
      "metadata": {
        "id": "ffV1F388GIPv"
      },
      "source": [
        "###**2.1 Theta Band Power(4-8)Hz**"
      ]
    },
    {
      "cell_type": "code",
      "metadata": {
        "colab": {
          "base_uri": "https://localhost:8080/",
          "height": 306
        },
        "id": "cGCFtrYBGfus",
        "outputId": "a8218a90-64e3-4105-89a6-5139b5bfee83"
      },
      "source": [
        "# Define delta lower and upper limits\n",
        "low, high = 4, 8\n",
        "\n",
        "# Find intersecting values in frequency vector\n",
        "idx_delta = np.logical_and(freqs >= low, freqs <= high)\n",
        "\n",
        "# Plot the power spectral density and fill the delta area\n",
        "plt.figure(figsize=(7, 4))\n",
        "plt.plot(freqs, psd, lw=2, color='k')\n",
        "plt.fill_between(freqs, psd, where=idx_delta, color='skyblue')\n",
        "plt.xlabel('Frequency (Hz)')\n",
        "plt.ylabel('Power spectral density (uV^2 / Hz)')\n",
        "plt.xlim([0, 50])\n",
        "plt.ylim([0, psd.max() * 1.1])\n",
        "plt.title(\"Welch's periodogram\")\n",
        "sns.despine()"
      ],
      "execution_count": null,
      "outputs": [
        {
          "output_type": "display_data",
          "data": {
            "image/png": "[encoded data removed]",
            "text/plain": [
              "<Figure size 504x288 with 1 Axes>"
            ]
          },
          "metadata": {}
        }
      ]
    },
    {
      "cell_type": "markdown",
      "metadata": {
        "id": "UTfV2oDQGpkm"
      },
      "source": [
        "###**2.3 Alpha Band Power(8-12)Hz**"
      ]
    },
    {
      "cell_type": "code",
      "metadata": {
        "colab": {
          "base_uri": "https://localhost:8080/",
          "height": 306
        },
        "id": "tbCc3-MPGpko",
        "outputId": "32b167e6-0e54-4223-ca9a-b1ded653c573"
      },
      "source": [
        "# Define delta lower and upper limits\n",
        "low, high = 8, 12\n",
        "\n",
        "# Find intersecting values in frequency vector\n",
        "idx_d = np.logical_and(freqs >= low, freqs <= high)\n",
        "\n",
        "# Plot the power spectral density and fill the alpha area\n",
        "plt.figure(figsize=(7, 4))\n",
        "plt.plot(freqs, psd, lw=2, color='k')\n",
        "plt.fill_between(freqs, psd, where=idx_delta, color='skyblue')\n",
        "plt.xlabel('Frequency (Hz)')\n",
        "plt.ylabel('Power spectral density (uV^2 / Hz)')\n",
        "plt.xlim([0, 50])\n",
        "plt.ylim([0, psd.max() * 1.1])\n",
        "plt.title(\"Welch's periodogram\")\n",
        "sns.despine()"
      ],
      "execution_count": null,
      "outputs": [
        {
          "output_type": "display_data",
          "data": {
            "image/png": "[encoded data removed]",
            "text/plain": [
              "<Figure size 504x288 with 1 Axes>"
            ]
          },
          "metadata": {}
        }
      ]
    },
    {
      "cell_type": "markdown",
      "metadata": {
        "id": "M2xAJxFFG8wg"
      },
      "source": [
        "###**2.4 Beta Band Power(12-30)Hz**"
      ]
    },
    {
      "cell_type": "code",
      "metadata": {
        "colab": {
          "base_uri": "https://localhost:8080/",
          "height": 306
        },
        "id": "BCx4TSRqG8xC",
        "outputId": "4cab31b0-09a7-44df-c2fe-925c4734dee7"
      },
      "source": [
        "# Define beta lower and upper limits\n",
        "low, high = 12, 30\n",
        "\n",
        "# Find intersecting values in frequency vector\n",
        "idx_beta = np.logical_and(freqs >= low, freqs <= high)\n",
        "\n",
        "# Plot the power spectral density and fill the beta area\n",
        "plt.figure(figsize=(7, 4))\n",
        "plt.plot(freqs, psd, lw=2, color='k')\n",
        "plt.fill_between(freqs, psd, where=idx_delta, color='skyblue')\n",
        "plt.xlabel('Frequency (Hz)')\n",
        "plt.ylabel('Power spectral density (uV^2 / Hz)')\n",
        "plt.xlim([0, 50])\n",
        "plt.ylim([0, psd.max() * 1.1])\n",
        "plt.title(\"Welch's periodogram\")\n",
        "sns.despine()"
      ],
      "execution_count": null,
      "outputs": [
        {
          "output_type": "display_data",
          "data": {
            "image/png": "[encoded data removed]",
            "text/plain": [
              "<Figure size 504x288 with 1 Axes>"
            ]
          },
          "metadata": {}
        }
      ]
    },
    {
      "cell_type": "markdown",
      "metadata": {
        "id": "eRZ-iwFMHhnO"
      },
      "source": [
        "###**2.5 Gamma Band Power(30-45)Hz**"
      ]
    },
    {
      "cell_type": "code",
      "metadata": {
        "colab": {
          "base_uri": "https://localhost:8080/",
          "height": 306
        },
        "id": "4Ro-KMIZHhnQ",
        "outputId": "b52c66a8-debe-4207-f0b9-f64062bee278"
      },
      "source": [
        "# Define gamma lower and upper limits\n",
        "low, high = 30, 45\n",
        "\n",
        "# Find intersecting values in frequency vector\n",
        "idx_gamma = np.logical_and(freqs >= low, freqs <= high)\n",
        "\n",
        "# Plot the power spectral density and fill the gamma area\n",
        "plt.figure(figsize=(7, 4))\n",
        "plt.plot(freqs, psd, lw=2, color='k')\n",
        "plt.fill_between(freqs, psd, where=idx_gamma, color='skyblue')\n",
        "plt.xlabel('Frequency (Hz)')\n",
        "plt.ylabel('Power spectral density (uV^2 / Hz)')\n",
        "plt.xlim([0, 50])\n",
        "plt.ylim([0, psd.max() * 1.1])\n",
        "plt.title(\"Welch's periodogram\")\n",
        "sns.despine()"
      ],
      "execution_count": null,
      "outputs": [
        {
          "output_type": "display_data",
          "data": {
            "image/png": "[encoded data removed]",
            "text/plain": [
              "<Figure size 504x288 with 1 Axes>"
            ]
          },
          "metadata": {}
        }
      ]
    }
  ]
}