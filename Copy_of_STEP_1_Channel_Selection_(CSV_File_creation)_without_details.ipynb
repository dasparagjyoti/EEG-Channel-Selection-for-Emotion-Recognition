{
  "nbformat": 4,
  "nbformat_minor": 0,
  "metadata": {
    "colab": {
      "name": "Copy of STEP: 1--Channel Selection (CSV File creation) without details",
      "provenance": [],
      "collapsed_sections": [],
      "include_colab_link": true
    },
    "kernelspec": {
      "display_name": "Python 3",
      "name": "python3"
    },
    "language_info": {
      "name": "python"
    }
  },
  "cells": [
    {
      "cell_type": "markdown",
      "metadata": {
        "id": "view-in-github",
        "colab_type": "text"
      },
      "source": [
        "<a href=\"https://colab.research.google.com/github/dasparagjyoti/EEG-Channel-Selection-for-Emotion-Recognition/blob/main/Copy_of_STEP_1_Channel_Selection_(CSV_File_creation)_without_details.ipynb\" target=\"_parent\"><img src=\"https://colab.research.google.com/assets/colab-badge.svg\" alt=\"Open In Colab\"/></a>"
      ]
    },
    {
      "cell_type": "code",
      "metadata": {
        "colab": {
          "base_uri": "https://localhost:8080/"
        },
        "id": "Azg9wbOhz1XJ",
        "outputId": "f6c7f265-3eb6-4c9e-99d0-78afd6ec6c8f"
      },
      "source": [
        "from google.colab import drive  \n",
        "drive._mount('/content/drive')\n",
        "!ls /content/drive/MyDrive/Deap"
      ],
      "execution_count": null,
      "outputs": [
        {
          "output_type": "stream",
          "name": "stdout",
          "text": [
            "Mounted at /content/drive\n",
            "s01.dat  s05.dat  s09.dat  s13.dat  s17.dat  s21.dat  s25.dat  s29.dat\n",
            "s02.dat  s06.dat  s10.dat  s14.dat  s18.dat  s22.dat  s26.dat  s30.dat\n",
            "s03.dat  s07.dat  s11.dat  s15.dat  s19.dat  s23.dat  s27.dat  s31.dat\n",
            "s04.dat  s08.dat  s12.dat  s16.dat  s20.dat  s24.dat  s28.dat  s32.dat\n"
          ]
        }
      ]
    },
    {
      "cell_type": "code",
      "metadata": {
        "id": "CYrTggoIbl42"
      },
      "source": [
        "import os\n",
        "import time\n",
        "import pickle\n",
        "import pandas as pd\n",
        "import numpy as np\n",
        "from scipy import signal\n",
        "from scipy.signal import welch\n",
        "from scipy.integrate import simps\n",
        "from scipy.stats import f_oneway\n",
        "\n",
        "from tqdm import tqdm\n",
        "\n",
        "#!pip install scikit-learn==0.20.3\n",
        "from sklearn.model_selection import train_test_split\n",
        "from sklearn.preprocessing import StandardScaler\n",
        "from sklearn.svm import SVC\n",
        "from sklearn.neighbors import KNeighborsClassifier\n",
        "from sklearn.neural_network import MLPClassifier\n",
        "from sklearn import model_selection\n",
        "from sklearn.metrics import classification_report, confusion_matrix\n",
        "import itertools\n",
        "from sklearn.metrics import accuracy_score\n",
        "from sklearn.metrics import f1_score\n",
        "from sklearn.metrics import precision_recall_curve\n",
        "\n",
        "from scipy.signal import butter, lfilter, sosfilt, sosfreqz, freqz\n",
        "from sklearn.decomposition import FastICA\n",
        "\n",
        "import matplotlib.pyplot as plt\n",
        "from matplotlib import cm\n",
        "import seaborn as sns\n",
        "import pandas as pd\n",
        "from sklearn import preprocessing\n",
        "%matplotlib inline"
      ],
      "execution_count": null,
      "outputs": []
    },
    {
      "cell_type": "code",
      "metadata": {
        "id": "udO6VWBziiQW"
      },
      "source": [
        "def butter_bandpass(lowcut, highcut, fs, order = 3):\n",
        "    nyq = 0.5 * fs\n",
        "    low = lowcut / nyq\n",
        "    high = highcut / nyq\n",
        "    b, a = butter(order, [low, high], btype='band', analog=False)\n",
        "    return b, a\n",
        "def butter_bandpass_filter(data, lowcut, highcut, fs, order = 5):\n",
        "    b, a = butter_bandpass(lowcut, highcut, fs, order = order)\n",
        "    y = lfilter(b, a, data)\n",
        "    return y\n",
        "def eye_movement_artifact(shyam): # parameter must be an 2D array like 32_channels*7860_data\n",
        "    # Inverse that 2D array\n",
        "    shyam = shyam.transpose()\n",
        "    ica = FastICA()\n",
        "    comps = ica.fit_transform(shyam)\n",
        "    # invert the array \n",
        "    data_after = comps.transpose()\n",
        "    return data_after\n",
        "def signal_pro(data):\n",
        "    mean_value, fs, lowcut, highcut = 0, 128, 0.5, 45\n",
        "    # do the bandpass filter\n",
        "    for i in range(40):\n",
        "        for j in range(32):\n",
        "            data[i][j] = butter_bandpass_filter(data[i][j], lowcut, highcut, fs, order=5)\n",
        "    # creating dummy variable which contains same data information \n",
        "    error_eye =  np.zeros((40,32,7680))\n",
        "    new_data =  np.zeros((40,32,7680))\n",
        "    for i in range(40):\n",
        "        for j in range(32):\n",
        "            for k in range(7680):\n",
        "                error_eye[i][j][k] = data[i][j][k]\n",
        "                new_data[i][j][k] = data[i][j][k]\n",
        "    for i in range(40):\n",
        "        error_eye[i] = eye_movement_artifact(error_eye[i])\n",
        "    for i in range(40):\n",
        "        for j in range(32):\n",
        "            mean_value = np.mean(error_eye[i][j])\n",
        "            for k in range(7680):\n",
        "                if(data[i][j][k] > 0.0):\n",
        "                    # data is positive\n",
        "                    new_data[i][j][k] = data[i][j][k] - abs(mean_value)\n",
        "                else: # data is negative\n",
        "                    new_data[i][j][k] = data[i][j][k] + abs(mean_value)\n",
        "    return new_data"
      ],
      "execution_count": null,
      "outputs": []
    },
    {
      "cell_type": "code",
      "metadata": {
        "id": "z1ZQs2q3Hnno"
      },
      "source": [
        "def bandpower(data, sf, band, window_sec=None, relative=False):\n",
        "    band = np.asarray(band)\n",
        "    low, high = band\n",
        "    # Define window length\n",
        "    if window_sec is not None:\n",
        "        nperseg = window_sec * sf\n",
        "    else:\n",
        "        nperseg = (2 / low) * sf\n",
        "    # Compute the modified periodogram (Welch)\n",
        "    freqs, psd = welch(data, sf, nperseg=nperseg)\n",
        "    # Frequency resolution\n",
        "    freq_res = freqs[1] - freqs[0]\n",
        "    # Find closest indices of band in frequency vector\n",
        "    idx_band = np.logical_and(freqs >= low, freqs <= high)\n",
        "    # Integral approximation of the spectrum using Simpson's rule.\n",
        "    bp = simps(psd[idx_band], dx=freq_res)\n",
        "    if relative:\n",
        "        bp /= simps(psd, dx=freq_res)\n",
        "    return bp"
      ],
      "execution_count": null,
      "outputs": []
    },
    {
      "cell_type": "code",
      "metadata": {
        "id": "CN81MihX5ZbU"
      },
      "source": [
        "def get_band_power(trial, channel, band):\n",
        "  bd = (0,0)\n",
        "  if (band == \"theta\"): # drownsiness, emotional connection, intuition, creativity\n",
        "    bd = (4,8)\n",
        "  elif (band == \"alpha\"): # reflection, relaxation\n",
        "    bd = (8,12)\n",
        "  elif (band == \"beta\"): # concentration, problem solving, memory\n",
        "    bd = (12,30)\n",
        "  elif (band == \"gamma\"): # cognition, perception, learning, multi-tasking\n",
        "    bd = (30,48)\n",
        "  return bandpower(filter_data[trial,channel], 128, bd)"
      ],
      "execution_count": null,
      "outputs": []
    },
    {
      "cell_type": "code",
      "metadata": {
        "id": "I4DEPV9z4a4q"
      },
      "source": [
        "def get_csf_file(subject, filter_data):\n",
        "  try:\n",
        "    mypath = \"/content/drive/MyDrive/Sequential methods for channel selection/our code/\" + subject\n",
        "    os.mkdir(mypath)\n",
        "  except Exception as e:\n",
        "    print(e)\n",
        "  #---------------------------------------- Theta ---------------------------------------\n",
        "  eeg_theta = []\n",
        "  for i in range (len(filter_data)):\n",
        "    for j in range (len(filter_data[0])):\n",
        "      eeg_theta.append(get_band_power(i,j,\"theta\"))\n",
        "  eeg_theta = np.reshape(eeg_theta, (40, 32))\n",
        "  df_theta = pd.DataFrame(data = eeg_theta, columns=eeg_channels)\n",
        "  # Normalize the datset\n",
        "  draft = []\n",
        "  for i in range(0, len(eeg_channels)):\n",
        "    draft.append(eeg_channels[i] + '_theta')\n",
        "  min_max_scaler = preprocessing.MinMaxScaler()\n",
        "  df_theta = min_max_scaler.fit_transform(df_theta)\n",
        "  df_theta = pd.DataFrame(df_theta, columns = draft)\n",
        "  df_theta.to_csv(mypath + \"/\" + subject + \"_theta.csv\", index = False, encoding = 'utf-8-sig')\n",
        "  #---------------------------------------- Alpha --------------------------------------------------\n",
        "  eeg_alpha = []\n",
        "  for i in range (len(filter_data)):\n",
        "    for j in range (len(filter_data[0])):\n",
        "      eeg_alpha.append(get_band_power(i,j,\"alpha\"))\n",
        "  eeg_alpha = np.reshape(eeg_alpha, (40, 32))\n",
        "\n",
        "  df_alpha = pd.DataFrame(data = eeg_alpha, columns=eeg_channels)\n",
        "  draft = []\n",
        "  for i in range(0, len(eeg_channels)):\n",
        "    draft.append(eeg_channels[i] + '_alpha')\n",
        "  min_max_scaler = preprocessing.MinMaxScaler()\n",
        "  df_alpha = min_max_scaler.fit_transform(df_alpha)\n",
        "  df_alpha = pd.DataFrame(df_alpha, columns = draft)\n",
        "  df_alpha.to_csv(mypath + \"/\" + subject + \"_alpha.csv\", index=False, encoding='utf-8-sig')\n",
        "  #---------------------------------------- Beta----------------------------------------------------\n",
        "  eeg_beta = []\n",
        "  for i in range (len(filter_data)):\n",
        "    for j in range (len(filter_data[0])):\n",
        "      eeg_beta.append(get_band_power(i,j,\"beta\"))\n",
        "  eeg_beta = np.reshape(eeg_beta, (40, 32))\n",
        "  df_beta = pd.DataFrame(data = eeg_beta, columns=eeg_channels)\n",
        "  draft = []\n",
        "  for i in range(0, len(eeg_channels)):\n",
        "    draft.append(eeg_channels[i] + '_beta')\n",
        "  min_max_scaler = preprocessing.MinMaxScaler()\n",
        "  df_beta = min_max_scaler.fit_transform(df_beta)\n",
        "  df_beta = pd.DataFrame(df_beta, columns = draft)\n",
        "  df_beta.to_csv(mypath + \"/\" + subject + \"_beta.csv\", index=False, encoding='utf-8-sig')\n",
        "  #---------------------------------------- Gamma-----------------------------------------------------\n",
        "  eeg_gamma = []\n",
        "  for i in range (len(filter_data)):\n",
        "    for j in range (len(filter_data[0])):\n",
        "      eeg_gamma.append(get_band_power(i,j,\"gamma\"))\n",
        "  eeg_gamma = np.reshape(eeg_gamma, (40, 32))\n",
        "  df_gamma = pd.DataFrame(data = eeg_gamma, columns=eeg_channels)\n",
        "  draft = []\n",
        "  for i in range(0, len(eeg_channels)):\n",
        "    draft.append(eeg_channels[i] + '_gamma')\n",
        "  min_max_scaler = preprocessing.MinMaxScaler()\n",
        "  df_gamma = min_max_scaler.fit_transform(df_gamma)\n",
        "  df_gamma = pd.DataFrame(df_gamma, columns = draft)\n",
        "  df_gamma.to_csv(mypath + \"/\" + subject + \"_gamma.csv\", index=False, encoding='utf-8-sig')\n",
        "  #---------------------------------------- All Band -----------------------------------------------------\n",
        "  frames = [df_theta, df_alpha, df_beta, df_gamma]\n",
        "  all_bands = pd.concat(frames, axis=1)\n",
        "  all_bands.shape\n",
        "  all_bands.to_csv(mypath + \"/\" + subject + \".csv\", index=False, encoding='utf-8-sig')"
      ],
      "execution_count": null,
      "outputs": []
    },
    {
      "cell_type": "code",
      "metadata": {
        "id": "lZehUFjMT-UP"
      },
      "source": [
        "subject_names = [\"s01\", \"s02\", \"s03\", \"s04\", \"s05\", \"s06\", \"s07\", \"s08\", \"s09\", \"s10\", \"s11\", \"s12\", \"s13\", \"s14\", \"s15\", \"s16\", \"s17\", \"s18\", \"s19\", \"s20\", \"s21\",\n",
        "                \"s22\", \"s23\", \"s24\", \"s25\", \"s26\", \"s27\", \"s28\", \"s29\", \"s30\", \"s31\", \"s32\"]"
      ],
      "execution_count": null,
      "outputs": []
    },
    {
      "cell_type": "code",
      "metadata": {
        "id": "00R0E0kBcd0w"
      },
      "source": [
        "for subject in subject_names[1:]:\n",
        "  eeg_channels = np.array([\"Fp1\", \"AF3\", \"F3\", \"F7\", \"FC5\", \"FC1\", \"C3\", \"T7\", \"CP5\", \"CP1\", \"P3\", \"P7\", \"PO3\", \"O1\", \"Oz\", \"Pz\", \"Fp2\", \"AF4\", \"Fz\", \"F4\", \"F8\", \"FC6\", \"FC2\", \"Cz\", \"C4\", \"T8\", \"CP6\", \"CP2\", \"P4\", \"P8\", \"PO4\", \"O2\"])\n",
        "  with open('/content/drive/MyDrive/Deap/' + subject + '.dat', 'rb') as f:\n",
        "    raw_data = pickle.load(f, encoding = 'latin1')\n",
        "  data = raw_data['data']\n",
        "  reduced_eeg_data  = data[0:40, 0:32, 384:8064]\n",
        "  filter_data = signal_pro(data)\n",
        "  get_csf_file(subject, filter_data)"
      ],
      "execution_count": null,
      "outputs": []
    },
    {
      "cell_type": "code",
      "metadata": {
        "id": "M1wqMXLl0u36"
      },
      "source": [
        ""
      ],
      "execution_count": null,
      "outputs": []
    }
  ]
}