{
  "nbformat": 4,
  "nbformat_minor": 0,
  "metadata": {
    "colab": {
      "name": "Copy of channel selection and feature selection BCI arousal",
      "provenance": [],
      "collapsed_sections": [],
      "include_colab_link": true
    },
    "kernelspec": {
      "display_name": "Python 3",
      "name": "python3"
    },
    "language_info": {
      "name": "python"
    }
  },
  "cells": [
    {
      "cell_type": "markdown",
      "metadata": {
        "id": "view-in-github",
        "colab_type": "text"
      },
      "source": [
        "<a href=\"https://colab.research.google.com/github/dasparagjyoti/EEG-Channel-Selection-for-Emotion-Recognition/blob/main/Copy_of_channel_selection_and_feature_selection_BCI_arousal.ipynb\" target=\"_parent\"><img src=\"https://colab.research.google.com/assets/colab-badge.svg\" alt=\"Open In Colab\"/></a>"
      ]
    },
    {
      "cell_type": "markdown",
      "metadata": {
        "id": "q7tNC6EX54Fm"
      },
      "source": [
        "#**1. Data Preprocessing**#"
      ]
    },
    {
      "cell_type": "code",
      "metadata": {
        "id": "q5UDY40xrsZF"
      },
      "source": [
        "import pandas as pd\n",
        "import numpy as np\n",
        "\n",
        "import matplotlib.pyplot as plt\n",
        "import seaborn as sns\n",
        "%matplotlib inline\n",
        "\n",
        "from sklearn.model_selection import train_test_split\n",
        "\n",
        "from sklearn.feature_selection import chi2\n",
        "from sklearn.feature_selection import SelectKBest, SelectPercentile\n",
        "import warnings\n",
        "warnings.filterwarnings(\"ignore\")"
      ],
      "execution_count": null,
      "outputs": []
    },
    {
      "cell_type": "code",
      "metadata": {
        "colab": {
          "base_uri": "https://localhost:8080/"
        },
        "id": "Azg9wbOhz1XJ",
        "outputId": "f98d59ca-a412-40dc-f2ae-5b67d41b4f47"
      },
      "source": [
        "from google.colab import drive\n",
        "import pickle  \n",
        "drive._mount('/content/drive')\n",
        "drive.mount('/content/drive', force_remount=True)"
      ],
      "execution_count": null,
      "outputs": [
        {
          "output_type": "stream",
          "name": "stdout",
          "text": [
            "Mounted at /content/drive\n",
            "Mounted at /content/drive\n"
          ]
        }
      ]
    },
    {
      "cell_type": "code",
      "metadata": {
        "id": "XpDYOiyPQ28F"
      },
      "source": [
        "with open('/content/drive/MyDrive/Deap/s01.dat', 'rb') as f:\n",
        " raw_data = pickle.load(f, encoding='latin1')"
      ],
      "execution_count": null,
      "outputs": []
    },
    {
      "cell_type": "code",
      "metadata": {
        "colab": {
          "base_uri": "https://localhost:8080/"
        },
        "id": "Smqczw7Rtm8k",
        "outputId": "ec80b7bd-31e6-4445-d536-b86ebc28b68c"
      },
      "source": [
        "pip install skfeature-chappers"
      ],
      "execution_count": null,
      "outputs": [
        {
          "output_type": "stream",
          "name": "stdout",
          "text": [
            "Collecting skfeature-chappers\n",
            "  Downloading skfeature_chappers-1.1.0-py3-none-any.whl (66 kB)\n",
            "\u001b[?25l\r\u001b[K     |█████                           | 10 kB 21.1 MB/s eta 0:00:01\r\u001b[K     |█████████▉                      | 20 kB 26.5 MB/s eta 0:00:01\r\u001b[K     |██████████████▉                 | 30 kB 12.9 MB/s eta 0:00:01\r\u001b[K     |███████████████████▊            | 40 kB 9.6 MB/s eta 0:00:01\r\u001b[K     |████████████████████████▊       | 51 kB 5.1 MB/s eta 0:00:01\r\u001b[K     |█████████████████████████████▋  | 61 kB 5.3 MB/s eta 0:00:01\r\u001b[K     |████████████████████████████████| 66 kB 2.6 MB/s \n",
            "\u001b[?25hRequirement already satisfied: numpy in /usr/local/lib/python3.7/dist-packages (from skfeature-chappers) (1.19.5)\n",
            "Requirement already satisfied: scikit-learn in /usr/local/lib/python3.7/dist-packages (from skfeature-chappers) (1.0.1)\n",
            "Requirement already satisfied: pandas in /usr/local/lib/python3.7/dist-packages (from skfeature-chappers) (1.1.5)\n",
            "Requirement already satisfied: python-dateutil>=2.7.3 in /usr/local/lib/python3.7/dist-packages (from pandas->skfeature-chappers) (2.8.2)\n",
            "Requirement already satisfied: pytz>=2017.2 in /usr/local/lib/python3.7/dist-packages (from pandas->skfeature-chappers) (2018.9)\n",
            "Requirement already satisfied: six>=1.5 in /usr/local/lib/python3.7/dist-packages (from python-dateutil>=2.7.3->pandas->skfeature-chappers) (1.15.0)\n",
            "Requirement already satisfied: scipy>=1.1.0 in /usr/local/lib/python3.7/dist-packages (from scikit-learn->skfeature-chappers) (1.4.1)\n",
            "Requirement already satisfied: threadpoolctl>=2.0.0 in /usr/local/lib/python3.7/dist-packages (from scikit-learn->skfeature-chappers) (3.0.0)\n",
            "Requirement already satisfied: joblib>=0.11 in /usr/local/lib/python3.7/dist-packages (from scikit-learn->skfeature-chappers) (1.1.0)\n",
            "Installing collected packages: skfeature-chappers\n",
            "Successfully installed skfeature-chappers-1.1.0\n"
          ]
        }
      ]
    },
    {
      "cell_type": "code",
      "metadata": {
        "id": "kxJTyBtEeqHy"
      },
      "source": [
        "import numpy as np\n",
        "from skfeature.utility.construct_W import construct_W\n",
        "from scipy.sparse import diags\n",
        "\n",
        "def fisher_score(X, y):\n",
        "    \"\"\"\n",
        "    This function implements the fisher score feature selection, steps are as follows:\n",
        "    1. Construct the affinity matrix W in fisher score way\n",
        "    2. For the r-th feature, we define fr = X(:,r), D = diag(W*ones), ones = [1,...,1]', L = D - W\n",
        "    3. Let fr_hat = fr - (fr'*D*ones)*ones/(ones'*D*ones)\n",
        "    4. Fisher score for the r-th feature is score = (fr_hat'*D*fr_hat)/(fr_hat'*L*fr_hat)-1\n",
        "    Input\n",
        "    -----\n",
        "    X: {numpy array}, shape (n_samples, n_features)\n",
        "        input data\n",
        "    y: {numpy array}, shape (n_samples,)\n",
        "        input class labels\n",
        "    Output\n",
        "    ------\n",
        "    score: {numpy array}, shape (n_features,)\n",
        "        fisher score for each feature\n",
        "    Reference\n",
        "    ---------\n",
        "    He, Xiaofei et al. \"Laplacian Score for Feature Selection.\" NIPS 2005.\n",
        "    Duda, Richard et al. \"Pattern classification.\" John Wiley & Sons, 2012.\n",
        "    \"\"\"\n",
        "\n",
        "    # Construct weight matrix W in a fisherScore way\n",
        "    kwargs = {\"neighbor_mode\": \"supervised\", \"fisher_score\": True, 'y': y}\n",
        "    W = construct_W(X, **kwargs)\n",
        "\n",
        "    # build the diagonal D matrix from affinity matrix W\n",
        "    D = np.array(W.sum(axis=1))\n",
        "    L = W\n",
        "    tmp = np.dot(np.transpose(D), X)\n",
        "    D = diags(np.transpose(D), [0])\n",
        "    Xt = np.transpose(X)\n",
        "    t1 = np.transpose(np.dot(Xt, D.todense()))\n",
        "    t2 = np.transpose(np.dot(Xt, L.todense()))\n",
        "    # compute the numerator of Lr\n",
        "    D_prime = np.sum(np.multiply(t1, X), 0) - np.multiply(tmp, tmp)/D.sum()\n",
        "    # compute the denominator of Lr\n",
        "    L_prime = np.sum(np.multiply(t2, X), 0) - np.multiply(tmp, tmp)/D.sum()\n",
        "    # avoid the denominator of Lr to be 0\n",
        "    D_prime[D_prime < 1e-12] = 10000\n",
        "    lap_score = 1 - np.array(np.multiply(L_prime, 1/D_prime))[0, :]\n",
        "\n",
        "    # compute fisher score from laplacian score, where fisher_score = 1/lap_score - 1\n",
        "    score = 1.0/lap_score - 1\n",
        "    return np.transpose(score)\n",
        "\n",
        "\n",
        "def feature_ranking(score):\n",
        "    \"\"\"\n",
        "    Rank features in descending order according to fisher score, the larger the fisher score, the more important the\n",
        "    feature is\n",
        "    \"\"\"\n",
        "    idx = np.argsort(score, 0)\n",
        "    return idx[::-1]"
      ],
      "execution_count": null,
      "outputs": []
    },
    {
      "cell_type": "code",
      "metadata": {
        "colab": {
          "base_uri": "https://localhost:8080/"
        },
        "id": "EpI-gFzRjgGT",
        "outputId": "95339fda-f57f-4936-d5fd-c5522d399db5"
      },
      "source": [
        "data = raw_data['data']\n",
        "labels = raw_data['labels']\n",
        "\n",
        "print(\"Labels: \", labels.shape) # trial x label\n",
        "print(\"Data: \", data.shape) # trial x channel x data"
      ],
      "execution_count": null,
      "outputs": [
        {
          "output_type": "stream",
          "name": "stdout",
          "text": [
            "Labels:  (40, 4)\n",
            "Data:  (40, 40, 8064)\n"
          ]
        }
      ]
    },
    {
      "cell_type": "code",
      "metadata": {
        "id": "FTfibgB5c63Y"
      },
      "source": [
        "\"\"\"\n",
        "em_labels = []\n",
        "for i in range(0, labels.shape[0]):\n",
        "\tif (labels[i][0]>5): #high valence\n",
        "\t\tif(labels[i][1]>5): # high arousal\n",
        "\t\t\tem_labels.append(1) # HVHA\n",
        "\t\telse:\n",
        "\t\t\tem_labels.append(0) # HVLA\n",
        "\telse: # low valence\n",
        "\t\tif(labels[i][1]>5): # high arousal\n",
        "\t\t\tem_labels.append(2) #LVHA\n",
        "\t\telse:\n",
        "\t\t\tem_labels.append(3) # LVLA\n",
        "\"\"\"\n",
        "em_labels = []\n",
        "for i in range(0, labels.shape[0]):\n",
        "\tif (labels[i][1]>5): #high valence\n",
        "\t\t\tem_labels.append(0) # HVHA\n",
        "\telse: # low valence\n",
        "\t\t\tem_labels.append(1)"
      ],
      "execution_count": null,
      "outputs": []
    },
    {
      "cell_type": "code",
      "metadata": {
        "colab": {
          "base_uri": "https://localhost:8080/"
        },
        "id": "3jCP0SMBc9iu",
        "outputId": "edd7af9d-7af0-4dbc-9c30-4da0583d840f"
      },
      "source": [
        "print(em_labels)"
      ],
      "execution_count": null,
      "outputs": [
        {
          "output_type": "stream",
          "name": "stdout",
          "text": [
            "[0, 0, 0, 0, 1, 1, 1, 1, 1, 1, 1, 1, 1, 1, 0, 0, 0, 0, 0, 0, 0, 1, 1, 0, 0, 0, 0, 1, 1, 1, 0, 0, 1, 0, 0, 0, 0, 0, 0, 0]\n"
          ]
        }
      ]
    },
    {
      "cell_type": "markdown",
      "metadata": {
        "id": "eQlRP4LrOMlk"
      },
      "source": [
        "# Fisher's Score for Theta Band"
      ]
    },
    {
      "cell_type": "code",
      "metadata": {
        "id": "Na1SqsWbr2y1"
      },
      "source": [
        "# load dataset\n",
        "data_theta = pd.read_csv('/content/drive/MyDrive/1df_theta.csv')\n",
        "# features from all the channels from the theta band only\n",
        "data_theta.shape\n",
        "data_theta['videos'] = em_labels\n",
        "data_theta['videos'].unique()\n",
        "X = data_theta[['Fp1',\t'AF3',\t'F3',\t'F7',\t'FC5',\t'FC1',\t'C3',\t'T7',\t'CP5',\t'CP1',\t'P3',\t'P7',\t'PO3',\t'O1',\t'Oz',\t'Pz',\t'Fp2',\t'AF4',\t'Fz',\t'F4',\t'F8',\t'FC6',\t'FC2',\t'Cz',\t'C4',\t'T8',\t'CP6',\t'CP2',\t'P4',\t'P8',\t'PO4',\t'O2']]\n",
        "# taking only first 32 channels (EEG signals)\n",
        "y = data_theta['videos']\n",
        "X_train, X_test, y_train, y_test = train_test_split(X, y, test_size = 0.3, random_state = 0)\n",
        "X_train = np.array(X_train)\n",
        "y_train = np.array(y_train)\n",
        "f_score_theta = fisher_score(X_train, y_train)"
      ],
      "execution_count": null,
      "outputs": []
    },
    {
      "cell_type": "markdown",
      "metadata": {
        "id": "6jeXnumcG2JB"
      },
      "source": [
        "# Fisher Score for Alpha Band"
      ]
    },
    {
      "cell_type": "code",
      "metadata": {
        "id": "C7fJ9fMdGVbQ"
      },
      "source": [
        "# load dataset\n",
        "data_alpha = pd.read_csv('/content/drive/MyDrive/2df_alpha.csv')\n",
        "# features from all the channels from the theta band only\n",
        "data_alpha.shape\n",
        "data_alpha['videos'] = em_labels\n",
        "data_alpha['videos'].unique()\n",
        "X = data_alpha[['Fp1',\t'AF3',\t'F3',\t'F7',\t'FC5',\t'FC1',\t'C3',\t'T7',\t'CP5',\t'CP1',\t'P3',\t'P7',\t'PO3',\t'O1',\t'Oz',\t'Pz',\t'Fp2',\t'AF4',\t'Fz',\t'F4',\t'F8',\t'FC6',\t'FC2',\t'Cz',\t'C4',\t'T8',\t'CP6',\t'CP2',\t'P4',\t'P8',\t'PO4',\t'O2']]\n",
        "# taking only first 32 channels (EEG signals)\n",
        "y = data_alpha['videos']\n",
        "y.head()\n",
        "X_train, X_test, y_train, y_test = train_test_split(X, y, test_size = 0.3, random_state = 0)\n",
        "X_train = np.array(X_train)\n",
        "y_train = np.array(y_train)\n",
        "f_score_alpha = fisher_score(X_train, y_train)"
      ],
      "execution_count": null,
      "outputs": []
    },
    {
      "cell_type": "markdown",
      "metadata": {
        "id": "Np4pvMpaWAhN"
      },
      "source": [
        "# Fisher Score for Beta Band"
      ]
    },
    {
      "cell_type": "code",
      "metadata": {
        "id": "9LA2tAAslnGK"
      },
      "source": [
        "# load dataset\n",
        "data_beta = pd.read_csv('/content/drive/MyDrive/3df_beta.csv')\n",
        "# features from all the channels from the theta band only\n",
        "data_beta.shape\n",
        "data_beta['videos'] = em_labels\n",
        "data_beta['videos'].unique()\n",
        "X = data_beta[['Fp1',\t'AF3',\t'F3',\t'F7',\t'FC5',\t'FC1',\t'C3',\t'T7',\t'CP5',\t'CP1',\t'P3',\t'P7',\t'PO3',\t'O1',\t'Oz',\t'Pz',\t'Fp2',\t'AF4',\t'Fz',\t'F4',\t'F8',\t'FC6',\t'FC2',\t'Cz',\t'C4',\t'T8',\t'CP6',\t'CP2',\t'P4',\t'P8',\t'PO4',\t'O2']]\n",
        "# taking only first 32 channels (EEG signals)\n",
        "y = data_beta['videos']\n",
        "X_train = np.array(X_train)\n",
        "y_train = np.array(y_train)\n",
        "f_score_beta = fisher_score(X_train, y_train)"
      ],
      "execution_count": null,
      "outputs": []
    },
    {
      "cell_type": "markdown",
      "metadata": {
        "id": "uxn9t3hDWEBw"
      },
      "source": [
        "# Fisher Score for Gamma Band"
      ]
    },
    {
      "cell_type": "code",
      "metadata": {
        "id": "7Q0uOFsDWEBx"
      },
      "source": [
        "# load dataset\n",
        "data_gamma = pd.read_csv('/content/drive/MyDrive/4df_gamma.csv')\n",
        "# features from all the channels from the theta band only\n",
        "data_gamma.shape\n",
        "data_gamma['videos'] = em_labels\n",
        "data_gamma['videos'].unique()\n",
        "X = data_gamma[['Fp1',\t'AF3',\t'F3',\t'F7',\t'FC5',\t'FC1',\t'C3',\t'T7',\t'CP5',\t'CP1',\t'P3',\t'P7',\t'PO3',\t'O1',\t'Oz',\t'Pz',\t'Fp2',\t'AF4',\t'Fz',\t'F4',\t'F8',\t'FC6',\t'FC2',\t'Cz',\t'C4',\t'T8',\t'CP6',\t'CP2',\t'P4',\t'P8',\t'PO4',\t'O2']]\n",
        "# taking only first 32 channels (EEG signals)\n",
        "y = data_gamma['videos']\n",
        "y.head()\n",
        "X_train, X_test, y_train, y_test = train_test_split(X, y, test_size = 0.3, random_state = 0)\n",
        "X_train = np.array(X_train)\n",
        "y_train = np.array(y_train)\n",
        "f_score_gamma = fisher_score(X_train, y_train)"
      ],
      "execution_count": null,
      "outputs": []
    },
    {
      "cell_type": "markdown",
      "metadata": {
        "id": "sUoClL1YB5aW"
      },
      "source": [
        "# Total Avearge F-Score(Theta,Alpha,Beta,Gamma)"
      ]
    },
    {
      "cell_type": "code",
      "metadata": {
        "id": "LCtwrlPCB5C1"
      },
      "source": [
        "final_f_score = (f_score_theta + f_score_alpha + f_score_beta + f_score_gamma)/4"
      ],
      "execution_count": null,
      "outputs": []
    },
    {
      "cell_type": "code",
      "metadata": {
        "colab": {
          "base_uri": "https://localhost:8080/"
        },
        "id": "GB2MaoDXJC0O",
        "outputId": "66e2e79e-7c0c-452f-b069-fbd3d2796ccc"
      },
      "source": [
        "fvalues = pd.Series(final_f_score)\n",
        "X_train = pd.DataFrame(X_train)\n",
        "fvalues.index = X.columns\n",
        "fvalues.sort_values(ascending=False)\n",
        "fvalues.to_csv('fscore_final.csv')\n",
        "print(fvalues)"
      ],
      "execution_count": null,
      "outputs": [
        {
          "output_type": "stream",
          "name": "stdout",
          "text": [
            "Fp1    0.169451\n",
            "AF3    0.232807\n",
            "F3     0.257078\n",
            "F7     0.079412\n",
            "FC5    0.203454\n",
            "FC1    0.196043\n",
            "C3     0.187472\n",
            "T7     0.140773\n",
            "CP5    0.215465\n",
            "CP1    0.201009\n",
            "P3     0.285845\n",
            "P7     0.325079\n",
            "PO3    0.249167\n",
            "O1     0.169598\n",
            "Oz     0.180071\n",
            "Pz     0.285443\n",
            "Fp2    0.202628\n",
            "AF4    0.162624\n",
            "Fz     0.147973\n",
            "F4     0.110062\n",
            "F8     0.114605\n",
            "FC6    0.130890\n",
            "FC2    0.130900\n",
            "Cz     0.005788\n",
            "C4     0.151903\n",
            "T8     0.195630\n",
            "CP6    0.149990\n",
            "CP2    0.140019\n",
            "P4     0.209854\n",
            "P8     0.130032\n",
            "PO4    0.184067\n",
            "O2     0.118841\n",
            "dtype: float64\n"
          ]
        }
      ]
    },
    {
      "cell_type": "code",
      "metadata": {
        "colab": {
          "base_uri": "https://localhost:8080/",
          "height": 510
        },
        "id": "4JomiwHHuhE8",
        "outputId": "98607323-28b7-4b57-931d-94e9f044f711"
      },
      "source": [
        "fvalues.sort_values(ascending = False).plot.bar(figsize=(10,8))"
      ],
      "execution_count": null,
      "outputs": [
        {
          "output_type": "execute_result",
          "data": {
            "text/plain": [
              "<matplotlib.axes._subplots.AxesSubplot at 0x7f24c18d4210>"
            ]
          },
          "metadata": {},
          "execution_count": 15
        },
        {
          "output_type": "display_data",
          "data": {
            "image/png": "[encoded data removed]",
            "text/plain": [
              "<Figure size 720x576 with 1 Axes>"
            ]
          },
          "metadata": {
            "needs_background": "light"
          }
        }
      ]
    },
    {
      "cell_type": "markdown",
      "metadata": {
        "id": "GJHHjtp-rOo_"
      },
      "source": [
        "# Classification"
      ]
    },
    {
      "cell_type": "code",
      "metadata": {
        "id": "5PhZZyG55qSM"
      },
      "source": [
        "import numpy as np\n",
        "import pandas as pd\n",
        "from sklearn.model_selection import train_test_split\n",
        "from sklearn import svm\n",
        "from sklearn.metrics import accuracy_score"
      ],
      "execution_count": null,
      "outputs": []
    },
    {
      "cell_type": "code",
      "metadata": {
        "id": "RyDSZVATz2Pw"
      },
      "source": [
        "all_data = pd.read_csv(\"/content/drive/MyDrive/7AllMerged.csv\")\n",
        "data = all_data.drop('videos', axis = 1)"
      ],
      "execution_count": null,
      "outputs": []
    },
    {
      "cell_type": "code",
      "metadata": {
        "id": "rxoQsqyl-sC-"
      },
      "source": [
        "import pandas as pd\n",
        "from sklearn.model_selection import KFold \n",
        "from sklearn.neural_network import MLPClassifier\n",
        "from sklearn.metrics import accuracy_score\n",
        "\n",
        "#Loading the dataset\n",
        "def svmclassifier(channel_name):\n",
        "  channel_names = []\n",
        "  for i in range(0, len(channel_name)):\n",
        "    draft = channel_name[i]\n",
        "    channel_names.append(draft + \"Alpha\")\n",
        "    channel_names.append(draft + \"Beta\")\n",
        "    channel_names.append(draft + \"Gamma\")\n",
        "    channel_names.append(draft + \"Theta\")\n",
        "  x = data[channel_names]\n",
        "  y = np.array(em_labels)\n",
        "\n",
        "  # Implementing cross validation\n",
        "  k = 10\n",
        "  kf = KFold(n_splits = k)\n",
        "\n",
        "  model = svm.SVC(kernel='poly')\n",
        "  acc_score = []\n",
        "\n",
        "  for train_index , test_index in kf.split(x):\n",
        "      x_train , x_test = x.iloc[train_index,:],x.iloc[test_index,:]\n",
        "      y_train , y_test = y[train_index] , y[test_index]\n",
        "      model.fit(x_train, y_train)\n",
        "      pred_values = model.predict(x_test)\n",
        "      acc = accuracy_score(pred_values , y_test)\n",
        "      acc_score.append(acc)\n",
        "\n",
        "  avg_acc_score = sum(acc_score)/k\n",
        "  #print('accuracy of each fold - {}'.format(acc_score))\n",
        "  print('Avg accuracy : {}'.format(avg_acc_score))"
      ],
      "execution_count": null,
      "outputs": []
    },
    {
      "cell_type": "code",
      "metadata": {
        "colab": {
          "base_uri": "https://localhost:8080/"
        },
        "id": "dVWbJk9d6nXf",
        "outputId": "8270f940-dc53-4c99-9efc-26ae06038b93"
      },
      "source": [
        "svmclassifier([\"P7\"])"
      ],
      "execution_count": null,
      "outputs": [
        {
          "output_type": "stream",
          "name": "stdout",
          "text": [
            "Avg accuracy : 0.575\n"
          ]
        }
      ]
    },
    {
      "cell_type": "code",
      "metadata": {
        "colab": {
          "base_uri": "https://localhost:8080/"
        },
        "id": "sRWJudTJ7Gf9",
        "outputId": "05e57b13-bf9e-494c-80d1-3b581c24a940"
      },
      "source": [
        "svmclassifier([\"P7\", \"P3\"])"
      ],
      "execution_count": null,
      "outputs": [
        {
          "output_type": "stream",
          "name": "stdout",
          "text": [
            "Avg accuracy : 0.625\n"
          ]
        }
      ]
    },
    {
      "cell_type": "code",
      "metadata": {
        "colab": {
          "base_uri": "https://localhost:8080/"
        },
        "id": "SNPc-UdF7V3z",
        "outputId": "2b0f3891-aec5-4c95-a3c4-554bd3abb63a"
      },
      "source": [
        "svmclassifier([\"P7\", \"P3\", \"F3\"])"
      ],
      "execution_count": null,
      "outputs": [
        {
          "output_type": "stream",
          "name": "stdout",
          "text": [
            "Avg accuracy : 0.65\n"
          ]
        }
      ]
    },
    {
      "cell_type": "code",
      "metadata": {
        "colab": {
          "base_uri": "https://localhost:8080/"
        },
        "id": "p2lIplKV7pz0",
        "outputId": "0a6c4f3c-f507-4f93-c118-6bcbd7342bb1"
      },
      "source": [
        "svmclassifier([\"P7\", \"P3\", \"F3\", \"AF3\"])"
      ],
      "execution_count": null,
      "outputs": [
        {
          "output_type": "stream",
          "name": "stdout",
          "text": [
            "Avg accuracy : 0.7\n"
          ]
        }
      ]
    },
    {
      "cell_type": "code",
      "metadata": {
        "colab": {
          "base_uri": "https://localhost:8080/"
        },
        "id": "n-zfq7Cw7qYZ",
        "outputId": "12f8ba79-9f39-41c2-ef3a-80948872b1ac"
      },
      "source": [
        "svmclassifier([\"P7\", \"P3\", \"F3\", \"AF3\", \"Fp2\"])"
      ],
      "execution_count": null,
      "outputs": [
        {
          "output_type": "stream",
          "name": "stdout",
          "text": [
            "Avg accuracy : 0.7\n"
          ]
        }
      ]
    },
    {
      "cell_type": "code",
      "metadata": {
        "colab": {
          "base_uri": "https://localhost:8080/"
        },
        "id": "hpXC6LNZ7qbz",
        "outputId": "e1d97fb9-4443-47f0-e659-5cd0bf3f51be"
      },
      "source": [
        "svmclassifier([\"P7\", \"P3\", \"F3\", \"AF3\", \"Fp2\", \"AF4\"])"
      ],
      "execution_count": null,
      "outputs": [
        {
          "output_type": "stream",
          "name": "stdout",
          "text": [
            "Avg accuracy : 0.7\n"
          ]
        }
      ]
    },
    {
      "cell_type": "code",
      "metadata": {
        "colab": {
          "base_uri": "https://localhost:8080/"
        },
        "id": "1UEVteo47qd8",
        "outputId": "8e50043f-95d9-479a-fc3d-124f89d67c6f"
      },
      "source": [
        "svmclassifier([\"P7\", \"P3\", \"F3\", \"AF3\", \"Fp2\", \"AF4\", \"C4\"])"
      ],
      "execution_count": null,
      "outputs": [
        {
          "output_type": "stream",
          "name": "stdout",
          "text": [
            "Avg accuracy : 0.7\n"
          ]
        }
      ]
    }
  ]
}